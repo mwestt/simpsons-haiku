{
 "cells": [
  {
   "cell_type": "markdown",
   "metadata": {},
   "source": [
    "# Simpsons Haiku Demo \n",
    "## [@SimpsonsHaiku](https://twitter.com/SimpsonsHaiku)\n",
    "\n",
    "For anyone who knows me, they'll attest that The Simpsons has had an undue impact on my life, being formative through my early years and enduring to the present moment. That contribution spanned curating a sense of humour deeply anchored in an appreciation for the surreal, a continued love of animation, or exposure to the depths of obscure Americana (thank you, John Swartwzelder).\n",
    "\n",
    "This notebook demonstrates the implementation of an idea I had long ago, inspired by [@nythaikus](https://twitter.com/nythaikus). The dataset used here is hosted [on Kaggle here](https://www.kaggle.com/datasets/prashant111/the-simpsons-dataset), and was originally scraped by [Todd Schneider](https://toddwschneider.com/posts/the-simpsons-by-the-data/), covering the first 26 seasons. We start by loading the core haiku object, of class `SimpsonsHaiku`, and extracting a DataFrame of haikus."
   ]
  },
  {
   "cell_type": "code",
   "execution_count": 1,
   "metadata": {},
   "outputs": [],
   "source": [
    "# Run this cell to download code and install dependences if running in Google Colab\n",
    "# !git clone https://github.com/mwestt/simpsons-haiku.git\n",
    "# %cd simpsons-haiku\n",
    "# %cat requirements.txt | xargs -n 1 pip install"
   ]
  },
  {
   "cell_type": "code",
   "execution_count": 2,
   "metadata": {},
   "outputs": [
    {
     "name": "stderr",
     "output_type": "stream",
     "text": [
      "[nltk_data] Downloading package cmudict to\n",
      "[nltk_data]     C:\\Users\\i_can\\AppData\\Roaming\\nltk_data...\n",
      "[nltk_data]   Package cmudict is already up-to-date!\n"
     ]
    },
    {
     "data": {
      "text/plain": [
       "True"
      ]
     },
     "execution_count": 2,
     "metadata": {},
     "output_type": "execute_result"
    }
   ],
   "source": [
    "import compuglobal\n",
    "import matplotlib.pyplot as plt\n",
    "from haiku import *\n",
    "\n",
    "import nltk\n",
    "nltk.download('cmudict')"
   ]
  },
  {
   "cell_type": "code",
   "execution_count": 3,
   "metadata": {},
   "outputs": [
    {
     "name": "stderr",
     "output_type": "stream",
     "text": [
      "100%|███████████████████████████████████████████████████████████████████████| 400610/400610 [00:12<00:00, 31207.79it/s]\n"
     ]
    }
   ],
   "source": [
    "simpsons_haiku = SimpsonsHaiku()"
   ]
  },
  {
   "cell_type": "code",
   "execution_count": 4,
   "metadata": {},
   "outputs": [
    {
     "name": "stderr",
     "output_type": "stream",
     "text": [
      "100%|█████████████████████████████████████████████████████████████████████████| 224492/224492 [22:18<00:00, 167.68it/s]\n",
      "100%|██████████████████████████████████████████████████████████████████████████| 30143/30143 [00:03<00:00, 9926.83it/s]\n"
     ]
    }
   ],
   "source": [
    "# Generate haiku_df, will do so from scratch here but will load from path if it is passed when instantiating SimpsonsHaiku object\n",
    "haiku_df = simpsons_haiku.generate_haiku_df(save=True)"
   ]
  },
  {
   "cell_type": "code",
   "execution_count": 5,
   "metadata": {},
   "outputs": [
    {
     "name": "stdout",
     "output_type": "stream",
     "text": [
      "[12, 5], S03E14\n",
      "The Dallas Cowboys\n",
      "wins Super Bowl twenty nine\n",
      "I guess you love dad\n"
     ]
    }
   ],
   "source": [
    "# Subsequent calls will use the object's already-defined `haiku_df` attribute\n",
    "haiku, metadata = simpsons_haiku.generate_haiku()\n",
    "print('{}, S{:02d}E{:02d}'.format(metadata['n_syllables'].values[0], metadata['season'].values[0], metadata['number_in_season'].values[0]))\n",
    "print(haiku)"
   ]
  },
  {
   "cell_type": "markdown",
   "metadata": {},
   "source": [
    "## Exploratory data analysis\n",
    "\n",
    "Have you ever wondered which season of The Simpsons had the most haikus? How the average syllable-per-word count trended over the seasons? The maxiumum number of characters that contribute to a 17-syllable sequence of dialogue?  Well here's the notebook section for you!  "
   ]
  },
  {
   "cell_type": "code",
   "execution_count": 6,
   "metadata": {},
   "outputs": [
    {
     "data": {
      "text/html": [
       "<div>\n",
       "<style scoped>\n",
       "    .dataframe tbody tr th:only-of-type {\n",
       "        vertical-align: middle;\n",
       "    }\n",
       "\n",
       "    .dataframe tbody tr th {\n",
       "        vertical-align: top;\n",
       "    }\n",
       "\n",
       "    .dataframe thead th {\n",
       "        text-align: right;\n",
       "    }\n",
       "</style>\n",
       "<table border=\"1\" class=\"dataframe\">\n",
       "  <thead>\n",
       "    <tr style=\"text-align: right;\">\n",
       "      <th></th>\n",
       "      <th>id_x</th>\n",
       "      <th>number</th>\n",
       "      <th>raw_text</th>\n",
       "      <th>timestamp_in_ms</th>\n",
       "      <th>speaking_line</th>\n",
       "      <th>character_id</th>\n",
       "      <th>location_id</th>\n",
       "      <th>raw_character_text</th>\n",
       "      <th>raw_location_text</th>\n",
       "      <th>spoken_words</th>\n",
       "      <th>normalized_text</th>\n",
       "      <th>word_count</th>\n",
       "      <th>id_y</th>\n",
       "      <th>title</th>\n",
       "      <th>season</th>\n",
       "      <th>number_in_season</th>\n",
       "      <th>spoken_words_split</th>\n",
       "      <th>number_in_line</th>\n",
       "      <th>n_syllables</th>\n",
       "      <th>n_lines</th>\n",
       "    </tr>\n",
       "    <tr>\n",
       "      <th>episode_id</th>\n",
       "      <th></th>\n",
       "      <th></th>\n",
       "      <th></th>\n",
       "      <th></th>\n",
       "      <th></th>\n",
       "      <th></th>\n",
       "      <th></th>\n",
       "      <th></th>\n",
       "      <th></th>\n",
       "      <th></th>\n",
       "      <th></th>\n",
       "      <th></th>\n",
       "      <th></th>\n",
       "      <th></th>\n",
       "      <th></th>\n",
       "      <th></th>\n",
       "      <th></th>\n",
       "      <th></th>\n",
       "      <th></th>\n",
       "      <th></th>\n",
       "    </tr>\n",
       "  </thead>\n",
       "  <tbody>\n",
       "    <tr>\n",
       "      <th>195</th>\n",
       "      <td>[54908, 54908, 54908, 54909, 54909, 54909, 549...</td>\n",
       "      <td>[135, 135, 135, 136, 136, 136, 136, 136, 136, ...</td>\n",
       "      <td>[Bart Simpson: Yes! Heh, heh! / Ha! Ha! / Woo ...</td>\n",
       "      <td>[629000, 629000, 629000, 639000, 639000, 63900...</td>\n",
       "      <td>[True, True, True, True, True, True, True, Tru...</td>\n",
       "      <td>[8.0, 8.0, 8.0, 8.0, 8.0, 8.0, 8.0, 8.0, 8.0, ...</td>\n",
       "      <td>[5.0, 5.0, 5.0, 5.0, 5.0, 5.0, 5.0, 5.0, 5.0, ...</td>\n",
       "      <td>[Bart Simpson, Bart Simpson, Bart Simpson, Bar...</td>\n",
       "      <td>[Simpson Home, Simpson Home, Simpson Home, Sim...</td>\n",
       "      <td>[Yes! Heh, heh! / Ha! Ha! / Woo hoo hoo heh he...</td>\n",
       "      <td>[yes heh heh ha ha woo hoo hoo heh heh woo oh ...</td>\n",
       "      <td>[13, 13, 13, 11, 11, 11, 11, 11, 11, 11, 11, 1...</td>\n",
       "      <td>[195, 195, 195, 195, 195, 195, 195, 195, 195, ...</td>\n",
       "      <td>Lisa the Simpson</td>\n",
       "      <td>9</td>\n",
       "      <td>17</td>\n",
       "      <td>Woo  Oh  Oh Yeah  Ha  Ha  Ha  Ha  Ha  Ha  Ha ...</td>\n",
       "      <td>[9, 11, 12, 1, 2, 3, 4, 5, 6, 7, 9, 10, 11, 1,...</td>\n",
       "      <td>[1, 1, 1, 1, 1, 1, 1, 1, 1, 1, 1, 1, 2, 1, 1, 1]</td>\n",
       "      <td>16</td>\n",
       "    </tr>\n",
       "    <tr>\n",
       "      <th>195</th>\n",
       "      <td>[54908, 54908, 54909, 54909, 54909, 54909, 549...</td>\n",
       "      <td>[135, 135, 136, 136, 136, 136, 136, 136, 136, ...</td>\n",
       "      <td>[Bart Simpson: Yes! Heh, heh! / Ha! Ha! / Woo ...</td>\n",
       "      <td>[629000, 629000, 639000, 639000, 639000, 63900...</td>\n",
       "      <td>[True, True, True, True, True, True, True, Tru...</td>\n",
       "      <td>[8.0, 8.0, 8.0, 8.0, 8.0, 8.0, 8.0, 8.0, 8.0, ...</td>\n",
       "      <td>[5.0, 5.0, 5.0, 5.0, 5.0, 5.0, 5.0, 5.0, 5.0, ...</td>\n",
       "      <td>[Bart Simpson, Bart Simpson, Bart Simpson, Bar...</td>\n",
       "      <td>[Simpson Home, Simpson Home, Simpson Home, Sim...</td>\n",
       "      <td>[Yes! Heh, heh! / Ha! Ha! / Woo hoo hoo heh he...</td>\n",
       "      <td>[yes heh heh ha ha woo hoo hoo heh heh woo oh ...</td>\n",
       "      <td>[13, 13, 11, 11, 11, 11, 11, 11, 11, 11, 11, 1...</td>\n",
       "      <td>[195, 195, 195, 195, 195, 195, 195, 195, 195, ...</td>\n",
       "      <td>Lisa the Simpson</td>\n",
       "      <td>9</td>\n",
       "      <td>17</td>\n",
       "      <td>Oh  Oh Yeah  Ha  Ha  Ha  Ha  Ha  Ha  Ha  Ha  ...</td>\n",
       "      <td>[11, 12, 1, 2, 3, 4, 5, 6, 7, 9, 10, 11, 1, 2,...</td>\n",
       "      <td>[1, 1, 1, 1, 1, 1, 1, 1, 1, 1, 1, 2, 1, 1, 1, 1]</td>\n",
       "      <td>16</td>\n",
       "    </tr>\n",
       "    <tr>\n",
       "      <th>195</th>\n",
       "      <td>[54908, 54909, 54909, 54909, 54909, 54909, 549...</td>\n",
       "      <td>[135, 136, 136, 136, 136, 136, 136, 136, 136, ...</td>\n",
       "      <td>[Bart Simpson: Yes! Heh, heh! / Ha! Ha! / Woo ...</td>\n",
       "      <td>[629000, 639000, 639000, 639000, 639000, 63900...</td>\n",
       "      <td>[True, True, True, True, True, True, True, Tru...</td>\n",
       "      <td>[8.0, 8.0, 8.0, 8.0, 8.0, 8.0, 8.0, 8.0, 8.0, ...</td>\n",
       "      <td>[5.0, 5.0, 5.0, 5.0, 5.0, 5.0, 5.0, 5.0, 5.0, ...</td>\n",
       "      <td>[Bart Simpson, Bart Simpson, Bart Simpson, Bar...</td>\n",
       "      <td>[Simpson Home, Simpson Home, Simpson Home, Sim...</td>\n",
       "      <td>[Yes! Heh, heh! / Ha! Ha! / Woo hoo hoo heh he...</td>\n",
       "      <td>[yes heh heh ha ha woo hoo hoo heh heh woo oh ...</td>\n",
       "      <td>[13, 11, 11, 11, 11, 11, 11, 11, 11, 11, 11, 1...</td>\n",
       "      <td>[195, 195, 195, 195, 195, 195, 195, 195, 195, ...</td>\n",
       "      <td>Lisa the Simpson</td>\n",
       "      <td>9</td>\n",
       "      <td>17</td>\n",
       "      <td>Oh Yeah  Ha  Ha  Ha  Ha  Ha  Ha  Ha  Ha  All ...</td>\n",
       "      <td>[12, 1, 2, 3, 4, 5, 6, 7, 9, 10, 11, 1, 2, 3, ...</td>\n",
       "      <td>[1, 1, 1, 1, 1, 1, 1, 1, 1, 1, 2, 1, 1, 1, 1, 1]</td>\n",
       "      <td>16</td>\n",
       "    </tr>\n",
       "  </tbody>\n",
       "</table>\n",
       "</div>"
      ],
      "text/plain": [
       "                                                         id_x  \\\n",
       "episode_id                                                      \n",
       "195         [54908, 54908, 54908, 54909, 54909, 54909, 549...   \n",
       "195         [54908, 54908, 54909, 54909, 54909, 54909, 549...   \n",
       "195         [54908, 54909, 54909, 54909, 54909, 54909, 549...   \n",
       "\n",
       "                                                       number  \\\n",
       "episode_id                                                      \n",
       "195         [135, 135, 135, 136, 136, 136, 136, 136, 136, ...   \n",
       "195         [135, 135, 136, 136, 136, 136, 136, 136, 136, ...   \n",
       "195         [135, 136, 136, 136, 136, 136, 136, 136, 136, ...   \n",
       "\n",
       "                                                     raw_text  \\\n",
       "episode_id                                                      \n",
       "195         [Bart Simpson: Yes! Heh, heh! / Ha! Ha! / Woo ...   \n",
       "195         [Bart Simpson: Yes! Heh, heh! / Ha! Ha! / Woo ...   \n",
       "195         [Bart Simpson: Yes! Heh, heh! / Ha! Ha! / Woo ...   \n",
       "\n",
       "                                              timestamp_in_ms  \\\n",
       "episode_id                                                      \n",
       "195         [629000, 629000, 629000, 639000, 639000, 63900...   \n",
       "195         [629000, 629000, 639000, 639000, 639000, 63900...   \n",
       "195         [629000, 639000, 639000, 639000, 639000, 63900...   \n",
       "\n",
       "                                                speaking_line  \\\n",
       "episode_id                                                      \n",
       "195         [True, True, True, True, True, True, True, Tru...   \n",
       "195         [True, True, True, True, True, True, True, Tru...   \n",
       "195         [True, True, True, True, True, True, True, Tru...   \n",
       "\n",
       "                                                 character_id  \\\n",
       "episode_id                                                      \n",
       "195         [8.0, 8.0, 8.0, 8.0, 8.0, 8.0, 8.0, 8.0, 8.0, ...   \n",
       "195         [8.0, 8.0, 8.0, 8.0, 8.0, 8.0, 8.0, 8.0, 8.0, ...   \n",
       "195         [8.0, 8.0, 8.0, 8.0, 8.0, 8.0, 8.0, 8.0, 8.0, ...   \n",
       "\n",
       "                                                  location_id  \\\n",
       "episode_id                                                      \n",
       "195         [5.0, 5.0, 5.0, 5.0, 5.0, 5.0, 5.0, 5.0, 5.0, ...   \n",
       "195         [5.0, 5.0, 5.0, 5.0, 5.0, 5.0, 5.0, 5.0, 5.0, ...   \n",
       "195         [5.0, 5.0, 5.0, 5.0, 5.0, 5.0, 5.0, 5.0, 5.0, ...   \n",
       "\n",
       "                                           raw_character_text  \\\n",
       "episode_id                                                      \n",
       "195         [Bart Simpson, Bart Simpson, Bart Simpson, Bar...   \n",
       "195         [Bart Simpson, Bart Simpson, Bart Simpson, Bar...   \n",
       "195         [Bart Simpson, Bart Simpson, Bart Simpson, Bar...   \n",
       "\n",
       "                                            raw_location_text  \\\n",
       "episode_id                                                      \n",
       "195         [Simpson Home, Simpson Home, Simpson Home, Sim...   \n",
       "195         [Simpson Home, Simpson Home, Simpson Home, Sim...   \n",
       "195         [Simpson Home, Simpson Home, Simpson Home, Sim...   \n",
       "\n",
       "                                                 spoken_words  \\\n",
       "episode_id                                                      \n",
       "195         [Yes! Heh, heh! / Ha! Ha! / Woo hoo hoo heh he...   \n",
       "195         [Yes! Heh, heh! / Ha! Ha! / Woo hoo hoo heh he...   \n",
       "195         [Yes! Heh, heh! / Ha! Ha! / Woo hoo hoo heh he...   \n",
       "\n",
       "                                              normalized_text  \\\n",
       "episode_id                                                      \n",
       "195         [yes heh heh ha ha woo hoo hoo heh heh woo oh ...   \n",
       "195         [yes heh heh ha ha woo hoo hoo heh heh woo oh ...   \n",
       "195         [yes heh heh ha ha woo hoo hoo heh heh woo oh ...   \n",
       "\n",
       "                                                   word_count  \\\n",
       "episode_id                                                      \n",
       "195         [13, 13, 13, 11, 11, 11, 11, 11, 11, 11, 11, 1...   \n",
       "195         [13, 13, 11, 11, 11, 11, 11, 11, 11, 11, 11, 1...   \n",
       "195         [13, 11, 11, 11, 11, 11, 11, 11, 11, 11, 11, 1...   \n",
       "\n",
       "                                                         id_y  \\\n",
       "episode_id                                                      \n",
       "195         [195, 195, 195, 195, 195, 195, 195, 195, 195, ...   \n",
       "195         [195, 195, 195, 195, 195, 195, 195, 195, 195, ...   \n",
       "195         [195, 195, 195, 195, 195, 195, 195, 195, 195, ...   \n",
       "\n",
       "                       title  season  number_in_season  \\\n",
       "episode_id                                               \n",
       "195         Lisa the Simpson       9                17   \n",
       "195         Lisa the Simpson       9                17   \n",
       "195         Lisa the Simpson       9                17   \n",
       "\n",
       "                                           spoken_words_split  \\\n",
       "episode_id                                                      \n",
       "195          Woo  Oh  Oh Yeah  Ha  Ha  Ha  Ha  Ha  Ha  Ha ...   \n",
       "195          Oh  Oh Yeah  Ha  Ha  Ha  Ha  Ha  Ha  Ha  Ha  ...   \n",
       "195          Oh Yeah  Ha  Ha  Ha  Ha  Ha  Ha  Ha  Ha  All ...   \n",
       "\n",
       "                                               number_in_line  \\\n",
       "episode_id                                                      \n",
       "195         [9, 11, 12, 1, 2, 3, 4, 5, 6, 7, 9, 10, 11, 1,...   \n",
       "195         [11, 12, 1, 2, 3, 4, 5, 6, 7, 9, 10, 11, 1, 2,...   \n",
       "195         [12, 1, 2, 3, 4, 5, 6, 7, 9, 10, 11, 1, 2, 3, ...   \n",
       "\n",
       "                                                 n_syllables  n_lines  \n",
       "episode_id                                                             \n",
       "195         [1, 1, 1, 1, 1, 1, 1, 1, 1, 1, 1, 1, 2, 1, 1, 1]       16  \n",
       "195         [1, 1, 1, 1, 1, 1, 1, 1, 1, 1, 1, 2, 1, 1, 1, 1]       16  \n",
       "195         [1, 1, 1, 1, 1, 1, 1, 1, 1, 1, 2, 1, 1, 1, 1, 1]       16  "
      ]
     },
     "execution_count": 6,
     "metadata": {},
     "output_type": "execute_result"
    }
   ],
   "source": [
    "# Max number of lines of dialogue in a 17-syllable sequence? It's 16 (Lisa the Simpson)\n",
    "haiku_df['n_lines'] = haiku_df.number.apply(len)\n",
    "haiku_df[haiku_df.n_lines == haiku_df.n_lines.max()]"
   ]
  },
  {
   "cell_type": "code",
   "execution_count": 7,
   "metadata": {},
   "outputs": [
    {
     "data": {
      "text/html": [
       "<div>\n",
       "<style scoped>\n",
       "    .dataframe tbody tr th:only-of-type {\n",
       "        vertical-align: middle;\n",
       "    }\n",
       "\n",
       "    .dataframe tbody tr th {\n",
       "        vertical-align: top;\n",
       "    }\n",
       "\n",
       "    .dataframe thead th {\n",
       "        text-align: right;\n",
       "    }\n",
       "</style>\n",
       "<table border=\"1\" class=\"dataframe\">\n",
       "  <thead>\n",
       "    <tr style=\"text-align: right;\">\n",
       "      <th></th>\n",
       "      <th>id_x</th>\n",
       "      <th>number</th>\n",
       "      <th>raw_text</th>\n",
       "      <th>timestamp_in_ms</th>\n",
       "      <th>speaking_line</th>\n",
       "      <th>character_id</th>\n",
       "      <th>location_id</th>\n",
       "      <th>raw_character_text</th>\n",
       "      <th>raw_location_text</th>\n",
       "      <th>spoken_words</th>\n",
       "      <th>...</th>\n",
       "      <th>word_count</th>\n",
       "      <th>id_y</th>\n",
       "      <th>title</th>\n",
       "      <th>season</th>\n",
       "      <th>number_in_season</th>\n",
       "      <th>spoken_words_split</th>\n",
       "      <th>number_in_line</th>\n",
       "      <th>n_syllables</th>\n",
       "      <th>n_lines</th>\n",
       "      <th>n_characters</th>\n",
       "    </tr>\n",
       "    <tr>\n",
       "      <th>episode_id</th>\n",
       "      <th></th>\n",
       "      <th></th>\n",
       "      <th></th>\n",
       "      <th></th>\n",
       "      <th></th>\n",
       "      <th></th>\n",
       "      <th></th>\n",
       "      <th></th>\n",
       "      <th></th>\n",
       "      <th></th>\n",
       "      <th></th>\n",
       "      <th></th>\n",
       "      <th></th>\n",
       "      <th></th>\n",
       "      <th></th>\n",
       "      <th></th>\n",
       "      <th></th>\n",
       "      <th></th>\n",
       "      <th></th>\n",
       "      <th></th>\n",
       "      <th></th>\n",
       "    </tr>\n",
       "  </thead>\n",
       "  <tbody>\n",
       "    <tr>\n",
       "      <th>134</th>\n",
       "      <td>[38660, 38661, 38662, 38663, 38664, 38665, 386...</td>\n",
       "      <td>[223, 224, 225, 226, 227, 228, 229, 230, 231, ...</td>\n",
       "      <td>[Marge Simpson: No., Bart Simpson: No., Patty ...</td>\n",
       "      <td>[1105000, 1106000, 1106000, 1106000, 1107000, ...</td>\n",
       "      <td>[True, True, True, True, True, True, True, Tru...</td>\n",
       "      <td>[1.0, 8.0, 10.0, 71.0, 11.0, 22.0, 442.0, 140....</td>\n",
       "      <td>[5.0, 5.0, 5.0, 5.0, 5.0, 5.0, 5.0, 5.0, 5.0, ...</td>\n",
       "      <td>[Marge Simpson, Bart Simpson, Patty Bouvier, C...</td>\n",
       "      <td>[Simpson Home, Simpson Home, Simpson Home, Sim...</td>\n",
       "      <td>[No., No., No., No., No., No., No., No., Yes. ...</td>\n",
       "      <td>...</td>\n",
       "      <td>[1, 1, 1, 1, 1, 1, 1, 1, 5, 5, 5, 4]</td>\n",
       "      <td>[134, 134, 134, 134, 134, 134, 134, 134, 134, ...</td>\n",
       "      <td>Treehouse of Horror VI</td>\n",
       "      <td>7</td>\n",
       "      <td>6</td>\n",
       "      <td>No No No No No No No No Yes  I mean no  No Wel...</td>\n",
       "      <td>[1, 1, 1, 1, 1, 1, 1, 1, 1, 2, 3, 1]</td>\n",
       "      <td>[1, 1, 1, 1, 1, 1, 1, 1, 1, 3, 1, 4]</td>\n",
       "      <td>12</td>\n",
       "      <td>9</td>\n",
       "    </tr>\n",
       "  </tbody>\n",
       "</table>\n",
       "<p>1 rows × 21 columns</p>\n",
       "</div>"
      ],
      "text/plain": [
       "                                                         id_x  \\\n",
       "episode_id                                                      \n",
       "134         [38660, 38661, 38662, 38663, 38664, 38665, 386...   \n",
       "\n",
       "                                                       number  \\\n",
       "episode_id                                                      \n",
       "134         [223, 224, 225, 226, 227, 228, 229, 230, 231, ...   \n",
       "\n",
       "                                                     raw_text  \\\n",
       "episode_id                                                      \n",
       "134         [Marge Simpson: No., Bart Simpson: No., Patty ...   \n",
       "\n",
       "                                              timestamp_in_ms  \\\n",
       "episode_id                                                      \n",
       "134         [1105000, 1106000, 1106000, 1106000, 1107000, ...   \n",
       "\n",
       "                                                speaking_line  \\\n",
       "episode_id                                                      \n",
       "134         [True, True, True, True, True, True, True, Tru...   \n",
       "\n",
       "                                                 character_id  \\\n",
       "episode_id                                                      \n",
       "134         [1.0, 8.0, 10.0, 71.0, 11.0, 22.0, 442.0, 140....   \n",
       "\n",
       "                                                  location_id  \\\n",
       "episode_id                                                      \n",
       "134         [5.0, 5.0, 5.0, 5.0, 5.0, 5.0, 5.0, 5.0, 5.0, ...   \n",
       "\n",
       "                                           raw_character_text  \\\n",
       "episode_id                                                      \n",
       "134         [Marge Simpson, Bart Simpson, Patty Bouvier, C...   \n",
       "\n",
       "                                            raw_location_text  \\\n",
       "episode_id                                                      \n",
       "134         [Simpson Home, Simpson Home, Simpson Home, Sim...   \n",
       "\n",
       "                                                 spoken_words  ...  \\\n",
       "episode_id                                                     ...   \n",
       "134         [No., No., No., No., No., No., No., No., Yes. ...  ...   \n",
       "\n",
       "                                      word_count  \\\n",
       "episode_id                                         \n",
       "134         [1, 1, 1, 1, 1, 1, 1, 1, 5, 5, 5, 4]   \n",
       "\n",
       "                                                         id_y  \\\n",
       "episode_id                                                      \n",
       "134         [134, 134, 134, 134, 134, 134, 134, 134, 134, ...   \n",
       "\n",
       "                             title season  number_in_season  \\\n",
       "episode_id                                                    \n",
       "134         Treehouse of Horror VI      7                 6   \n",
       "\n",
       "                                           spoken_words_split  \\\n",
       "episode_id                                                      \n",
       "134         No No No No No No No No Yes  I mean no  No Wel...   \n",
       "\n",
       "                                  number_in_line  \\\n",
       "episode_id                                         \n",
       "134         [1, 1, 1, 1, 1, 1, 1, 1, 1, 2, 3, 1]   \n",
       "\n",
       "                                     n_syllables n_lines  n_characters  \n",
       "episode_id                                                              \n",
       "134         [1, 1, 1, 1, 1, 1, 1, 1, 1, 3, 1, 4]      12             9  \n",
       "\n",
       "[1 rows x 21 columns]"
      ]
     },
     "execution_count": 7,
     "metadata": {},
     "output_type": "execute_result"
    }
   ],
   "source": [
    "# Max number of unique characters in a 17-syllable sequence? It's Homer 3D in Treehouse of Horror VI, with 9 characters. Did anyone see the movie Tron?\n",
    "haiku_df['n_characters'] = haiku_df.character_id.apply(lambda x: len(set(x)))\n",
    "haiku_df[haiku_df.n_characters == haiku_df.n_characters.max()]"
   ]
  },
  {
   "cell_type": "code",
   "execution_count": 8,
   "metadata": {},
   "outputs": [
    {
     "data": {
      "text/html": [
       "<div>\n",
       "<style scoped>\n",
       "    .dataframe tbody tr th:only-of-type {\n",
       "        vertical-align: middle;\n",
       "    }\n",
       "\n",
       "    .dataframe tbody tr th {\n",
       "        vertical-align: top;\n",
       "    }\n",
       "\n",
       "    .dataframe thead th {\n",
       "        text-align: right;\n",
       "    }\n",
       "</style>\n",
       "<table border=\"1\" class=\"dataframe\">\n",
       "  <thead>\n",
       "    <tr style=\"text-align: right;\">\n",
       "      <th></th>\n",
       "      <th>id_x</th>\n",
       "      <th>number</th>\n",
       "      <th>raw_text</th>\n",
       "      <th>timestamp_in_ms</th>\n",
       "      <th>speaking_line</th>\n",
       "      <th>character_id</th>\n",
       "      <th>location_id</th>\n",
       "      <th>raw_character_text</th>\n",
       "      <th>raw_location_text</th>\n",
       "      <th>spoken_words</th>\n",
       "      <th>...</th>\n",
       "      <th>id_y</th>\n",
       "      <th>title</th>\n",
       "      <th>season</th>\n",
       "      <th>number_in_season</th>\n",
       "      <th>spoken_words_split</th>\n",
       "      <th>number_in_line</th>\n",
       "      <th>n_syllables</th>\n",
       "      <th>n_lines</th>\n",
       "      <th>n_characters</th>\n",
       "      <th>n_locations</th>\n",
       "    </tr>\n",
       "    <tr>\n",
       "      <th>episode_id</th>\n",
       "      <th></th>\n",
       "      <th></th>\n",
       "      <th></th>\n",
       "      <th></th>\n",
       "      <th></th>\n",
       "      <th></th>\n",
       "      <th></th>\n",
       "      <th></th>\n",
       "      <th></th>\n",
       "      <th></th>\n",
       "      <th></th>\n",
       "      <th></th>\n",
       "      <th></th>\n",
       "      <th></th>\n",
       "      <th></th>\n",
       "      <th></th>\n",
       "      <th></th>\n",
       "      <th></th>\n",
       "      <th></th>\n",
       "      <th></th>\n",
       "      <th></th>\n",
       "    </tr>\n",
       "  </thead>\n",
       "  <tbody>\n",
       "    <tr>\n",
       "      <th>53</th>\n",
       "      <td>[16001, 16003, 16005, 16007, 16008]</td>\n",
       "      <td>[105, 107, 109, 111, 112]</td>\n",
       "      <td>[Apu Nahasapeemapetilon: (PLEASED, TO SELF) Oo...</td>\n",
       "      <td>[442000, 460000, 471000, 476000, 485000]</td>\n",
       "      <td>[True, True, True, True, True]</td>\n",
       "      <td>[208.0, 8.0, 90.0, 90.0, 91.0]</td>\n",
       "      <td>[136.0, 1.0, 585.0, 586.0, 586.0]</td>\n",
       "      <td>[Apu Nahasapeemapetilon, Bart Simpson, Eddie, ...</td>\n",
       "      <td>[Kwik-E-Mart, Street, Warehouse District, OUTD...</td>\n",
       "      <td>[Ooh, they used nylon rope this time. It feels...</td>\n",
       "      <td>...</td>\n",
       "      <td>[53, 53, 53, 53, 53]</td>\n",
       "      <td>Separate Vocations</td>\n",
       "      <td>3</td>\n",
       "      <td>18</td>\n",
       "      <td>Almost sensuous Oh, baby Damn boxes He's trap...</td>\n",
       "      <td>[3, 1, 1, 1, 1]</td>\n",
       "      <td>[5, 3, 3, 2, 4]</td>\n",
       "      <td>5</td>\n",
       "      <td>4</td>\n",
       "      <td>4</td>\n",
       "    </tr>\n",
       "    <tr>\n",
       "      <th>417</th>\n",
       "      <td>[118649, 118652, 118654, 118656]</td>\n",
       "      <td>[215, 218, 220, 222]</td>\n",
       "      <td>[Cow In Truck: (ANNOYED GRUNT, THEN) I mean (P...</td>\n",
       "      <td>[1102000, 1107000, 1108000, 1110000]</td>\n",
       "      <td>[True, True, True, True]</td>\n",
       "      <td>[5188.0, 2.0, 2.0, 1.0]</td>\n",
       "      <td>[2231.0, 3421.0, 3422.0, 102.0]</td>\n",
       "      <td>[Cow In Truck, Homer Simpson, Homer Simpson, M...</td>\n",
       "      <td>[Rural Road, TRANSPORT VEHICLE, COW SUIT, Marg...</td>\n",
       "      <td>[I mean, Okay, they bought it., Have you got L...</td>\n",
       "      <td>...</td>\n",
       "      <td>[417, 417, 417, 417]</td>\n",
       "      <td>Apocalypse Cow</td>\n",
       "      <td>19</td>\n",
       "      <td>17</td>\n",
       "      <td>I mean Okay, they bought it Have you got Lou i...</td>\n",
       "      <td>[1, 1, 1, 1]</td>\n",
       "      <td>[2, 5, 7, 3]</td>\n",
       "      <td>4</td>\n",
       "      <td>3</td>\n",
       "      <td>4</td>\n",
       "    </tr>\n",
       "  </tbody>\n",
       "</table>\n",
       "<p>2 rows × 22 columns</p>\n",
       "</div>"
      ],
      "text/plain": [
       "                                           id_x                     number  \\\n",
       "episode_id                                                                   \n",
       "53          [16001, 16003, 16005, 16007, 16008]  [105, 107, 109, 111, 112]   \n",
       "417            [118649, 118652, 118654, 118656]       [215, 218, 220, 222]   \n",
       "\n",
       "                                                     raw_text  \\\n",
       "episode_id                                                      \n",
       "53          [Apu Nahasapeemapetilon: (PLEASED, TO SELF) Oo...   \n",
       "417         [Cow In Truck: (ANNOYED GRUNT, THEN) I mean (P...   \n",
       "\n",
       "                                     timestamp_in_ms  \\\n",
       "episode_id                                             \n",
       "53          [442000, 460000, 471000, 476000, 485000]   \n",
       "417             [1102000, 1107000, 1108000, 1110000]   \n",
       "\n",
       "                             speaking_line                    character_id  \\\n",
       "episode_id                                                                   \n",
       "53          [True, True, True, True, True]  [208.0, 8.0, 90.0, 90.0, 91.0]   \n",
       "417               [True, True, True, True]         [5188.0, 2.0, 2.0, 1.0]   \n",
       "\n",
       "                                  location_id  \\\n",
       "episode_id                                      \n",
       "53          [136.0, 1.0, 585.0, 586.0, 586.0]   \n",
       "417           [2231.0, 3421.0, 3422.0, 102.0]   \n",
       "\n",
       "                                           raw_character_text  \\\n",
       "episode_id                                                      \n",
       "53          [Apu Nahasapeemapetilon, Bart Simpson, Eddie, ...   \n",
       "417         [Cow In Truck, Homer Simpson, Homer Simpson, M...   \n",
       "\n",
       "                                            raw_location_text  \\\n",
       "episode_id                                                      \n",
       "53          [Kwik-E-Mart, Street, Warehouse District, OUTD...   \n",
       "417         [Rural Road, TRANSPORT VEHICLE, COW SUIT, Marg...   \n",
       "\n",
       "                                                 spoken_words  ...  \\\n",
       "episode_id                                                     ...   \n",
       "53          [Ooh, they used nylon rope this time. It feels...  ...   \n",
       "417         [I mean, Okay, they bought it., Have you got L...  ...   \n",
       "\n",
       "                            id_y               title season number_in_season  \\\n",
       "episode_id                                                                     \n",
       "53          [53, 53, 53, 53, 53]  Separate Vocations      3               18   \n",
       "417         [417, 417, 417, 417]      Apocalypse Cow     19               17   \n",
       "\n",
       "                                           spoken_words_split  \\\n",
       "episode_id                                                      \n",
       "53           Almost sensuous Oh, baby Damn boxes He's trap...   \n",
       "417         I mean Okay, they bought it Have you got Lou i...   \n",
       "\n",
       "             number_in_line      n_syllables n_lines n_characters  n_locations  \n",
       "episode_id                                                                      \n",
       "53          [3, 1, 1, 1, 1]  [5, 3, 3, 2, 4]       5            4            4  \n",
       "417            [1, 1, 1, 1]     [2, 5, 7, 3]       4            3            4  \n",
       "\n",
       "[2 rows x 22 columns]"
      ]
     },
     "execution_count": 8,
     "metadata": {},
     "output_type": "execute_result"
    }
   ],
   "source": [
    "# How about locations?\n",
    "haiku_df['n_locations'] = haiku_df.location_id.apply(lambda x: len(set(x)))\n",
    "haiku_df[haiku_df.n_locations == haiku_df.n_locations.max()]"
   ]
  },
  {
   "cell_type": "markdown",
   "metadata": {},
   "source": [
    "### Plots"
   ]
  },
  {
   "cell_type": "code",
   "execution_count": 9,
   "metadata": {},
   "outputs": [
    {
     "data": {
      "text/plain": [
       "Text(0.5, 1.0, 'Number of haikus per season')"
      ]
     },
     "execution_count": 9,
     "metadata": {},
     "output_type": "execute_result"
    },
    {
     "data": {
      "image/png": "[encoded data removed]",
      "text/plain": [
       "<Figure size 640x480 with 1 Axes>"
      ]
     },
     "metadata": {},
     "output_type": "display_data"
    }
   ],
   "source": [
    "# Distribution by Season\n",
    "import seaborn as sns\n",
    "sns.set()\n",
    "\n",
    "haiku_df.groupby('season').count()['id_x'].plot()\n",
    "plt.title('Number of haikus per season')"
   ]
  },
  {
   "cell_type": "markdown",
   "metadata": {},
   "source": [
    "Perhaps to your surprise, season 9 is off the charts in terms of haiku content. And there is an overall trend of haikus decreasing over the years. Who knew! Looking at the top episodes in terms of haiku count:\n",
    "\n",
    "### Episodes by haiku count"
   ]
  },
  {
   "cell_type": "code",
   "execution_count": 10,
   "metadata": {},
   "outputs": [
    {
     "data": {
      "text/plain": [
       "episode_id  title                                    season  number_in_season\n",
       "9           Life on the Fast Lane                    1       9                   63\n",
       "203         Natural Born Kissers                     9       25                  61\n",
       "14          Bart Gets an \"F\"                         2       1                   60\n",
       "255         The Great Money Caper                    12      7                   59\n",
       "206         Bart the Mother                          10      3                   59\n",
       "194         Dumbbell Indemnity                       9       16                  57\n",
       "195         Lisa the Simpson                         9       17                  57\n",
       "190         Bart Carny                               9       12                  56\n",
       "196         This Little Wiggy                        9       18                  56\n",
       "33          The War of the Simpsons                  2       20                  54\n",
       "148         Bart on the Road                         7       20                  53\n",
       "201         King of the Hill                         9       23                  53\n",
       "24          One Fish, Two Fish, Blowfish, Blue Fish  2       11                  53\n",
       "228         Brother's Little Helper                  11      2                   52\n",
       "88          Bart's Inner Child                       5       7                   51\n",
       "129         Who Shot Mr. Burns? (Part Two)           7       1                   51\n",
       "35          Blood Feud                               2       22                  51\n",
       "271         The Parent Rap                           13      2                   51\n",
       "204         Lard of the Dance                        10      1                   51\n",
       "192         Das Bus                                  9       14                  50\n",
       "dtype: int64"
      ]
     },
     "execution_count": 10,
     "metadata": {},
     "output_type": "execute_result"
    }
   ],
   "source": [
    "# Which episode(s) have the most haikus?\n",
    "haiku_df.reset_index().groupby('episode_id')[['title', 'season', 'number_in_season']].value_counts().sort_values(ascending=False).head(20)"
   ]
  },
  {
   "cell_type": "code",
   "execution_count": 11,
   "metadata": {},
   "outputs": [
    {
     "data": {
      "text/plain": [
       "episode_id  title                                  season  number_in_season\n",
       "189         All Singing, All Dancing               9       11                  12\n",
       "337         All's Fair in Oven War                 16      2                   13\n",
       "286         Gump Roast                             13      17                  13\n",
       "112         Homer Badman                           6       9                   13\n",
       "543         The Man Who Grew Too Much              25      13                  14\n",
       "496         Politically Inept, with Homer Simpson  23      10                  14\n",
       "504         Beware My Cheating Bart                23      18                  15\n",
       "71          Marge vs. the Monorail                 4       12                  15\n",
       "391         Springfield Up                         18      13                  15\n",
       "556         Treehouse of Horror XXV                26      4                   15\n",
       "372         Million-Dollar Abie                    17      16                  16\n",
       "324         Margical History Tour                  15      11                  16\n",
       "394         Homerazzi                              18      16                  16\n",
       "284         Blame It on Lisa                       13      15                  16\n",
       "238         The Mansion Family                     11      12                  16\n",
       "397         Crook and Ladder                       18      19                  18\n",
       "137         Sideshow Bob's Last Gleaming           7       9                   18\n",
       "107         Itchy & Scratchy Land                  6       4                   18\n",
       "568         Sky Police                             26      16                  18\n",
       "113         Grampa vs. Sexual Inadequacy           6       10                  18\n",
       "dtype: int64"
      ]
     },
     "execution_count": 11,
     "metadata": {},
     "output_type": "execute_result"
    }
   ],
   "source": [
    "# Which episode(s) have the least haikus?\n",
    "haiku_df.reset_index().groupby('episode_id')[['title', 'season', 'number_in_season']].value_counts().sort_values(ascending=True).head(20)"
   ]
  },
  {
   "cell_type": "markdown",
   "metadata": {},
   "source": [
    "Life on the Fast Lane comes top in terms of total haiku count, and consistent with the season 9 peak in the previous graphs, many entries from this top 20 are from season 9. Other than that, I am very pleased to see Bart on the Road up here, one of my favourite episodes."
   ]
  },
  {
   "cell_type": "code",
   "execution_count": 12,
   "metadata": {},
   "outputs": [
    {
     "name": "stderr",
     "output_type": "stream",
     "text": [
      "100%|███████████████████████████████████████████████████████████████████████| 132087/132087 [00:09<00:00, 13462.99it/s]\n"
     ]
    },
    {
     "data": {
      "text/plain": [
       "<matplotlib.legend.Legend at 0x223bc21f340>"
      ]
     },
     "execution_count": 12,
     "metadata": {},
     "output_type": "execute_result"
    },
    {
     "data": {
      "image/png": "[encoded data removed]",
      "text/plain": [
       "<Figure size 640x480 with 1 Axes>"
      ]
     },
     "metadata": {},
     "output_type": "display_data"
    }
   ],
   "source": [
    "base_script = simpsons_haiku.base_script\n",
    "base_script['word_count'] = base_script.spoken_words.apply(lambda x: len(x.split()))\n",
    "base_script['n_syllables'] = base_script.spoken_words.progress_apply(simpsons_haiku.count_syllables_line)\n",
    "base_script.groupby('season')['n_syllables'].mean().plot(label='Mean syllables per line')\n",
    "base_script.groupby('season')['word_count'].mean().plot(label='Mean words per line')\n",
    "\n",
    "plt.title('Mean number of words per line by season (Original script)')\n",
    "plt.legend()"
   ]
  },
  {
   "cell_type": "code",
   "execution_count": 13,
   "metadata": {},
   "outputs": [
    {
     "data": {
      "text/plain": [
       "<AxesSubplot:title={'center':'Mean number of syllables per word by season'}, xlabel='season'>"
      ]
     },
     "execution_count": 13,
     "metadata": {},
     "output_type": "execute_result"
    },
    {
     "data": {
      "image/png": "[encoded data removed]",
      "text/plain": [
       "<Figure size 640x480 with 1 Axes>"
      ]
     },
     "metadata": {},
     "output_type": "display_data"
    }
   ],
   "source": [
    "# This the ratio of the two lines above\n",
    "plt.title('Mean number of syllables per word by season')\n",
    "(base_script.groupby('season')['n_syllables'].sum() / base_script.groupby('season')['word_count'].sum()).plot(color='g')"
   ]
  },
  {
   "cell_type": "markdown",
   "metadata": {},
   "source": [
    "So it would seem that season 7 is the most verbose, in terms of both syllables and words, as well as syllables per word."
   ]
  },
  {
   "cell_type": "code",
   "execution_count": 14,
   "metadata": {},
   "outputs": [
    {
     "data": {
      "text/plain": [
       "[17]         1644\n",
       "[9, 8]        471\n",
       "[5, 12]       471\n",
       "[10, 7]       435\n",
       "[8, 9]        431\n",
       "[12, 5]       423\n",
       "[7, 10]       412\n",
       "[11, 6]       379\n",
       "[4, 13]       326\n",
       "[6, 11]       293\n",
       "[3, 14]       239\n",
       "[13, 4]       218\n",
       "[2, 15]       208\n",
       "[15, 2]       202\n",
       "[14, 3]       191\n",
       "[5, 7, 5]     146\n",
       "[16, 1]       130\n",
       "[5, 6, 6]     119\n",
       "[5, 5, 7]     110\n",
       "[7, 5, 5]     110\n",
       "Name: n_syllables, dtype: int64"
      ]
     },
     "execution_count": 14,
     "metadata": {},
     "output_type": "execute_result"
    }
   ],
   "source": [
    "# Distribution of haikus by syllable count of constituent diaglogue lines\n",
    "haiku_df.n_syllables.value_counts().head(20)"
   ]
  },
  {
   "cell_type": "markdown",
   "metadata": {},
   "source": [
    "## Generating haikus\n",
    "This section generates haikus, demonstrating the usage of the `syllable_patterns` and `golden_age` parameters."
   ]
  },
  {
   "cell_type": "code",
   "execution_count": 15,
   "metadata": {},
   "outputs": [
    {
     "name": "stdout",
     "output_type": "stream",
     "text": [
      "[17], S04E20\n",
      "So I rode out the\n",
      "war posing as a German\n",
      "cabaret singer\n"
     ]
    }
   ],
   "source": [
    "# Higher quality haikus\n",
    "haiku, metadata = simpsons_haiku.generate_haiku(syllable_patterns=[[5,7,5], [17], [5, 12], [12, 5]], golden_age=True)\n",
    "print('{}, S{:02d}E{:02d}'.format(metadata['n_syllables'].values[0], metadata['season'].values[0], metadata['number_in_season'].values[0]))\n",
    "print(haiku)"
   ]
  },
  {
   "cell_type": "code",
   "execution_count": 16,
   "metadata": {},
   "outputs": [
    {
     "name": "stdout",
     "output_type": "stream",
     "text": [
      "[11, 6], S05E09\n",
      "You mean it ain't me\n",
      "noggin it's me peepers Well\n",
      "that's just loverly\n"
     ]
    }
   ],
   "source": [
    "# Medium quality? Two line breaks\n",
    "haiku, metadata = simpsons_haiku.generate_haiku(syllable_patterns=[[9, 8], [8, 9], [10, 7], [7, 10], [6, 11], [11, 6]], golden_age=True)\n",
    "print('{}, S{:02d}E{:02d}'.format(metadata['n_syllables'].values[0], metadata['season'].values[0], metadata['number_in_season'].values[0]))\n",
    "print(haiku)"
   ]
  },
  {
   "cell_type": "code",
   "execution_count": 17,
   "metadata": {},
   "outputs": [
    {
     "name": "stdout",
     "output_type": "stream",
     "text": [
      "[5, 5, 7], S25E01\n",
      "When what's all over\n",
      "This conversation See you\n",
      "on the other side\n"
     ]
    }
   ],
   "source": [
    "# Lower quality haikus\n",
    "haiku, metadata = simpsons_haiku.generate_haiku(syllable_patterns=[[5, 5, 7]])\n",
    "print('{}, S{:02d}E{:02d}'.format(metadata['n_syllables'].values[0], metadata['season'].values[0], metadata['number_in_season'].values[0]))\n",
    "print(haiku)"
   ]
  },
  {
   "cell_type": "markdown",
   "metadata": {},
   "source": [
    "## Appendix\n",
    "\n",
    "This section demonstrates some the functionality associated with the SimpsonsTwitterBot class, particularly querying GIFs from the Frinkiac API via the package `compuglobal`, as well as debugging."
   ]
  },
  {
   "cell_type": "code",
   "execution_count": 18,
   "metadata": {},
   "outputs": [],
   "source": [
    "from twitter import SimpsonsTwitterBot\n",
    "\n",
    "# Generate frinkiac gifs and images from a haiku - S4E17 Last Exit to Springfield\n",
    "haiku_query = \"\"\"It doesn't take a\n",
    "                 whiz to see that you're looking \n",
    "                 out for number one\"\"\"\n",
    "\n",
    "simpsons_bot = SimpsonsTwitterBot(\n",
    "        auth_dict=json.load(open('auth.json')), \n",
    "        haiku_df='haiku_df.csv'\n",
    "    )\n",
    "\n",
    "image_url, meme_url, gif_url, mp4_url = simpsons_bot.search_frinkiac(haiku_query, episode_key='S04E17')"
   ]
  },
  {
   "cell_type": "code",
   "execution_count": 19,
   "metadata": {},
   "outputs": [],
   "source": [
    "import compuglobal \n",
    "simpsons = compuglobal.Frinkiac()\n",
    "\n",
    "\n",
    "episode_key = 'S{:02d}E{:02d}'.format(metadata['season'].values[0], metadata['number_in_season'].values[0])\n",
    "\n",
    "gif_url, image_url = None, None\n",
    "search_results = simpsons.search(haiku)\n",
    "for result in search_results:\n",
    "    if result.key == episode_key:\n",
    "        screencap = simpsons.get_screencap(result.key, \n",
    "                                           result.timestamp)\n",
    "        image_url = screencap.get_image_url()\n",
    "        gif_url = screencap.get_gif_url()\n",
    "        \n",
    "        break"
   ]
  },
  {
   "cell_type": "code",
   "execution_count": 20,
   "metadata": {},
   "outputs": [],
   "source": [
    "image_url"
   ]
  },
  {
   "cell_type": "code",
   "execution_count": 21,
   "metadata": {},
   "outputs": [],
   "source": [
    "gif_url"
   ]
  },
  {
   "cell_type": "code",
   "execution_count": 22,
   "metadata": {},
   "outputs": [
    {
     "data": {
      "text/plain": [
       "'https://frinkiac.com/mp4/S04E17/824156/831046.mp4?b64lines=IEFORCBJIFdBTlQgVE8gVEFLRSBUSEUKIFBSRVNTVVJFIE9GRi4='"
      ]
     },
     "execution_count": 22,
     "metadata": {},
     "output_type": "execute_result"
    }
   ],
   "source": [
    "mp4_url"
   ]
  },
  {
   "cell_type": "code",
   "execution_count": 23,
   "metadata": {},
   "outputs": [
    {
     "name": "stdout",
     "output_type": "stream",
     "text": [
      "What 1\n",
      "is 1\n",
      "it 1\n",
      "sweetie 2\n",
      "Nelson's 2\n",
      "a 1\n",
      "great 1\n",
      "quarterback 3\n",
      "He's 1\n",
      "carryin' 3\n",
      "this 1\n",
      "team 1\n"
     ]
    }
   ],
   "source": [
    "# Check syllable counts\n",
    "for word in \"What is it sweetie Nelson's a great quarterback He's carryin' this team\".split():\n",
    "    print(word, simpsons_haiku.num_syllables(word))"
   ]
  },
  {
   "cell_type": "code",
   "execution_count": 24,
   "metadata": {},
   "outputs": [
    {
     "data": {
      "text/plain": [
       "array([\"You know, we've had a lot of fun tonight at the expense of the U.S. Navy...\"],\n",
       "      dtype=object)"
      ]
     },
     "execution_count": 24,
     "metadata": {},
     "output_type": "execute_result"
    }
   ],
   "source": [
    "# Search script for line - used in debugging\n",
    "def fun(x):\n",
    "    if isinstance(x, float):\n",
    "        return False\n",
    "    else:\n",
    "        return \"we've had a lot of fun tonight at the expense\" in x\n",
    "    \n",
    "base_script[base_script.spoken_words.apply(fun)].spoken_words.values"
   ]
  },
  {
   "cell_type": "code",
   "execution_count": 25,
   "metadata": {},
   "outputs": [
    {
     "name": "stdout",
     "output_type": "stream",
     "text": [
      "Oh sorry I saw\n",
      "a convertible You were\n",
      "saying Forget it\n",
      " \n",
      "[10, 4, 3]\n",
      " \n",
      "I wish you'd come to\n",
      "my party Apu You could\n",
      "use some merriment\n",
      " \n",
      "[10, 7]\n",
      " \n",
      "99 Quick Quick\n",
      "No time to cook them they will\n",
      "plump in my stomach\n",
      " \n",
      "[3, 1, 1, 12]\n",
      " \n",
      "No time to cook them\n",
      "they will plump in my stomach\n",
      "Helloo beautiful\n",
      " \n",
      "[12, 5]\n",
      " \n",
      "Ooh ooh ooh I love\n",
      "this song Let us boogie I\n",
      "AM A FREAK A ZOID\n",
      " \n",
      "[7, 4, 6]\n",
      " \n",
      "Oh Sanjay never\n",
      "have I partied so hearty\n",
      "Same time next year ya\n",
      " \n",
      "[12, 5]\n",
      " \n",
      "Can I recycle\n",
      "it Why not Waaa Uhh There's gum\n",
      "in my hair Mo om\n",
      " \n",
      "[6, 2, 1, 1, 5, 2]\n",
      " \n",
      "There's gum in my hair\n",
      "Mo om Someone threw gum in\n",
      "my hair Are you sure\n",
      " \n",
      "[5, 2, 7, 3]\n",
      " \n",
      "That washes right out\n",
      "No it's somebody's gross gum\n",
      "Get it out Ow Ow\n",
      " \n",
      "[5, 7, 3, 1, 1]\n",
      " \n",
      "They cause me to um\n",
      "die But we're running out of\n",
      "forward momentum\n",
      " \n",
      "[6, 11]\n",
      " \n",
      "I can try to bat\n",
      "him off if you like Really\n",
      "that's oka Aaaggh\n",
      " \n",
      "[10, 7]\n",
      " \n",
      "Really that's oka\n",
      "Aaaggh Holy cats man we're\n",
      "starting to wobble\n",
      " \n",
      "[7, 10]\n",
      " \n",
      "Holy cats man we're\n",
      "starting to wobble Get me\n",
      "to a hospital\n",
      " \n",
      "[10, 2, 5]\n",
      " \n",
      "SKI I NER WITH HIS\n",
      "CRAZY EXPLANATIONS THE\n",
      "SUPERINTENDENT'S\n",
      " \n",
      "[3, 8, 6]\n",
      " \n",
      "Care to join me Why\n",
      "is there smoke coming out of\n",
      "your oven Seymour\n",
      " \n",
      "[4, 13]\n",
      " \n",
      "And you call them steamed\n",
      "hams despite the fact they are\n",
      "obviously grilled\n",
      " \n",
      "[17]\n",
      " \n",
      "Y you know one thing\n",
      "I sho Excuse me for one\n",
      "second Of course Ahh\n",
      " \n",
      "[1, 2, 4, 7, 2, 1]\n",
      " \n",
      "At this time of year\n",
      "At this time of day In this\n",
      "part of the country\n",
      " \n",
      "[5, 5, 7]\n",
      " \n",
      "Seymour the house is\n",
      "on fire No Mother it's\n",
      "just the Northern Lights\n",
      " \n",
      "[8, 9]\n",
      " \n",
      "Oh why did I have\n",
      "to stop at the railroad tracks\n",
      "Better get some change\n",
      " \n",
      "[12, 5]\n",
      " \n",
      "Better get some change\n",
      "It's okay It's okay I'm\n",
      "back See Daddy's here\n",
      " \n",
      "[5, 3, 3, 2, 4]\n",
      " \n",
      "You don't know what you're\n",
      "gettin' Well I know what I'm\n",
      "gettin' some donuts\n",
      " \n",
      "[7, 7, 3]\n",
      " \n",
      "Nice to see you there\n",
      "on my lawn with your dog Oh\n",
      "uh uh ooh bad dog\n",
      " \n",
      "[5, 3, 3, 4, 2]\n",
      " \n",
      "bad dog Look at that\n",
      "Right on Ned's lawn Now how could\n",
      "you do such a thing\n",
      " \n",
      "[2, 3, 4, 8]\n",
      " \n",
      "Right on Ned's lawn Now\n",
      "how could you do such a thing\n",
      "Good boy don't stop now\n",
      " \n",
      "[4, 8, 5]\n",
      " \n",
      "Don't stop the music\n",
      "Marge Simpson still making juice\n",
      "the old fashioned way\n",
      " \n",
      "[5, 12]\n",
      " \n",
      "Ah Ah Stop Stop Hmm\n",
      "I seem to have mashed more hair\n",
      "into it Oh well\n",
      " \n",
      "[1, 1, 1, 1, 1, 10, 2]\n",
      " \n",
      "Hey I could call my\n",
      "maw while I'm up here Hey maw\n",
      "Get off the dang roof\n",
      " \n",
      "[10, 2, 5]\n",
      " \n",
      "Milhouse what's going\n",
      "on You said you just needed\n",
      "to use the bathroom\n",
      " \n",
      "[6, 11]\n",
      " \n",
      "nice store Uh you know\n",
      "when I was a kid this used\n",
      "to be a pet store\n",
      " \n",
      "[2, 15]\n",
      " \n",
      "I finally look\n",
      "like a real person Thanks Haw\n",
      "haw Haw haw Haw haw\n",
      " \n",
      "[10, 1, 2, 2, 2]\n",
      " \n",
      "Hey everybody\n",
      "look at this It's that boy who\n",
      "laughs at everyone\n",
      " \n",
      "[8, 9]\n",
      " \n",
      "Let's laugh at him Haw\n",
      "haw Wave to the people Blow\n",
      "them kisses Wah wah\n",
      " \n",
      "[4, 2, 5, 4, 2]\n",
      " \n",
      "One of the monkeys\n",
      "stole the glasses off my head\n",
      "No wait please no Please\n",
      " \n",
      "[12, 4, 1]\n",
      " \n",
      "Yeah listen HEY HEY\n",
      "PROFESSOR FRINK PROFESSOR\n",
      "FRINK HE'LL MAKE YOU LAUGH\n",
      " \n",
      "[3, 2, 4, 4, 4]\n",
      " \n"
     ]
    }
   ],
   "source": [
    "def format_row_as_haiku(row):\n",
    "    \n",
    "    haiku = row['spoken_words_split']\n",
    "    n_syl = row['n_syllables']\n",
    "    if isinstance(haiku, pd.Series):\n",
    "        haiku = haiku.values[0]\n",
    "        n_syl = n_syl.values[0]\n",
    "    \n",
    "    words = haiku.replace('-', ' ').replace('/', ' ').split(' ')\n",
    "    count = 0\n",
    "\n",
    "    haiku_list = ['', '', '']\n",
    "    syllable_list = [5, 12, 17]\n",
    "\n",
    "    i = 0\n",
    "    for word in words:\n",
    "        for char in simpsons_haiku.strip_list:\n",
    "            word = word.replace(char, '')\n",
    "        if word:\n",
    "            n_syllables = simpsons_haiku.num_syllables(word)\n",
    "        else:\n",
    "            n_syllables = 0 \n",
    "        count += n_syllables\n",
    "\n",
    "        if count > syllable_list[i]:\n",
    "            i+=1\n",
    "\n",
    "        haiku_list[i] += word + ' '\n",
    "    \n",
    "    haiku_list = [re.sub(' +', ' ', line).strip() for line in haiku_list]\n",
    "    \n",
    "    return '\\n'.join(haiku_list), n_syl\n",
    "    \n",
    "\n",
    "def print_haikus_from_episode(episode=\"Marge vs. the Monorail\"):\n",
    "    for i, row in haiku_df[haiku_df.title == episode][['spoken_words_split', 'n_syllables']].iterrows():\n",
    "        haiku, n_syllables = format_row_as_haiku(row)\n",
    "        print(haiku)\n",
    "        print(' ')\n",
    "        print(n_syllables)\n",
    "        print(' ')\n",
    "        \n",
    "        \n",
    "episode = '22 Short Films About Springfield'\n",
    "print_haikus_from_episode(episode)"
   ]
  },
  {
   "cell_type": "code",
   "execution_count": null,
   "metadata": {},
   "outputs": [],
   "source": []
  },
  {
   "cell_type": "code",
   "execution_count": null,
   "metadata": {},
   "outputs": [],
   "source": []
  },
  {
   "cell_type": "code",
   "execution_count": null,
   "metadata": {},
   "outputs": [],
   "source": []
  }
 ],
 "metadata": {
  "kernelspec": {
   "display_name": "simpsons_haiku",
   "language": "python",
   "name": "simpsons_haiku"
  },
  "language_info": {
   "codemirror_mode": {
    "name": "ipython",
    "version": 3
   },
   "file_extension": ".py",
   "mimetype": "text/x-python",
   "name": "python",
   "nbconvert_exporter": "python",
   "pygments_lexer": "ipython3",
   "version": "3.10.4"
  },
  "vscode": {
   "interpreter": {
    "hash": "41912a6cf46c57c1e23829e836fc30eac55f9e23ffe2f84c53dcbcab27e0fc59"
   }
  }
 },
 "nbformat": 4,
 "nbformat_minor": 4
}
