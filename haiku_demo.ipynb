{
 "cells": [
  {
   "cell_type": "markdown",
   "metadata": {},
   "source": [
    "# Simpsons Haiku Demo \n",
    "## [@SimpsonsHaiku](https://twitter.com/SimpsonsHaiku)\n",
    "\n",
    "For anyone who knows me, they'll attest that The Simpsons has had an undue impact on my life, being formative through my early years and enduring to the present moment. That contribution spanned curating a sense of humour deeply anchored in an appreciation for the surreal, a continued love of animation, or exposure to the depths of obscure Americana (thank you, John Swartwzelder).\n",
    "\n",
    "This notebook demonstrates the implementation of an idea I had long ago, inspired by [@nythaikus](https://twitter.com/nythaikus). The dataset used here is hosted [on Kaggle here](https://www.kaggle.com/datasets/prashant111/the-simpsons-dataset), and was originally scraped by [Todd Schneider](https://toddwschneider.com/posts/the-simpsons-by-the-data/), covering the first 26 seasons. We start by loading the core haiku object, of class `SimpsonsHaiku`, and extracting a DataFrame of haikus."
   ]
  },
  {
   "cell_type": "code",
   "execution_count": 1,
   "metadata": {},
   "outputs": [],
   "source": [
    "import compuglobal\n",
    "import matplotlib.pyplot as plt\n",
    "from haiku import *"
   ]
  },
  {
   "cell_type": "code",
   "execution_count": 2,
   "metadata": {},
   "outputs": [
    {
     "name": "stderr",
     "output_type": "stream",
     "text": [
      "100%|███████████████████████████████████████████████████████████████████████| 400929/400929 [00:17<00:00, 22388.46it/s]\n"
     ]
    }
   ],
   "source": [
    "simpsons_haiku = SimpsonsHaiku()"
   ]
  },
  {
   "cell_type": "code",
   "execution_count": 3,
   "metadata": {},
   "outputs": [],
   "source": [
    "script = simpsons_haiku.script"
   ]
  },
  {
   "cell_type": "code",
   "execution_count": 4,
   "metadata": {},
   "outputs": [
    {
     "data": {
      "text/plain": [
       "'Ooo, careful, Homer.'"
      ]
     },
     "execution_count": 4,
     "metadata": {},
     "output_type": "execute_result"
    }
   ],
   "source": [
    "script.spoken_words.iloc[0]"
   ]
  },
  {
   "cell_type": "code",
   "execution_count": 5,
   "metadata": {},
   "outputs": [
    {
     "name": "stderr",
     "output_type": "stream",
     "text": [
      "100%|██████████████████████████████████████████████████████████████████████| 224803/224803 [00:02<00:00, 111031.63it/s]\n"
     ]
    },
    {
     "data": {
      "text/plain": [
       "array([25369, 86, 69,\n",
       "       'Devil: Ahem! I hold here a contract between myself and one Homer Simpson, pledging me his soul for a donut. Which I delivered! And it was scrum-diddly-umptious!',\n",
       "       378000, True, 346.0, 25.0, 'Devil', 'Simpson Living Room',\n",
       "       'Ahem! I hold here a contract between myself and one Homer Simpson, pledging me his soul for a donut. Which I delivered! And it was scrum-diddly-umptious!',\n",
       "       'ahem i hold here a contract between myself and one homer simpson pledging me his soul for a donut which i delivered and it was scrum-diddly-umptious',\n",
       "       26.0, 86, 'Treehouse of Horror IV', 5, 5, 'Ahem', 1, 2],\n",
       "      dtype=object)"
      ]
     },
     "execution_count": 5,
     "metadata": {},
     "output_type": "execute_result"
    }
   ],
   "source": [
    "script[script.normalized_text.progress_apply(lambda x: 'diddly' in x)].iloc[0].values"
   ]
  },
  {
   "cell_type": "code",
   "execution_count": 6,
   "metadata": {},
   "outputs": [
    {
     "data": {
      "text/html": [
       "<div>\n",
       "<style scoped>\n",
       "    .dataframe tbody tr th:only-of-type {\n",
       "        vertical-align: middle;\n",
       "    }\n",
       "\n",
       "    .dataframe tbody tr th {\n",
       "        vertical-align: top;\n",
       "    }\n",
       "\n",
       "    .dataframe thead th {\n",
       "        text-align: right;\n",
       "    }\n",
       "</style>\n",
       "<table border=\"1\" class=\"dataframe\">\n",
       "  <thead>\n",
       "    <tr style=\"text-align: right;\">\n",
       "      <th></th>\n",
       "      <th>word</th>\n",
       "      <th>counts</th>\n",
       "    </tr>\n",
       "  </thead>\n",
       "  <tbody>\n",
       "    <tr>\n",
       "      <th>0</th>\n",
       "      <td>the</td>\n",
       "      <td>95570</td>\n",
       "    </tr>\n",
       "    <tr>\n",
       "      <th>1</th>\n",
       "      <td>i</td>\n",
       "      <td>81094</td>\n",
       "    </tr>\n",
       "    <tr>\n",
       "      <th>2</th>\n",
       "      <td>you</td>\n",
       "      <td>79830</td>\n",
       "    </tr>\n",
       "    <tr>\n",
       "      <th>3</th>\n",
       "      <td>a</td>\n",
       "      <td>72016</td>\n",
       "    </tr>\n",
       "    <tr>\n",
       "      <th>4</th>\n",
       "      <td></td>\n",
       "      <td>71665</td>\n",
       "    </tr>\n",
       "    <tr>\n",
       "      <th>...</th>\n",
       "      <td>...</td>\n",
       "      <td>...</td>\n",
       "    </tr>\n",
       "    <tr>\n",
       "      <th>42120</th>\n",
       "      <td>street's</td>\n",
       "      <td>1</td>\n",
       "    </tr>\n",
       "    <tr>\n",
       "      <th>42121</th>\n",
       "      <td>hippity</td>\n",
       "      <td>1</td>\n",
       "    </tr>\n",
       "    <tr>\n",
       "      <th>42122</th>\n",
       "      <td>hippo's</td>\n",
       "      <td>1</td>\n",
       "    </tr>\n",
       "    <tr>\n",
       "      <th>42123</th>\n",
       "      <td>streamline</td>\n",
       "      <td>1</td>\n",
       "    </tr>\n",
       "    <tr>\n",
       "      <th>42124</th>\n",
       "      <td>larynx</td>\n",
       "      <td>1</td>\n",
       "    </tr>\n",
       "  </tbody>\n",
       "</table>\n",
       "<p>42125 rows × 2 columns</p>\n",
       "</div>"
      ],
      "text/plain": [
       "             word  counts\n",
       "0             the   95570\n",
       "1               i   81094\n",
       "2             you   79830\n",
       "3               a   72016\n",
       "4                   71665\n",
       "...           ...     ...\n",
       "42120    street's       1\n",
       "42121     hippity       1\n",
       "42122     hippo's       1\n",
       "42123  streamline       1\n",
       "42124      larynx       1\n",
       "\n",
       "[42125 rows x 2 columns]"
      ]
     },
     "execution_count": 6,
     "metadata": {},
     "output_type": "execute_result"
    }
   ],
   "source": [
    "corpus = script['spoken_words'].str.cat(sep=' ')\n",
    "for char in [\",\", \".\", \"?\", \"!\", \":\", \"\\\\\", \"\\\"\"]:#self.strip_list:\n",
    "    corpus = corpus.replace(char, '')\n",
    "corpus_list = corpus.lower().replace('-', ' ').replace('/', ' ').split(' ')\n",
    "\n",
    "corpus_df = pd.DataFrame({'word' : corpus_list})\n",
    "\n",
    "simpsons_count = corpus_df.value_counts().reset_index(name='counts')\n",
    "simpsons_count"
   ]
  },
  {
   "cell_type": "code",
   "execution_count": 7,
   "metadata": {},
   "outputs": [],
   "source": [
    "df = pd.read_json('simpson_lect.json', orient='index').reset_index().rename({'index':'word', 0:'n_syllable'}, axis=1)\n",
    "df['syllables_estimate'] = df.word.apply(syllables.estimate)\n",
    "df['syllapy_estimate'] = df.word.apply(syllapy.count)\n",
    "\n",
    "df['syllables_error'] = abs(df.word.apply(syllables.estimate) - df['n_syllable'])\n",
    "df['syllapy_error'] = abs(df.word.apply(syllapy.count) - df['n_syllable'])"
   ]
  },
  {
   "cell_type": "code",
   "execution_count": 8,
   "metadata": {},
   "outputs": [
    {
     "data": {
      "text/html": [
       "<div>\n",
       "<style scoped>\n",
       "    .dataframe tbody tr th:only-of-type {\n",
       "        vertical-align: middle;\n",
       "    }\n",
       "\n",
       "    .dataframe tbody tr th {\n",
       "        vertical-align: top;\n",
       "    }\n",
       "\n",
       "    .dataframe thead th {\n",
       "        text-align: right;\n",
       "    }\n",
       "</style>\n",
       "<table border=\"1\" class=\"dataframe\">\n",
       "  <thead>\n",
       "    <tr style=\"text-align: right;\">\n",
       "      <th></th>\n",
       "      <th>n_syllable</th>\n",
       "      <th>syllables_estimate</th>\n",
       "      <th>syllapy_estimate</th>\n",
       "      <th>syllables_error</th>\n",
       "      <th>syllapy_error</th>\n",
       "    </tr>\n",
       "  </thead>\n",
       "  <tbody>\n",
       "    <tr>\n",
       "      <th>mean</th>\n",
       "      <td>1.905660</td>\n",
       "      <td>1.802612</td>\n",
       "      <td>1.680697</td>\n",
       "      <td>0.253991</td>\n",
       "      <td>0.285922</td>\n",
       "    </tr>\n",
       "    <tr>\n",
       "      <th>std</th>\n",
       "      <td>0.844672</td>\n",
       "      <td>0.825779</td>\n",
       "      <td>0.864138</td>\n",
       "      <td>0.561030</td>\n",
       "      <td>0.669816</td>\n",
       "    </tr>\n",
       "  </tbody>\n",
       "</table>\n",
       "</div>"
      ],
      "text/plain": [
       "      n_syllable  syllables_estimate  syllapy_estimate  syllables_error  \\\n",
       "mean    1.905660            1.802612          1.680697         0.253991   \n",
       "std     0.844672            0.825779          0.864138         0.561030   \n",
       "\n",
       "      syllapy_error  \n",
       "mean       0.285922  \n",
       "std        0.669816  "
      ]
     },
     "execution_count": 8,
     "metadata": {},
     "output_type": "execute_result"
    }
   ],
   "source": [
    "# Comparing syllables and syllapy performance on labelled syllable set\n",
    "df.describe().iloc[1:3, :]"
   ]
  },
  {
   "cell_type": "code",
   "execution_count": 9,
   "metadata": {},
   "outputs": [
    {
     "name": "stderr",
     "output_type": "stream",
     "text": [
      "100%|█████████████████████████████████████████████████████████████████████████| 224803/224803 [22:02<00:00, 170.04it/s]\n",
      "100%|█████████████████████████████████████████████████████████████████████████| 30259/30259 [00:02<00:00, 13124.72it/s]\n"
     ]
    }
   ],
   "source": [
    "# Generate haiku_df, will do so from scratch here but will load from path if it is passed when instantiating SimpsonsHaiku object.\n",
    "haiku_df = simpsons_haiku.generate_haiku_df(save=True)"
   ]
  },
  {
   "cell_type": "code",
   "execution_count": 10,
   "metadata": {},
   "outputs": [
    {
     "name": "stdout",
     "output_type": "stream",
     "text": [
      "[17], S01E01\n",
      "If you want one you'll\n",
      "have to pay for it out of\n",
      "your own allowance\n"
     ]
    }
   ],
   "source": [
    "haiku, metadata = simpsons_haiku.generate_haiku()\n",
    "print('{}, S{:02d}E{:02d}'.format(metadata['n_syllables'].values[0], metadata['season'].values[0], metadata['number_in_season'].values[0]))\n",
    "print(haiku)"
   ]
  },
  {
   "cell_type": "markdown",
   "metadata": {},
   "source": [
    "## Exploratory data analysis\n",
    "\n",
    "Have you ever wondered which season of The Simpsons had the most haikus? How the average syllable-per-word count trended over the seasons? The maxiumum number of characters that contribute to a 17-syllable sequence of dialogue?  Well here's the notebook section for you!  "
   ]
  },
  {
   "cell_type": "code",
   "execution_count": 11,
   "metadata": {},
   "outputs": [
    {
     "data": {
      "text/html": [
       "<div>\n",
       "<style scoped>\n",
       "    .dataframe tbody tr th:only-of-type {\n",
       "        vertical-align: middle;\n",
       "    }\n",
       "\n",
       "    .dataframe tbody tr th {\n",
       "        vertical-align: top;\n",
       "    }\n",
       "\n",
       "    .dataframe thead th {\n",
       "        text-align: right;\n",
       "    }\n",
       "</style>\n",
       "<table border=\"1\" class=\"dataframe\">\n",
       "  <thead>\n",
       "    <tr style=\"text-align: right;\">\n",
       "      <th></th>\n",
       "      <th>id_x</th>\n",
       "      <th>number</th>\n",
       "      <th>raw_text</th>\n",
       "      <th>timestamp_in_ms</th>\n",
       "      <th>speaking_line</th>\n",
       "      <th>character_id</th>\n",
       "      <th>location_id</th>\n",
       "      <th>raw_character_text</th>\n",
       "      <th>raw_location_text</th>\n",
       "      <th>spoken_words</th>\n",
       "      <th>normalized_text</th>\n",
       "      <th>word_count</th>\n",
       "      <th>id_y</th>\n",
       "      <th>title</th>\n",
       "      <th>season</th>\n",
       "      <th>number_in_season</th>\n",
       "      <th>spoken_words_split</th>\n",
       "      <th>number_in_line</th>\n",
       "      <th>n_syllables</th>\n",
       "      <th>n_lines</th>\n",
       "    </tr>\n",
       "    <tr>\n",
       "      <th>episode_id</th>\n",
       "      <th></th>\n",
       "      <th></th>\n",
       "      <th></th>\n",
       "      <th></th>\n",
       "      <th></th>\n",
       "      <th></th>\n",
       "      <th></th>\n",
       "      <th></th>\n",
       "      <th></th>\n",
       "      <th></th>\n",
       "      <th></th>\n",
       "      <th></th>\n",
       "      <th></th>\n",
       "      <th></th>\n",
       "      <th></th>\n",
       "      <th></th>\n",
       "      <th></th>\n",
       "      <th></th>\n",
       "      <th></th>\n",
       "      <th></th>\n",
       "    </tr>\n",
       "  </thead>\n",
       "  <tbody>\n",
       "    <tr>\n",
       "      <th>195</th>\n",
       "      <td>[54908, 54908, 54908, 54909, 54909, 54909, 549...</td>\n",
       "      <td>[135, 135, 135, 136, 136, 136, 136, 136, 136, ...</td>\n",
       "      <td>[Bart Simpson: Yes! Heh, heh! / Ha! Ha! / Woo ...</td>\n",
       "      <td>[629000, 629000, 629000, 639000, 639000, 63900...</td>\n",
       "      <td>[True, True, True, True, True, True, True, Tru...</td>\n",
       "      <td>[8.0, 8.0, 8.0, 8.0, 8.0, 8.0, 8.0, 8.0, 8.0, ...</td>\n",
       "      <td>[5.0, 5.0, 5.0, 5.0, 5.0, 5.0, 5.0, 5.0, 5.0, ...</td>\n",
       "      <td>[Bart Simpson, Bart Simpson, Bart Simpson, Bar...</td>\n",
       "      <td>[Simpson Home, Simpson Home, Simpson Home, Sim...</td>\n",
       "      <td>[Yes! Heh, heh! / Ha! Ha! / Woo hoo hoo heh he...</td>\n",
       "      <td>[yes heh heh ha ha woo hoo hoo heh heh woo oh ...</td>\n",
       "      <td>[13.0, 13.0, 13.0, 11.0, 11.0, 11.0, 11.0, 11....</td>\n",
       "      <td>[195, 195, 195, 195, 195, 195, 195, 195, 195, ...</td>\n",
       "      <td>Lisa the Simpson</td>\n",
       "      <td>9</td>\n",
       "      <td>17</td>\n",
       "      <td>Woo  Oh  Oh Yeah  Ha  Ha  Ha  Ha  Ha  Ha  Ha ...</td>\n",
       "      <td>[9, 11, 12, 1, 2, 3, 4, 5, 6, 7, 9, 10, 11, 1,...</td>\n",
       "      <td>[1, 1, 1, 1, 1, 1, 1, 1, 1, 1, 1, 1, 2, 1, 1, 1]</td>\n",
       "      <td>16</td>\n",
       "    </tr>\n",
       "    <tr>\n",
       "      <th>195</th>\n",
       "      <td>[54908, 54908, 54909, 54909, 54909, 54909, 549...</td>\n",
       "      <td>[135, 135, 136, 136, 136, 136, 136, 136, 136, ...</td>\n",
       "      <td>[Bart Simpson: Yes! Heh, heh! / Ha! Ha! / Woo ...</td>\n",
       "      <td>[629000, 629000, 639000, 639000, 639000, 63900...</td>\n",
       "      <td>[True, True, True, True, True, True, True, Tru...</td>\n",
       "      <td>[8.0, 8.0, 8.0, 8.0, 8.0, 8.0, 8.0, 8.0, 8.0, ...</td>\n",
       "      <td>[5.0, 5.0, 5.0, 5.0, 5.0, 5.0, 5.0, 5.0, 5.0, ...</td>\n",
       "      <td>[Bart Simpson, Bart Simpson, Bart Simpson, Bar...</td>\n",
       "      <td>[Simpson Home, Simpson Home, Simpson Home, Sim...</td>\n",
       "      <td>[Yes! Heh, heh! / Ha! Ha! / Woo hoo hoo heh he...</td>\n",
       "      <td>[yes heh heh ha ha woo hoo hoo heh heh woo oh ...</td>\n",
       "      <td>[13.0, 13.0, 11.0, 11.0, 11.0, 11.0, 11.0, 11....</td>\n",
       "      <td>[195, 195, 195, 195, 195, 195, 195, 195, 195, ...</td>\n",
       "      <td>Lisa the Simpson</td>\n",
       "      <td>9</td>\n",
       "      <td>17</td>\n",
       "      <td>Oh  Oh Yeah  Ha  Ha  Ha  Ha  Ha  Ha  Ha  Ha  ...</td>\n",
       "      <td>[11, 12, 1, 2, 3, 4, 5, 6, 7, 9, 10, 11, 1, 2,...</td>\n",
       "      <td>[1, 1, 1, 1, 1, 1, 1, 1, 1, 1, 1, 2, 1, 1, 1, 1]</td>\n",
       "      <td>16</td>\n",
       "    </tr>\n",
       "    <tr>\n",
       "      <th>195</th>\n",
       "      <td>[54908, 54909, 54909, 54909, 54909, 54909, 549...</td>\n",
       "      <td>[135, 136, 136, 136, 136, 136, 136, 136, 136, ...</td>\n",
       "      <td>[Bart Simpson: Yes! Heh, heh! / Ha! Ha! / Woo ...</td>\n",
       "      <td>[629000, 639000, 639000, 639000, 639000, 63900...</td>\n",
       "      <td>[True, True, True, True, True, True, True, Tru...</td>\n",
       "      <td>[8.0, 8.0, 8.0, 8.0, 8.0, 8.0, 8.0, 8.0, 8.0, ...</td>\n",
       "      <td>[5.0, 5.0, 5.0, 5.0, 5.0, 5.0, 5.0, 5.0, 5.0, ...</td>\n",
       "      <td>[Bart Simpson, Bart Simpson, Bart Simpson, Bar...</td>\n",
       "      <td>[Simpson Home, Simpson Home, Simpson Home, Sim...</td>\n",
       "      <td>[Yes! Heh, heh! / Ha! Ha! / Woo hoo hoo heh he...</td>\n",
       "      <td>[yes heh heh ha ha woo hoo hoo heh heh woo oh ...</td>\n",
       "      <td>[13.0, 11.0, 11.0, 11.0, 11.0, 11.0, 11.0, 11....</td>\n",
       "      <td>[195, 195, 195, 195, 195, 195, 195, 195, 195, ...</td>\n",
       "      <td>Lisa the Simpson</td>\n",
       "      <td>9</td>\n",
       "      <td>17</td>\n",
       "      <td>Oh Yeah  Ha  Ha  Ha  Ha  Ha  Ha  Ha  Ha  All ...</td>\n",
       "      <td>[12, 1, 2, 3, 4, 5, 6, 7, 9, 10, 11, 1, 2, 3, ...</td>\n",
       "      <td>[1, 1, 1, 1, 1, 1, 1, 1, 1, 1, 2, 1, 1, 1, 1, 1]</td>\n",
       "      <td>16</td>\n",
       "    </tr>\n",
       "  </tbody>\n",
       "</table>\n",
       "</div>"
      ],
      "text/plain": [
       "                                                         id_x  \\\n",
       "episode_id                                                      \n",
       "195         [54908, 54908, 54908, 54909, 54909, 54909, 549...   \n",
       "195         [54908, 54908, 54909, 54909, 54909, 54909, 549...   \n",
       "195         [54908, 54909, 54909, 54909, 54909, 54909, 549...   \n",
       "\n",
       "                                                       number  \\\n",
       "episode_id                                                      \n",
       "195         [135, 135, 135, 136, 136, 136, 136, 136, 136, ...   \n",
       "195         [135, 135, 136, 136, 136, 136, 136, 136, 136, ...   \n",
       "195         [135, 136, 136, 136, 136, 136, 136, 136, 136, ...   \n",
       "\n",
       "                                                     raw_text  \\\n",
       "episode_id                                                      \n",
       "195         [Bart Simpson: Yes! Heh, heh! / Ha! Ha! / Woo ...   \n",
       "195         [Bart Simpson: Yes! Heh, heh! / Ha! Ha! / Woo ...   \n",
       "195         [Bart Simpson: Yes! Heh, heh! / Ha! Ha! / Woo ...   \n",
       "\n",
       "                                              timestamp_in_ms  \\\n",
       "episode_id                                                      \n",
       "195         [629000, 629000, 629000, 639000, 639000, 63900...   \n",
       "195         [629000, 629000, 639000, 639000, 639000, 63900...   \n",
       "195         [629000, 639000, 639000, 639000, 639000, 63900...   \n",
       "\n",
       "                                                speaking_line  \\\n",
       "episode_id                                                      \n",
       "195         [True, True, True, True, True, True, True, Tru...   \n",
       "195         [True, True, True, True, True, True, True, Tru...   \n",
       "195         [True, True, True, True, True, True, True, Tru...   \n",
       "\n",
       "                                                 character_id  \\\n",
       "episode_id                                                      \n",
       "195         [8.0, 8.0, 8.0, 8.0, 8.0, 8.0, 8.0, 8.0, 8.0, ...   \n",
       "195         [8.0, 8.0, 8.0, 8.0, 8.0, 8.0, 8.0, 8.0, 8.0, ...   \n",
       "195         [8.0, 8.0, 8.0, 8.0, 8.0, 8.0, 8.0, 8.0, 8.0, ...   \n",
       "\n",
       "                                                  location_id  \\\n",
       "episode_id                                                      \n",
       "195         [5.0, 5.0, 5.0, 5.0, 5.0, 5.0, 5.0, 5.0, 5.0, ...   \n",
       "195         [5.0, 5.0, 5.0, 5.0, 5.0, 5.0, 5.0, 5.0, 5.0, ...   \n",
       "195         [5.0, 5.0, 5.0, 5.0, 5.0, 5.0, 5.0, 5.0, 5.0, ...   \n",
       "\n",
       "                                           raw_character_text  \\\n",
       "episode_id                                                      \n",
       "195         [Bart Simpson, Bart Simpson, Bart Simpson, Bar...   \n",
       "195         [Bart Simpson, Bart Simpson, Bart Simpson, Bar...   \n",
       "195         [Bart Simpson, Bart Simpson, Bart Simpson, Bar...   \n",
       "\n",
       "                                            raw_location_text  \\\n",
       "episode_id                                                      \n",
       "195         [Simpson Home, Simpson Home, Simpson Home, Sim...   \n",
       "195         [Simpson Home, Simpson Home, Simpson Home, Sim...   \n",
       "195         [Simpson Home, Simpson Home, Simpson Home, Sim...   \n",
       "\n",
       "                                                 spoken_words  \\\n",
       "episode_id                                                      \n",
       "195         [Yes! Heh, heh! / Ha! Ha! / Woo hoo hoo heh he...   \n",
       "195         [Yes! Heh, heh! / Ha! Ha! / Woo hoo hoo heh he...   \n",
       "195         [Yes! Heh, heh! / Ha! Ha! / Woo hoo hoo heh he...   \n",
       "\n",
       "                                              normalized_text  \\\n",
       "episode_id                                                      \n",
       "195         [yes heh heh ha ha woo hoo hoo heh heh woo oh ...   \n",
       "195         [yes heh heh ha ha woo hoo hoo heh heh woo oh ...   \n",
       "195         [yes heh heh ha ha woo hoo hoo heh heh woo oh ...   \n",
       "\n",
       "                                                   word_count  \\\n",
       "episode_id                                                      \n",
       "195         [13.0, 13.0, 13.0, 11.0, 11.0, 11.0, 11.0, 11....   \n",
       "195         [13.0, 13.0, 11.0, 11.0, 11.0, 11.0, 11.0, 11....   \n",
       "195         [13.0, 11.0, 11.0, 11.0, 11.0, 11.0, 11.0, 11....   \n",
       "\n",
       "                                                         id_y  \\\n",
       "episode_id                                                      \n",
       "195         [195, 195, 195, 195, 195, 195, 195, 195, 195, ...   \n",
       "195         [195, 195, 195, 195, 195, 195, 195, 195, 195, ...   \n",
       "195         [195, 195, 195, 195, 195, 195, 195, 195, 195, ...   \n",
       "\n",
       "                       title  season  number_in_season  \\\n",
       "episode_id                                               \n",
       "195         Lisa the Simpson       9                17   \n",
       "195         Lisa the Simpson       9                17   \n",
       "195         Lisa the Simpson       9                17   \n",
       "\n",
       "                                           spoken_words_split  \\\n",
       "episode_id                                                      \n",
       "195          Woo  Oh  Oh Yeah  Ha  Ha  Ha  Ha  Ha  Ha  Ha ...   \n",
       "195          Oh  Oh Yeah  Ha  Ha  Ha  Ha  Ha  Ha  Ha  Ha  ...   \n",
       "195          Oh Yeah  Ha  Ha  Ha  Ha  Ha  Ha  Ha  Ha  All ...   \n",
       "\n",
       "                                               number_in_line  \\\n",
       "episode_id                                                      \n",
       "195         [9, 11, 12, 1, 2, 3, 4, 5, 6, 7, 9, 10, 11, 1,...   \n",
       "195         [11, 12, 1, 2, 3, 4, 5, 6, 7, 9, 10, 11, 1, 2,...   \n",
       "195         [12, 1, 2, 3, 4, 5, 6, 7, 9, 10, 11, 1, 2, 3, ...   \n",
       "\n",
       "                                                 n_syllables  n_lines  \n",
       "episode_id                                                             \n",
       "195         [1, 1, 1, 1, 1, 1, 1, 1, 1, 1, 1, 1, 2, 1, 1, 1]       16  \n",
       "195         [1, 1, 1, 1, 1, 1, 1, 1, 1, 1, 1, 2, 1, 1, 1, 1]       16  \n",
       "195         [1, 1, 1, 1, 1, 1, 1, 1, 1, 1, 2, 1, 1, 1, 1, 1]       16  "
      ]
     },
     "execution_count": 11,
     "metadata": {},
     "output_type": "execute_result"
    }
   ],
   "source": [
    "# Max number of lines of dialogue in a 17-syllable sequence? It's 16 (Lisa the Simpson)\n",
    "haiku_df['n_lines'] = haiku_df.number.apply(len)\n",
    "haiku_df[haiku_df.n_lines == haiku_df.n_lines.max()]"
   ]
  },
  {
   "cell_type": "code",
   "execution_count": 12,
   "metadata": {},
   "outputs": [
    {
     "data": {
      "text/html": [
       "<div>\n",
       "<style scoped>\n",
       "    .dataframe tbody tr th:only-of-type {\n",
       "        vertical-align: middle;\n",
       "    }\n",
       "\n",
       "    .dataframe tbody tr th {\n",
       "        vertical-align: top;\n",
       "    }\n",
       "\n",
       "    .dataframe thead th {\n",
       "        text-align: right;\n",
       "    }\n",
       "</style>\n",
       "<table border=\"1\" class=\"dataframe\">\n",
       "  <thead>\n",
       "    <tr style=\"text-align: right;\">\n",
       "      <th></th>\n",
       "      <th>id_x</th>\n",
       "      <th>number</th>\n",
       "      <th>raw_text</th>\n",
       "      <th>timestamp_in_ms</th>\n",
       "      <th>speaking_line</th>\n",
       "      <th>character_id</th>\n",
       "      <th>location_id</th>\n",
       "      <th>raw_character_text</th>\n",
       "      <th>raw_location_text</th>\n",
       "      <th>spoken_words</th>\n",
       "      <th>...</th>\n",
       "      <th>word_count</th>\n",
       "      <th>id_y</th>\n",
       "      <th>title</th>\n",
       "      <th>season</th>\n",
       "      <th>number_in_season</th>\n",
       "      <th>spoken_words_split</th>\n",
       "      <th>number_in_line</th>\n",
       "      <th>n_syllables</th>\n",
       "      <th>n_lines</th>\n",
       "      <th>n_characters</th>\n",
       "    </tr>\n",
       "    <tr>\n",
       "      <th>episode_id</th>\n",
       "      <th></th>\n",
       "      <th></th>\n",
       "      <th></th>\n",
       "      <th></th>\n",
       "      <th></th>\n",
       "      <th></th>\n",
       "      <th></th>\n",
       "      <th></th>\n",
       "      <th></th>\n",
       "      <th></th>\n",
       "      <th></th>\n",
       "      <th></th>\n",
       "      <th></th>\n",
       "      <th></th>\n",
       "      <th></th>\n",
       "      <th></th>\n",
       "      <th></th>\n",
       "      <th></th>\n",
       "      <th></th>\n",
       "      <th></th>\n",
       "      <th></th>\n",
       "    </tr>\n",
       "  </thead>\n",
       "  <tbody>\n",
       "    <tr>\n",
       "      <th>134</th>\n",
       "      <td>[38660, 38661, 38662, 38663, 38664, 38665, 386...</td>\n",
       "      <td>[223, 224, 225, 226, 227, 228, 229, 230, 231, ...</td>\n",
       "      <td>[Marge Simpson: No., Bart Simpson: No., Patty ...</td>\n",
       "      <td>[1105000, 1106000, 1106000, 1106000, 1107000, ...</td>\n",
       "      <td>[True, True, True, True, True, True, True, Tru...</td>\n",
       "      <td>[1.0, 8.0, 10.0, 71.0, 11.0, 22.0, 442.0, 140....</td>\n",
       "      <td>[5.0, 5.0, 5.0, 5.0, 5.0, 5.0, 5.0, 5.0, 5.0, ...</td>\n",
       "      <td>[Marge Simpson, Bart Simpson, Patty Bouvier, C...</td>\n",
       "      <td>[Simpson Home, Simpson Home, Simpson Home, Sim...</td>\n",
       "      <td>[No., No., No., No., No., No., No., No., Yes. ...</td>\n",
       "      <td>...</td>\n",
       "      <td>[1.0, 1.0, 1.0, 1.0, 1.0, 1.0, 1.0, 1.0, 5.0, ...</td>\n",
       "      <td>[134, 134, 134, 134, 134, 134, 134, 134, 134, ...</td>\n",
       "      <td>Treehouse of Horror VI</td>\n",
       "      <td>7</td>\n",
       "      <td>6</td>\n",
       "      <td>No No No No No No No No Yes  I mean no  No Wel...</td>\n",
       "      <td>[1, 1, 1, 1, 1, 1, 1, 1, 1, 2, 3, 1]</td>\n",
       "      <td>[1, 1, 1, 1, 1, 1, 1, 1, 1, 3, 1, 4]</td>\n",
       "      <td>12</td>\n",
       "      <td>9</td>\n",
       "    </tr>\n",
       "  </tbody>\n",
       "</table>\n",
       "<p>1 rows × 21 columns</p>\n",
       "</div>"
      ],
      "text/plain": [
       "                                                         id_x  \\\n",
       "episode_id                                                      \n",
       "134         [38660, 38661, 38662, 38663, 38664, 38665, 386...   \n",
       "\n",
       "                                                       number  \\\n",
       "episode_id                                                      \n",
       "134         [223, 224, 225, 226, 227, 228, 229, 230, 231, ...   \n",
       "\n",
       "                                                     raw_text  \\\n",
       "episode_id                                                      \n",
       "134         [Marge Simpson: No., Bart Simpson: No., Patty ...   \n",
       "\n",
       "                                              timestamp_in_ms  \\\n",
       "episode_id                                                      \n",
       "134         [1105000, 1106000, 1106000, 1106000, 1107000, ...   \n",
       "\n",
       "                                                speaking_line  \\\n",
       "episode_id                                                      \n",
       "134         [True, True, True, True, True, True, True, Tru...   \n",
       "\n",
       "                                                 character_id  \\\n",
       "episode_id                                                      \n",
       "134         [1.0, 8.0, 10.0, 71.0, 11.0, 22.0, 442.0, 140....   \n",
       "\n",
       "                                                  location_id  \\\n",
       "episode_id                                                      \n",
       "134         [5.0, 5.0, 5.0, 5.0, 5.0, 5.0, 5.0, 5.0, 5.0, ...   \n",
       "\n",
       "                                           raw_character_text  \\\n",
       "episode_id                                                      \n",
       "134         [Marge Simpson, Bart Simpson, Patty Bouvier, C...   \n",
       "\n",
       "                                            raw_location_text  \\\n",
       "episode_id                                                      \n",
       "134         [Simpson Home, Simpson Home, Simpson Home, Sim...   \n",
       "\n",
       "                                                 spoken_words  ...  \\\n",
       "episode_id                                                     ...   \n",
       "134         [No., No., No., No., No., No., No., No., Yes. ...  ...   \n",
       "\n",
       "                                                   word_count  \\\n",
       "episode_id                                                      \n",
       "134         [1.0, 1.0, 1.0, 1.0, 1.0, 1.0, 1.0, 1.0, 5.0, ...   \n",
       "\n",
       "                                                         id_y  \\\n",
       "episode_id                                                      \n",
       "134         [134, 134, 134, 134, 134, 134, 134, 134, 134, ...   \n",
       "\n",
       "                             title season  number_in_season  \\\n",
       "episode_id                                                    \n",
       "134         Treehouse of Horror VI      7                 6   \n",
       "\n",
       "                                           spoken_words_split  \\\n",
       "episode_id                                                      \n",
       "134         No No No No No No No No Yes  I mean no  No Wel...   \n",
       "\n",
       "                                  number_in_line  \\\n",
       "episode_id                                         \n",
       "134         [1, 1, 1, 1, 1, 1, 1, 1, 1, 2, 3, 1]   \n",
       "\n",
       "                                     n_syllables n_lines  n_characters  \n",
       "episode_id                                                              \n",
       "134         [1, 1, 1, 1, 1, 1, 1, 1, 1, 3, 1, 4]      12             9  \n",
       "\n",
       "[1 rows x 21 columns]"
      ]
     },
     "execution_count": 12,
     "metadata": {},
     "output_type": "execute_result"
    }
   ],
   "source": [
    "# Max number of unique characters in a 17-syllable sequence? It's Homer 3D in Treehouse of Horror VI, with 9 characters. Did anyone see the movie Tron?\n",
    "haiku_df['n_characters'] = haiku_df.character_id.apply(lambda x: len(set(x)))\n",
    "haiku_df[haiku_df.n_characters == haiku_df.n_characters.max()]"
   ]
  },
  {
   "cell_type": "code",
   "execution_count": 13,
   "metadata": {},
   "outputs": [
    {
     "data": {
      "text/html": [
       "<div>\n",
       "<style scoped>\n",
       "    .dataframe tbody tr th:only-of-type {\n",
       "        vertical-align: middle;\n",
       "    }\n",
       "\n",
       "    .dataframe tbody tr th {\n",
       "        vertical-align: top;\n",
       "    }\n",
       "\n",
       "    .dataframe thead th {\n",
       "        text-align: right;\n",
       "    }\n",
       "</style>\n",
       "<table border=\"1\" class=\"dataframe\">\n",
       "  <thead>\n",
       "    <tr style=\"text-align: right;\">\n",
       "      <th></th>\n",
       "      <th>id_x</th>\n",
       "      <th>number</th>\n",
       "      <th>raw_text</th>\n",
       "      <th>timestamp_in_ms</th>\n",
       "      <th>speaking_line</th>\n",
       "      <th>character_id</th>\n",
       "      <th>location_id</th>\n",
       "      <th>raw_character_text</th>\n",
       "      <th>raw_location_text</th>\n",
       "      <th>spoken_words</th>\n",
       "      <th>...</th>\n",
       "      <th>id_y</th>\n",
       "      <th>title</th>\n",
       "      <th>season</th>\n",
       "      <th>number_in_season</th>\n",
       "      <th>spoken_words_split</th>\n",
       "      <th>number_in_line</th>\n",
       "      <th>n_syllables</th>\n",
       "      <th>n_lines</th>\n",
       "      <th>n_characters</th>\n",
       "      <th>n_locations</th>\n",
       "    </tr>\n",
       "    <tr>\n",
       "      <th>episode_id</th>\n",
       "      <th></th>\n",
       "      <th></th>\n",
       "      <th></th>\n",
       "      <th></th>\n",
       "      <th></th>\n",
       "      <th></th>\n",
       "      <th></th>\n",
       "      <th></th>\n",
       "      <th></th>\n",
       "      <th></th>\n",
       "      <th></th>\n",
       "      <th></th>\n",
       "      <th></th>\n",
       "      <th></th>\n",
       "      <th></th>\n",
       "      <th></th>\n",
       "      <th></th>\n",
       "      <th></th>\n",
       "      <th></th>\n",
       "      <th></th>\n",
       "      <th></th>\n",
       "    </tr>\n",
       "  </thead>\n",
       "  <tbody>\n",
       "    <tr>\n",
       "      <th>53</th>\n",
       "      <td>[16001, 16003, 16005, 16007, 16008]</td>\n",
       "      <td>[105, 107, 109, 111, 112]</td>\n",
       "      <td>[Apu Nahasapeemapetilon: (PLEASED, TO SELF) Oo...</td>\n",
       "      <td>[442000, 460000, 471000, 476000, 485000]</td>\n",
       "      <td>[True, True, True, True, True]</td>\n",
       "      <td>[208.0, 8.0, 90.0, 90.0, 91.0]</td>\n",
       "      <td>[136.0, 1.0, 585.0, 586.0, 586.0]</td>\n",
       "      <td>[Apu Nahasapeemapetilon, Bart Simpson, Eddie, ...</td>\n",
       "      <td>[Kwik-E-Mart, Street, Warehouse District, OUTD...</td>\n",
       "      <td>[Ooh, they used nylon rope this time. It feels...</td>\n",
       "      <td>...</td>\n",
       "      <td>[53, 53, 53, 53, 53]</td>\n",
       "      <td>Separate Vocations</td>\n",
       "      <td>3</td>\n",
       "      <td>18</td>\n",
       "      <td>Almost sensuous Oh, baby Damn boxes He's trap...</td>\n",
       "      <td>[3, 1, 1, 1, 1]</td>\n",
       "      <td>[5, 3, 3, 2, 4]</td>\n",
       "      <td>5</td>\n",
       "      <td>4</td>\n",
       "      <td>4</td>\n",
       "    </tr>\n",
       "    <tr>\n",
       "      <th>417</th>\n",
       "      <td>[118649, 118652, 118654, 118656]</td>\n",
       "      <td>[215, 218, 220, 222]</td>\n",
       "      <td>[Cow In Truck: (ANNOYED GRUNT, THEN) I mean (P...</td>\n",
       "      <td>[1102000, 1107000, 1108000, 1110000]</td>\n",
       "      <td>[True, True, True, True]</td>\n",
       "      <td>[5188.0, 2.0, 2.0, 1.0]</td>\n",
       "      <td>[2231.0, 3421.0, 3422.0, 102.0]</td>\n",
       "      <td>[Cow In Truck, Homer Simpson, Homer Simpson, M...</td>\n",
       "      <td>[Rural Road, TRANSPORT VEHICLE, COW SUIT, Marg...</td>\n",
       "      <td>[I mean, Okay, they bought it., Have you got L...</td>\n",
       "      <td>...</td>\n",
       "      <td>[417, 417, 417, 417]</td>\n",
       "      <td>Apocalypse Cow</td>\n",
       "      <td>19</td>\n",
       "      <td>17</td>\n",
       "      <td>I mean Okay, they bought it Have you got Lou i...</td>\n",
       "      <td>[1, 1, 1, 1]</td>\n",
       "      <td>[2, 5, 7, 3]</td>\n",
       "      <td>4</td>\n",
       "      <td>3</td>\n",
       "      <td>4</td>\n",
       "    </tr>\n",
       "  </tbody>\n",
       "</table>\n",
       "<p>2 rows × 22 columns</p>\n",
       "</div>"
      ],
      "text/plain": [
       "                                           id_x                     number  \\\n",
       "episode_id                                                                   \n",
       "53          [16001, 16003, 16005, 16007, 16008]  [105, 107, 109, 111, 112]   \n",
       "417            [118649, 118652, 118654, 118656]       [215, 218, 220, 222]   \n",
       "\n",
       "                                                     raw_text  \\\n",
       "episode_id                                                      \n",
       "53          [Apu Nahasapeemapetilon: (PLEASED, TO SELF) Oo...   \n",
       "417         [Cow In Truck: (ANNOYED GRUNT, THEN) I mean (P...   \n",
       "\n",
       "                                     timestamp_in_ms  \\\n",
       "episode_id                                             \n",
       "53          [442000, 460000, 471000, 476000, 485000]   \n",
       "417             [1102000, 1107000, 1108000, 1110000]   \n",
       "\n",
       "                             speaking_line                    character_id  \\\n",
       "episode_id                                                                   \n",
       "53          [True, True, True, True, True]  [208.0, 8.0, 90.0, 90.0, 91.0]   \n",
       "417               [True, True, True, True]         [5188.0, 2.0, 2.0, 1.0]   \n",
       "\n",
       "                                  location_id  \\\n",
       "episode_id                                      \n",
       "53          [136.0, 1.0, 585.0, 586.0, 586.0]   \n",
       "417           [2231.0, 3421.0, 3422.0, 102.0]   \n",
       "\n",
       "                                           raw_character_text  \\\n",
       "episode_id                                                      \n",
       "53          [Apu Nahasapeemapetilon, Bart Simpson, Eddie, ...   \n",
       "417         [Cow In Truck, Homer Simpson, Homer Simpson, M...   \n",
       "\n",
       "                                            raw_location_text  \\\n",
       "episode_id                                                      \n",
       "53          [Kwik-E-Mart, Street, Warehouse District, OUTD...   \n",
       "417         [Rural Road, TRANSPORT VEHICLE, COW SUIT, Marg...   \n",
       "\n",
       "                                                 spoken_words  ...  \\\n",
       "episode_id                                                     ...   \n",
       "53          [Ooh, they used nylon rope this time. It feels...  ...   \n",
       "417         [I mean, Okay, they bought it., Have you got L...  ...   \n",
       "\n",
       "                            id_y               title season number_in_season  \\\n",
       "episode_id                                                                     \n",
       "53          [53, 53, 53, 53, 53]  Separate Vocations      3               18   \n",
       "417         [417, 417, 417, 417]      Apocalypse Cow     19               17   \n",
       "\n",
       "                                           spoken_words_split  \\\n",
       "episode_id                                                      \n",
       "53           Almost sensuous Oh, baby Damn boxes He's trap...   \n",
       "417         I mean Okay, they bought it Have you got Lou i...   \n",
       "\n",
       "             number_in_line      n_syllables n_lines n_characters  n_locations  \n",
       "episode_id                                                                      \n",
       "53          [3, 1, 1, 1, 1]  [5, 3, 3, 2, 4]       5            4            4  \n",
       "417            [1, 1, 1, 1]     [2, 5, 7, 3]       4            3            4  \n",
       "\n",
       "[2 rows x 22 columns]"
      ]
     },
     "execution_count": 13,
     "metadata": {},
     "output_type": "execute_result"
    }
   ],
   "source": [
    "# How about locations?\n",
    "haiku_df['n_locations'] = haiku_df.location_id.apply(lambda x: len(set(x)))\n",
    "haiku_df[haiku_df.n_locations == haiku_df.n_locations.max()]"
   ]
  },
  {
   "cell_type": "code",
   "execution_count": 14,
   "metadata": {},
   "outputs": [
    {
     "data": {
      "text/plain": [
       "Text(0.5, 1.0, 'Number of haikus per season')"
      ]
     },
     "execution_count": 14,
     "metadata": {},
     "output_type": "execute_result"
    },
    {
     "data": {
      "image/png": "[encoded data removed]",
      "text/plain": [
       "<Figure size 640x480 with 1 Axes>"
      ]
     },
     "metadata": {},
     "output_type": "display_data"
    }
   ],
   "source": [
    "# Distribution by Season\n",
    "import seaborn as sns\n",
    "sns.set()\n",
    "\n",
    "haiku_df.groupby('season').count()['id_x'].plot()\n",
    "plt.title('Number of haikus per season')"
   ]
  },
  {
   "cell_type": "code",
   "execution_count": 15,
   "metadata": {},
   "outputs": [
    {
     "data": {
      "text/plain": [
       "episode_id  title                      season  number_in_season\n",
       "9           Life on the Fast Lane      1       9                   63\n",
       "203         Natural Born Kissers       9       25                  61\n",
       "206         Bart the Mother            10      3                   59\n",
       "255         The Great Money Caper      12      7                   59\n",
       "14          Bart Gets an \"F\"           2       1                   59\n",
       "                                                                   ..\n",
       "543         The Man Who Grew Too Much  25      13                  14\n",
       "337         All's Fair in Oven War     16      2                   13\n",
       "112         Homer Badman               6       9                   13\n",
       "286         Gump Roast                 13      17                  13\n",
       "189         All Singing, All Dancing   9       11                  12\n",
       "Length: 564, dtype: int64"
      ]
     },
     "execution_count": 15,
     "metadata": {},
     "output_type": "execute_result"
    }
   ],
   "source": [
    "# Which episode(s) have the most haikus?\n",
    "haiku_df.reset_index().groupby('episode_id')[['title', 'season', 'number_in_season']].value_counts().sort_values(ascending=False)"
   ]
  },
  {
   "cell_type": "code",
   "execution_count": 16,
   "metadata": {},
   "outputs": [
    {
     "name": "stderr",
     "output_type": "stream",
     "text": [
      "b'Skipping line 8084: expected 13 fields, saw 20\\nSkipping line 52607: expected 13 fields, saw 21\\nSkipping line 59910: expected 13 fields, saw 21\\n'\n",
      "b'Skipping line 71801: expected 13 fields, saw 20\\nSkipping line 73539: expected 13 fields, saw 21\\nSkipping line 77230: expected 13 fields, saw 21\\nSkipping line 78953: expected 13 fields, saw 21\\nSkipping line 81138: expected 13 fields, saw 20\\nSkipping line 86746: expected 13 fields, saw 22\\nSkipping line 101154: expected 13 fields, saw 21\\nSkipping line 115438: expected 13 fields, saw 20\\nSkipping line 117573: expected 13 fields, saw 22\\nSkipping line 130610: expected 13 fields, saw 22\\n'\n",
      "b'Skipping line 152970: expected 13 fields, saw 22\\nSkipping line 153017: expected 13 fields, saw 20\\nSkipping line 153018: expected 13 fields, saw 30\\nSkipping line 154080: expected 13 fields, saw 20\\nSkipping line 154082: expected 13 fields, saw 20\\nSkipping line 154084: expected 13 fields, saw 20\\nSkipping line 154086: expected 13 fields, saw 20\\nSkipping line 154089: expected 13 fields, saw 23\\nSkipping line 154165: expected 13 fields, saw 21\\nSkipping line 156872: expected 13 fields, saw 20\\n'\n",
      "100%|███████████████████████████████████████████████████████████████████████| 132089/132089 [00:07<00:00, 17253.77it/s]\n"
     ]
    },
    {
     "data": {
      "text/plain": [
       "<matplotlib.legend.Legend at 0x1e376989900>"
      ]
     },
     "execution_count": 16,
     "metadata": {},
     "output_type": "execute_result"
    },
    {
     "data": {
      "image/png": "[encoded data removed]",
      "text/plain": [
       "<Figure size 640x480 with 1 Axes>"
      ]
     },
     "metadata": {},
     "output_type": "display_data"
    }
   ],
   "source": [
    "base_script = pd.read_csv('dataset/simpsons_script_lines.csv', error_bad_lines=False).dropna(subset=['word_count'])\n",
    "episode_data = pd.read_csv('dataset/simpsons_episodes.csv')[['id', 'title', 'season', 'number_in_season']]\n",
    "base_script = pd.merge(base_script, episode_data, how='left', left_on='episode_id', right_on='id')\n",
    "\n",
    "base_script['n_syllables'] = base_script.spoken_words.progress_apply(simpsons_haiku.count_syllables_line)\n",
    "base_script.groupby('season')['n_syllables'].mean().plot(label='Mean syllables per line')\n",
    "base_script.groupby('season')['word_count'].mean().plot(label='Mean words per line')\n",
    "\n",
    "plt.title('Mean number of words per line by season (Original script)')\n",
    "plt.legend()"
   ]
  },
  {
   "cell_type": "code",
   "execution_count": 17,
   "metadata": {},
   "outputs": [
    {
     "data": {
      "text/plain": [
       "<AxesSubplot:title={'center':'Mean number of syllables per word by season'}, xlabel='season'>"
      ]
     },
     "execution_count": 17,
     "metadata": {},
     "output_type": "execute_result"
    },
    {
     "data": {
      "image/png": "[encoded data removed]",
      "text/plain": [
       "<Figure size 640x480 with 1 Axes>"
      ]
     },
     "metadata": {},
     "output_type": "display_data"
    }
   ],
   "source": [
    "# This the ratio of the two lines above\n",
    "plt.title('Mean number of syllables per word by season')\n",
    "(base_script.groupby('season')['n_syllables'].sum() / base_script.groupby('season')['word_count'].sum()).plot(color='g')"
   ]
  },
  {
   "cell_type": "code",
   "execution_count": 23,
   "metadata": {},
   "outputs": [
    {
     "data": {
      "text/plain": [
       "[17]         1652\n",
       "[9, 8]        472\n",
       "[5, 12]       470\n",
       "[8, 9]        435\n",
       "[10, 7]       434\n",
       "[12, 5]       419\n",
       "[7, 10]       413\n",
       "[11, 6]       377\n",
       "[4, 13]       327\n",
       "[6, 11]       292\n",
       "[3, 14]       238\n",
       "[13, 4]       218\n",
       "[2, 15]       206\n",
       "[15, 2]       204\n",
       "[14, 3]       191\n",
       "[5, 7, 5]     149\n",
       "[16, 1]       134\n",
       "[5, 6, 6]     120\n",
       "[1, 16]       110\n",
       "[5, 5, 7]     110\n",
       "Name: n_syllables, dtype: int64"
      ]
     },
     "execution_count": 23,
     "metadata": {},
     "output_type": "execute_result"
    }
   ],
   "source": [
    "# Distribution of haikus by syllable count of constituent diaglogue lines\n",
    "haiku_df.n_syllables.value_counts().head(20)"
   ]
  },
  {
   "cell_type": "markdown",
   "metadata": {},
   "source": [
    "## Generating haikus\n",
    "This section generates haikus, demonstrating the usage of the `syllable_patterns` and `golden_age` parameters."
   ]
  },
  {
   "cell_type": "code",
   "execution_count": 19,
   "metadata": {},
   "outputs": [
    {
     "name": "stdout",
     "output_type": "stream",
     "text": [
      "[5, 12], S15E16\n",
      "one harmonica\n",
      "perfect mood setter for the\n",
      "end of your freedom\n"
     ]
    }
   ],
   "source": [
    "# Higher quality haikus\n",
    "haiku, metadata = simpsons_haiku.generate_haiku(syllable_patterns=[[5,12]])#[5,7,5], [17], [5, 12], [12, 5]])\n",
    "print('{}, S{:02d}E{:02d}'.format(metadata['n_syllables'].values[0], metadata['season'].values[0], metadata['number_in_season'].values[0]))\n",
    "print(haiku)"
   ]
  },
  {
   "cell_type": "code",
   "execution_count": 20,
   "metadata": {},
   "outputs": [
    {
     "name": "stdout",
     "output_type": "stream",
     "text": [
      "[9, 8], S02E09\n",
      "I'll tell you what I'm\n",
      "going to do I'm going\n",
      "to write a letter\n"
     ]
    }
   ],
   "source": [
    "# Medium quality? Two line breaks\n",
    "haiku, metadata = simpsons_haiku.generate_haiku(syllable_patterns=[[9, 8], [8, 9], [10, 7], [7, 10]])\n",
    "print('{}, S{:02d}E{:02d}'.format(metadata['n_syllables'].values[0], metadata['season'].values[0], metadata['number_in_season'].values[0]))\n",
    "print(haiku)"
   ]
  },
  {
   "cell_type": "code",
   "execution_count": 21,
   "metadata": {},
   "outputs": [
    {
     "name": "stdout",
     "output_type": "stream",
     "text": [
      "[4, 7, 6], S24E15\n",
      "Come on people You're\n",
      "safe as Sunday with me I\n",
      "wouldn't hurt a fly\n"
     ]
    }
   ],
   "source": [
    "# Lower quality haikus\n",
    "haiku, metadata = simpsons_haiku.generate_haiku(syllable_patterns=[[4, 7, 6]])\n",
    "print('{}, S{:02d}E{:02d}'.format(metadata['n_syllables'].values[0], metadata['season'].values[0], metadata['number_in_season'].values[0]))\n",
    "print(haiku)"
   ]
  },
  {
   "cell_type": "markdown",
   "metadata": {},
   "source": [
    "## Appendix\n",
    "\n",
    "This section demonstrates some the functionality associated with the SimpsonsTwitterBot class, particularly querying GIFs from the Frinkiac API via the package `compuglobal`, as well as debugging."
   ]
  },
  {
   "cell_type": "code",
   "execution_count": 31,
   "metadata": {},
   "outputs": [],
   "source": [
    "from twitter import SimpsonsTwitterBot\n",
    "\n",
    "# Generate frinkiac gifs and images from a haiku - S4E17 Last Exit to Springfield\n",
    "haiku_query = \"\"\"It doesn't take a\n",
    "                 whiz to see that you're looking \n",
    "                 out for number one\"\"\"\n",
    "\n",
    "simpsons_bot = SimpsonsTwitterBot(\n",
    "        auth_dict=json.load(open('auth.json')), \n",
    "        haiku_df='haiku_df.csv'\n",
    "    )\n",
    "\n",
    "image_url, gif_url, mp4_url = simpsons_bot.search_frinkiac(haiku_query, episode_key='S04E17')"
   ]
  },
  {
   "cell_type": "code",
   "execution_count": 27,
   "metadata": {},
   "outputs": [],
   "source": [
    "import compuglobal \n",
    "simpsons = compuglobal.Frinkiac()\n",
    "\n",
    "\n",
    "episode_key = 'S{:02d}E{:02d}'.format(metadata['season'].values[0], metadata['number_in_season'].values[0])\n",
    "\n",
    "gif_url, image_url = None, None\n",
    "search_results = simpsons.search(haiku)\n",
    "for result in search_results:\n",
    "    if result.key == episode_key:\n",
    "        screencap = simpsons.get_screencap(result.key, \n",
    "                                           result.timestamp)\n",
    "        image_url = screencap.get_image_url()\n",
    "        gif_url = screencap.get_gif_url()\n",
    "        \n",
    "        break"
   ]
  },
  {
   "cell_type": "code",
   "execution_count": 32,
   "metadata": {},
   "outputs": [
    {
     "data": {
      "text/plain": [
       "'https://frinkiac.com/img/S04E17/827075.jpg'"
      ]
     },
     "execution_count": 32,
     "metadata": {},
     "output_type": "execute_result"
    }
   ],
   "source": [
    "image_url"
   ]
  },
  {
   "cell_type": "code",
   "execution_count": 33,
   "metadata": {},
   "outputs": [
    {
     "data": {
      "text/plain": [
       "'https://frinkiac.com/gif/S04E17/824156/831046.gif?b64lines=IEFORCBJIFdBTlQgVE8gVEFLRSBUSEUKIFBSRVNTVVJFIE9GRi4='"
      ]
     },
     "execution_count": 33,
     "metadata": {},
     "output_type": "execute_result"
    }
   ],
   "source": [
    "gif_url"
   ]
  },
  {
   "cell_type": "code",
   "execution_count": 34,
   "metadata": {},
   "outputs": [
    {
     "data": {
      "text/plain": [
       "'https://frinkiac.com/mp4/S04E17/824156/831046.mp4?b64lines=IEFORCBJIFdBTlQgVE8gVEFLRSBUSEUKIFBSRVNTVVJFIE9GRi4='"
      ]
     },
     "execution_count": 34,
     "metadata": {},
     "output_type": "execute_result"
    }
   ],
   "source": [
    "mp4_url"
   ]
  },
  {
   "cell_type": "code",
   "execution_count": 35,
   "metadata": {},
   "outputs": [
    {
     "name": "stdout",
     "output_type": "stream",
     "text": [
      "Oh 1\n",
      "Mr 2\n",
      "Pigeon 2\n",
      "I'd 1\n",
      "kiss 1\n",
      "you 1\n",
      "if 1\n",
      "you 1\n",
      "weren't 1\n",
      "swimming 2\n",
      "with 1\n",
      "disease 2\n"
     ]
    }
   ],
   "source": [
    "for word in \"Oh Mr Pigeon I'd kiss you if you weren't swimming with disease\".split():\n",
    "    print(word, simpsons_haiku.num_syllables(word))"
   ]
  },
  {
   "cell_type": "code",
   "execution_count": 36,
   "metadata": {},
   "outputs": [
    {
     "data": {
      "text/plain": [
       "array([\"There's a U.F.O. outside my window!! Seriously!\",\n",
       "       'Can I sit on the roof with a baseball bat in case a U.F.O. does come?',\n",
       "       \"I'm getting this book on U.F.O.s.\",\n",
       "       'We got a report that a Lisa Simpson spotted a U.F.O...',\n",
       "       \"I didn't see any U.F.O.!\"], dtype=object)"
      ]
     },
     "execution_count": 36,
     "metadata": {},
     "output_type": "execute_result"
    }
   ],
   "source": [
    "# Search script for line - used in debugging\n",
    "def fun(x):\n",
    "    if isinstance(x, float):\n",
    "        return False\n",
    "    else:\n",
    "        return 'F.O' in x\n",
    "    \n",
    "base_script[base_script.spoken_words.apply(fun)].spoken_words.values"
   ]
  },
  {
   "cell_type": "code",
   "execution_count": null,
   "metadata": {},
   "outputs": [],
   "source": []
  }
 ],
 "metadata": {
  "kernelspec": {
   "display_name": "simpsons_haiku",
   "language": "python",
   "name": "simpsons_haiku"
  },
  "language_info": {
   "codemirror_mode": {
    "name": "ipython",
    "version": 3
   },
   "file_extension": ".py",
   "mimetype": "text/x-python",
   "name": "python",
   "nbconvert_exporter": "python",
   "pygments_lexer": "ipython3",
   "version": "3.10.4"
  },
  "vscode": {
   "interpreter": {
    "hash": "41912a6cf46c57c1e23829e836fc30eac55f9e23ffe2f84c53dcbcab27e0fc59"
   }
  }
 },
 "nbformat": 4,
 "nbformat_minor": 4
}
