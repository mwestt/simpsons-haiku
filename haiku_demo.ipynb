{
 "cells": [
  {
   "cell_type": "markdown",
   "metadata": {},
   "source": [
    "# Simpsons Haiku Demo \n",
    "## [@SimpsonsHaiku](https://twitter.com/SimpsonsHaiku)\n",
    "\n",
    "For anyone who knows me, they'll attest that The Simpsons has had an undue impact on my life, being formative through my early years and enduring to the present moment. That contribution spanned curating a sense of humour deeply anchored in an appreciation for the surreal, a continued love of animation, or exposure to the depths of obscure Americana (thank you, John Swartwzelder).\n",
    "\n",
    "This notebook demonstrates the implementation of an idea I had long ago, inspired by [@nythaikus](https://twitter.com/nythaikus). The dataset used here is hosted [on Kaggle here](https://www.kaggle.com/datasets/prashant111/the-simpsons-dataset), and was originally scraped by [Todd Schneider](https://toddwschneider.com/posts/the-simpsons-by-the-data/), covering the first 26 seasons. We start by loading the core haiku object, of class `SimpsonsHaiku`, and extracting a DataFrame of haikus."
   ]
  },
  {
   "cell_type": "code",
   "execution_count": 1,
   "metadata": {},
   "outputs": [],
   "source": [
    "import compuglobal\n",
    "import matplotlib.pyplot as plt\n",
    "from haiku import *"
   ]
  },
  {
   "cell_type": "code",
   "execution_count": 2,
   "metadata": {},
   "outputs": [
    {
     "name": "stderr",
     "output_type": "stream",
     "text": [
      "100%|███████████████████████████████████████████████████████████████████████| 400929/400929 [00:06<00:00, 62003.62it/s]\n"
     ]
    }
   ],
   "source": [
    "simpsons_haiku = SimpsonsHaiku()"
   ]
  },
  {
   "cell_type": "code",
   "execution_count": 3,
   "metadata": {},
   "outputs": [],
   "source": [
    "script = simpsons_haiku.script"
   ]
  },
  {
   "cell_type": "code",
   "execution_count": 4,
   "metadata": {},
   "outputs": [
    {
     "data": {
      "text/plain": [
       "'Ooo, careful, Homer.'"
      ]
     },
     "execution_count": 4,
     "metadata": {},
     "output_type": "execute_result"
    }
   ],
   "source": [
    "script.spoken_words.iloc[0]"
   ]
  },
  {
   "cell_type": "code",
   "execution_count": 5,
   "metadata": {},
   "outputs": [
    {
     "name": "stderr",
     "output_type": "stream",
     "text": [
      "100%|██████████████████████████████████████████████████████████████████████| 224803/224803 [00:00<00:00, 944564.00it/s]\n"
     ]
    },
    {
     "data": {
      "text/plain": [
       "array([25369, 86, 69,\n",
       "       'Devil: Ahem! I hold here a contract between myself and one Homer Simpson, pledging me his soul for a donut. Which I delivered! And it was scrum-diddly-umptious!',\n",
       "       378000, True, 346.0, 25.0, 'Devil', 'Simpson Living Room',\n",
       "       'Ahem! I hold here a contract between myself and one Homer Simpson, pledging me his soul for a donut. Which I delivered! And it was scrum-diddly-umptious!',\n",
       "       'ahem i hold here a contract between myself and one homer simpson pledging me his soul for a donut which i delivered and it was scrum-diddly-umptious',\n",
       "       26.0, 86, 'Treehouse of Horror IV', 5, 5, 'Ahem', 1, 2],\n",
       "      dtype=object)"
      ]
     },
     "execution_count": 5,
     "metadata": {},
     "output_type": "execute_result"
    }
   ],
   "source": [
    "script[script.normalized_text.progress_apply(lambda x: 'diddly' in x)].iloc[0].values"
   ]
  },
  {
   "cell_type": "code",
   "execution_count": 6,
   "metadata": {},
   "outputs": [
    {
     "data": {
      "text/html": [
       "<div>\n",
       "<style scoped>\n",
       "    .dataframe tbody tr th:only-of-type {\n",
       "        vertical-align: middle;\n",
       "    }\n",
       "\n",
       "    .dataframe tbody tr th {\n",
       "        vertical-align: top;\n",
       "    }\n",
       "\n",
       "    .dataframe thead th {\n",
       "        text-align: right;\n",
       "    }\n",
       "</style>\n",
       "<table border=\"1\" class=\"dataframe\">\n",
       "  <thead>\n",
       "    <tr style=\"text-align: right;\">\n",
       "      <th></th>\n",
       "      <th>word</th>\n",
       "      <th>counts</th>\n",
       "    </tr>\n",
       "  </thead>\n",
       "  <tbody>\n",
       "    <tr>\n",
       "      <th>0</th>\n",
       "      <td>the</td>\n",
       "      <td>95570</td>\n",
       "    </tr>\n",
       "    <tr>\n",
       "      <th>1</th>\n",
       "      <td>i</td>\n",
       "      <td>81094</td>\n",
       "    </tr>\n",
       "    <tr>\n",
       "      <th>2</th>\n",
       "      <td>you</td>\n",
       "      <td>79830</td>\n",
       "    </tr>\n",
       "    <tr>\n",
       "      <th>3</th>\n",
       "      <td>a</td>\n",
       "      <td>72016</td>\n",
       "    </tr>\n",
       "    <tr>\n",
       "      <th>4</th>\n",
       "      <td></td>\n",
       "      <td>71665</td>\n",
       "    </tr>\n",
       "    <tr>\n",
       "      <th>...</th>\n",
       "      <td>...</td>\n",
       "      <td>...</td>\n",
       "    </tr>\n",
       "    <tr>\n",
       "      <th>42120</th>\n",
       "      <td>street's</td>\n",
       "      <td>1</td>\n",
       "    </tr>\n",
       "    <tr>\n",
       "      <th>42121</th>\n",
       "      <td>hippity</td>\n",
       "      <td>1</td>\n",
       "    </tr>\n",
       "    <tr>\n",
       "      <th>42122</th>\n",
       "      <td>hippo's</td>\n",
       "      <td>1</td>\n",
       "    </tr>\n",
       "    <tr>\n",
       "      <th>42123</th>\n",
       "      <td>streamline</td>\n",
       "      <td>1</td>\n",
       "    </tr>\n",
       "    <tr>\n",
       "      <th>42124</th>\n",
       "      <td>larynx</td>\n",
       "      <td>1</td>\n",
       "    </tr>\n",
       "  </tbody>\n",
       "</table>\n",
       "<p>42125 rows × 2 columns</p>\n",
       "</div>"
      ],
      "text/plain": [
       "             word  counts\n",
       "0             the   95570\n",
       "1               i   81094\n",
       "2             you   79830\n",
       "3               a   72016\n",
       "4                   71665\n",
       "...           ...     ...\n",
       "42120    street's       1\n",
       "42121     hippity       1\n",
       "42122     hippo's       1\n",
       "42123  streamline       1\n",
       "42124      larynx       1\n",
       "\n",
       "[42125 rows x 2 columns]"
      ]
     },
     "execution_count": 6,
     "metadata": {},
     "output_type": "execute_result"
    }
   ],
   "source": [
    "corpus = script['spoken_words'].str.cat(sep=' ')\n",
    "for char in [\",\", \".\", \"?\", \"!\", \":\", \"\\\\\", \"\\\"\"]:#self.strip_list:\n",
    "    corpus = corpus.replace(char, '')\n",
    "corpus_list = corpus.lower().replace('-', ' ').replace('/', ' ').split(' ')\n",
    "\n",
    "corpus_df = pd.DataFrame({'word' : corpus_list})\n",
    "\n",
    "simpsons_count = corpus_df.value_counts().reset_index(name='counts')\n",
    "simpsons_count"
   ]
  },
  {
   "cell_type": "code",
   "execution_count": 7,
   "metadata": {},
   "outputs": [],
   "source": [
    "df = pd.read_json('simpson_lect.json', orient='index').reset_index().rename({'index':'word', 0:'n_syllable'}, axis=1)\n",
    "df['syllables_estimate'] = df.word.apply(syllables.estimate)\n",
    "df['syllapy_estimate'] = df.word.apply(syllapy.count)\n",
    "\n",
    "df['syllables_error'] = abs(df.word.apply(syllables.estimate) - df['n_syllable'])\n",
    "df['syllapy_error'] = abs(df.word.apply(syllapy.count) - df['n_syllable'])"
   ]
  },
  {
   "cell_type": "code",
   "execution_count": 8,
   "metadata": {},
   "outputs": [
    {
     "data": {
      "text/html": [
       "<div>\n",
       "<style scoped>\n",
       "    .dataframe tbody tr th:only-of-type {\n",
       "        vertical-align: middle;\n",
       "    }\n",
       "\n",
       "    .dataframe tbody tr th {\n",
       "        vertical-align: top;\n",
       "    }\n",
       "\n",
       "    .dataframe thead th {\n",
       "        text-align: right;\n",
       "    }\n",
       "</style>\n",
       "<table border=\"1\" class=\"dataframe\">\n",
       "  <thead>\n",
       "    <tr style=\"text-align: right;\">\n",
       "      <th></th>\n",
       "      <th>n_syllable</th>\n",
       "      <th>syllables_estimate</th>\n",
       "      <th>syllapy_estimate</th>\n",
       "      <th>syllables_error</th>\n",
       "      <th>syllapy_error</th>\n",
       "    </tr>\n",
       "  </thead>\n",
       "  <tbody>\n",
       "    <tr>\n",
       "      <th>mean</th>\n",
       "      <td>1.913817</td>\n",
       "      <td>1.798906</td>\n",
       "      <td>1.673051</td>\n",
       "      <td>0.265390</td>\n",
       "      <td>0.300958</td>\n",
       "    </tr>\n",
       "    <tr>\n",
       "      <th>std</th>\n",
       "      <td>0.850117</td>\n",
       "      <td>0.828796</td>\n",
       "      <td>0.873396</td>\n",
       "      <td>0.573996</td>\n",
       "      <td>0.696163</td>\n",
       "    </tr>\n",
       "  </tbody>\n",
       "</table>\n",
       "</div>"
      ],
      "text/plain": [
       "      n_syllable  syllables_estimate  syllapy_estimate  syllables_error  \\\n",
       "mean    1.913817            1.798906          1.673051         0.265390   \n",
       "std     0.850117            0.828796          0.873396         0.573996   \n",
       "\n",
       "      syllapy_error  \n",
       "mean       0.300958  \n",
       "std        0.696163  "
      ]
     },
     "execution_count": 8,
     "metadata": {},
     "output_type": "execute_result"
    }
   ],
   "source": [
    "# Comparing syllables and syllapy performance on labelled syllable set\n",
    "df.describe().iloc[1:3, :]"
   ]
  },
  {
   "cell_type": "code",
   "execution_count": 9,
   "metadata": {},
   "outputs": [
    {
     "name": "stderr",
     "output_type": "stream",
     "text": [
      "100%|█████████████████████████████████████████████████████████████████████████| 224803/224803 [14:07<00:00, 265.27it/s]\n",
      "100%|█████████████████████████████████████████████████████████████████████████| 30170/30170 [00:02<00:00, 14051.93it/s]\n"
     ]
    }
   ],
   "source": [
    "# Generate haiku_df, will do so from scratch here but will load from path if it is passed when instantiating SimpsonsHaiku object\n",
    "haiku_df = simpsons_haiku.generate_haiku_df(save=True)"
   ]
  },
  {
   "cell_type": "code",
   "execution_count": 10,
   "metadata": {},
   "outputs": [
    {
     "name": "stdout",
     "output_type": "stream",
     "text": [
      "[17], S14E21\n",
      "I hereby declare\n",
      "this area cleaned up by\n",
      "the Cavalry Kids\n"
     ]
    }
   ],
   "source": [
    "# Subsequent calls will use the object's already-defined `haiku_df` attribute\n",
    "haiku, metadata = simpsons_haiku.generate_haiku()\n",
    "print('{}, S{:02d}E{:02d}'.format(metadata['n_syllables'].values[0], metadata['season'].values[0], metadata['number_in_season'].values[0]))\n",
    "print(haiku)"
   ]
  },
  {
   "cell_type": "markdown",
   "metadata": {},
   "source": [
    "## Exploratory data analysis\n",
    "\n",
    "Have you ever wondered which season of The Simpsons had the most haikus? How the average syllable-per-word count trended over the seasons? The maxiumum number of characters that contribute to a 17-syllable sequence of dialogue?  Well here's the notebook section for you!  "
   ]
  },
  {
   "cell_type": "code",
   "execution_count": 11,
   "metadata": {},
   "outputs": [
    {
     "data": {
      "text/html": [
       "<div>\n",
       "<style scoped>\n",
       "    .dataframe tbody tr th:only-of-type {\n",
       "        vertical-align: middle;\n",
       "    }\n",
       "\n",
       "    .dataframe tbody tr th {\n",
       "        vertical-align: top;\n",
       "    }\n",
       "\n",
       "    .dataframe thead th {\n",
       "        text-align: right;\n",
       "    }\n",
       "</style>\n",
       "<table border=\"1\" class=\"dataframe\">\n",
       "  <thead>\n",
       "    <tr style=\"text-align: right;\">\n",
       "      <th></th>\n",
       "      <th>id_x</th>\n",
       "      <th>number</th>\n",
       "      <th>raw_text</th>\n",
       "      <th>timestamp_in_ms</th>\n",
       "      <th>speaking_line</th>\n",
       "      <th>character_id</th>\n",
       "      <th>location_id</th>\n",
       "      <th>raw_character_text</th>\n",
       "      <th>raw_location_text</th>\n",
       "      <th>spoken_words</th>\n",
       "      <th>normalized_text</th>\n",
       "      <th>word_count</th>\n",
       "      <th>id_y</th>\n",
       "      <th>title</th>\n",
       "      <th>season</th>\n",
       "      <th>number_in_season</th>\n",
       "      <th>spoken_words_split</th>\n",
       "      <th>number_in_line</th>\n",
       "      <th>n_syllables</th>\n",
       "      <th>n_lines</th>\n",
       "    </tr>\n",
       "    <tr>\n",
       "      <th>episode_id</th>\n",
       "      <th></th>\n",
       "      <th></th>\n",
       "      <th></th>\n",
       "      <th></th>\n",
       "      <th></th>\n",
       "      <th></th>\n",
       "      <th></th>\n",
       "      <th></th>\n",
       "      <th></th>\n",
       "      <th></th>\n",
       "      <th></th>\n",
       "      <th></th>\n",
       "      <th></th>\n",
       "      <th></th>\n",
       "      <th></th>\n",
       "      <th></th>\n",
       "      <th></th>\n",
       "      <th></th>\n",
       "      <th></th>\n",
       "      <th></th>\n",
       "    </tr>\n",
       "  </thead>\n",
       "  <tbody>\n",
       "    <tr>\n",
       "      <th>353</th>\n",
       "      <td>[101440, 101440, 101440, 101440, 101440, 10144...</td>\n",
       "      <td>[25, 25, 25, 25, 25, 25, 25, 25, 25, 25, 25, 2...</td>\n",
       "      <td>[Homer Simpson: Wait. Yes, it's staying down. ...</td>\n",
       "      <td>[181000, 181000, 181000, 181000, 181000, 18100...</td>\n",
       "      <td>[True, True, True, True, True, True, True, Tru...</td>\n",
       "      <td>[2.0, 2.0, 2.0, 2.0, 2.0, 2.0, 2.0, 2.0, 2.0, ...</td>\n",
       "      <td>[5.0, 5.0, 5.0, 5.0, 5.0, 5.0, 5.0, 5.0, 5.0, ...</td>\n",
       "      <td>[Homer Simpson, Homer Simpson, Homer Simpson, ...</td>\n",
       "      <td>[Simpson Home, Simpson Home, Simpson Home, Sim...</td>\n",
       "      <td>[Wait. Yes, it's staying down. Oh no, it's not...</td>\n",
       "      <td>[wait yes its staying down oh no its not yes i...</td>\n",
       "      <td>[27.0, 27.0, 27.0, 27.0, 27.0, 27.0, 27.0, 27....</td>\n",
       "      <td>[353, 353, 353, 353, 353, 353, 353, 353, 353, ...</td>\n",
       "      <td>A Star Is Torn</td>\n",
       "      <td>16</td>\n",
       "      <td>18</td>\n",
       "      <td>No it's not  Yep  No  Yep  No  Yep  No  Yep  ...</td>\n",
       "      <td>[5, 6, 7, 8, 9, 10, 11, 12, 13, 14, 15, 16, 17...</td>\n",
       "      <td>[3, 1, 1, 1, 1, 1, 1, 1, 1, 1, 1, 1, 1, 2]</td>\n",
       "      <td>14</td>\n",
       "    </tr>\n",
       "  </tbody>\n",
       "</table>\n",
       "</div>"
      ],
      "text/plain": [
       "                                                         id_x  \\\n",
       "episode_id                                                      \n",
       "353         [101440, 101440, 101440, 101440, 101440, 10144...   \n",
       "\n",
       "                                                       number  \\\n",
       "episode_id                                                      \n",
       "353         [25, 25, 25, 25, 25, 25, 25, 25, 25, 25, 25, 2...   \n",
       "\n",
       "                                                     raw_text  \\\n",
       "episode_id                                                      \n",
       "353         [Homer Simpson: Wait. Yes, it's staying down. ...   \n",
       "\n",
       "                                              timestamp_in_ms  \\\n",
       "episode_id                                                      \n",
       "353         [181000, 181000, 181000, 181000, 181000, 18100...   \n",
       "\n",
       "                                                speaking_line  \\\n",
       "episode_id                                                      \n",
       "353         [True, True, True, True, True, True, True, Tru...   \n",
       "\n",
       "                                                 character_id  \\\n",
       "episode_id                                                      \n",
       "353         [2.0, 2.0, 2.0, 2.0, 2.0, 2.0, 2.0, 2.0, 2.0, ...   \n",
       "\n",
       "                                                  location_id  \\\n",
       "episode_id                                                      \n",
       "353         [5.0, 5.0, 5.0, 5.0, 5.0, 5.0, 5.0, 5.0, 5.0, ...   \n",
       "\n",
       "                                           raw_character_text  \\\n",
       "episode_id                                                      \n",
       "353         [Homer Simpson, Homer Simpson, Homer Simpson, ...   \n",
       "\n",
       "                                            raw_location_text  \\\n",
       "episode_id                                                      \n",
       "353         [Simpson Home, Simpson Home, Simpson Home, Sim...   \n",
       "\n",
       "                                                 spoken_words  \\\n",
       "episode_id                                                      \n",
       "353         [Wait. Yes, it's staying down. Oh no, it's not...   \n",
       "\n",
       "                                              normalized_text  \\\n",
       "episode_id                                                      \n",
       "353         [wait yes its staying down oh no its not yes i...   \n",
       "\n",
       "                                                   word_count  \\\n",
       "episode_id                                                      \n",
       "353         [27.0, 27.0, 27.0, 27.0, 27.0, 27.0, 27.0, 27....   \n",
       "\n",
       "                                                         id_y           title  \\\n",
       "episode_id                                                                      \n",
       "353         [353, 353, 353, 353, 353, 353, 353, 353, 353, ...  A Star Is Torn   \n",
       "\n",
       "            season  number_in_season  \\\n",
       "episode_id                             \n",
       "353             16                18   \n",
       "\n",
       "                                           spoken_words_split  \\\n",
       "episode_id                                                      \n",
       "353          No it's not  Yep  No  Yep  No  Yep  No  Yep  ...   \n",
       "\n",
       "                                               number_in_line  \\\n",
       "episode_id                                                      \n",
       "353         [5, 6, 7, 8, 9, 10, 11, 12, 13, 14, 15, 16, 17...   \n",
       "\n",
       "                                           n_syllables  n_lines  \n",
       "episode_id                                                       \n",
       "353         [3, 1, 1, 1, 1, 1, 1, 1, 1, 1, 1, 1, 1, 2]       14  "
      ]
     },
     "execution_count": 11,
     "metadata": {},
     "output_type": "execute_result"
    }
   ],
   "source": [
    "# Max number of lines of dialogue in a 17-syllable sequence? It's 16 (Lisa the Simpson)\n",
    "haiku_df['n_lines'] = haiku_df.number.apply(len)\n",
    "haiku_df[haiku_df.n_lines == haiku_df.n_lines.max()]"
   ]
  },
  {
   "cell_type": "code",
   "execution_count": 12,
   "metadata": {},
   "outputs": [
    {
     "data": {
      "text/html": [
       "<div>\n",
       "<style scoped>\n",
       "    .dataframe tbody tr th:only-of-type {\n",
       "        vertical-align: middle;\n",
       "    }\n",
       "\n",
       "    .dataframe tbody tr th {\n",
       "        vertical-align: top;\n",
       "    }\n",
       "\n",
       "    .dataframe thead th {\n",
       "        text-align: right;\n",
       "    }\n",
       "</style>\n",
       "<table border=\"1\" class=\"dataframe\">\n",
       "  <thead>\n",
       "    <tr style=\"text-align: right;\">\n",
       "      <th></th>\n",
       "      <th>id_x</th>\n",
       "      <th>number</th>\n",
       "      <th>raw_text</th>\n",
       "      <th>timestamp_in_ms</th>\n",
       "      <th>speaking_line</th>\n",
       "      <th>character_id</th>\n",
       "      <th>location_id</th>\n",
       "      <th>raw_character_text</th>\n",
       "      <th>raw_location_text</th>\n",
       "      <th>spoken_words</th>\n",
       "      <th>...</th>\n",
       "      <th>word_count</th>\n",
       "      <th>id_y</th>\n",
       "      <th>title</th>\n",
       "      <th>season</th>\n",
       "      <th>number_in_season</th>\n",
       "      <th>spoken_words_split</th>\n",
       "      <th>number_in_line</th>\n",
       "      <th>n_syllables</th>\n",
       "      <th>n_lines</th>\n",
       "      <th>n_characters</th>\n",
       "    </tr>\n",
       "    <tr>\n",
       "      <th>episode_id</th>\n",
       "      <th></th>\n",
       "      <th></th>\n",
       "      <th></th>\n",
       "      <th></th>\n",
       "      <th></th>\n",
       "      <th></th>\n",
       "      <th></th>\n",
       "      <th></th>\n",
       "      <th></th>\n",
       "      <th></th>\n",
       "      <th></th>\n",
       "      <th></th>\n",
       "      <th></th>\n",
       "      <th></th>\n",
       "      <th></th>\n",
       "      <th></th>\n",
       "      <th></th>\n",
       "      <th></th>\n",
       "      <th></th>\n",
       "      <th></th>\n",
       "      <th></th>\n",
       "    </tr>\n",
       "  </thead>\n",
       "  <tbody>\n",
       "    <tr>\n",
       "      <th>134</th>\n",
       "      <td>[38660, 38661, 38662, 38663, 38664, 38665, 386...</td>\n",
       "      <td>[223, 224, 225, 226, 227, 228, 229, 230, 231, ...</td>\n",
       "      <td>[Marge Simpson: No., Bart Simpson: No., Patty ...</td>\n",
       "      <td>[1105000, 1106000, 1106000, 1106000, 1107000, ...</td>\n",
       "      <td>[True, True, True, True, True, True, True, Tru...</td>\n",
       "      <td>[1.0, 8.0, 10.0, 71.0, 11.0, 22.0, 442.0, 140....</td>\n",
       "      <td>[5.0, 5.0, 5.0, 5.0, 5.0, 5.0, 5.0, 5.0, 5.0, ...</td>\n",
       "      <td>[Marge Simpson, Bart Simpson, Patty Bouvier, C...</td>\n",
       "      <td>[Simpson Home, Simpson Home, Simpson Home, Sim...</td>\n",
       "      <td>[No., No., No., No., No., No., No., No., Yes. ...</td>\n",
       "      <td>...</td>\n",
       "      <td>[1.0, 1.0, 1.0, 1.0, 1.0, 1.0, 1.0, 1.0, 5.0, ...</td>\n",
       "      <td>[134, 134, 134, 134, 134, 134, 134, 134, 134, ...</td>\n",
       "      <td>Treehouse of Horror VI</td>\n",
       "      <td>7</td>\n",
       "      <td>6</td>\n",
       "      <td>No No No No No No No No Yes  I mean no  No Wel...</td>\n",
       "      <td>[1, 1, 1, 1, 1, 1, 1, 1, 1, 2, 3, 1]</td>\n",
       "      <td>[1, 1, 1, 1, 1, 1, 1, 1, 1, 3, 1, 4]</td>\n",
       "      <td>12</td>\n",
       "      <td>9</td>\n",
       "    </tr>\n",
       "  </tbody>\n",
       "</table>\n",
       "<p>1 rows × 21 columns</p>\n",
       "</div>"
      ],
      "text/plain": [
       "                                                         id_x  \\\n",
       "episode_id                                                      \n",
       "134         [38660, 38661, 38662, 38663, 38664, 38665, 386...   \n",
       "\n",
       "                                                       number  \\\n",
       "episode_id                                                      \n",
       "134         [223, 224, 225, 226, 227, 228, 229, 230, 231, ...   \n",
       "\n",
       "                                                     raw_text  \\\n",
       "episode_id                                                      \n",
       "134         [Marge Simpson: No., Bart Simpson: No., Patty ...   \n",
       "\n",
       "                                              timestamp_in_ms  \\\n",
       "episode_id                                                      \n",
       "134         [1105000, 1106000, 1106000, 1106000, 1107000, ...   \n",
       "\n",
       "                                                speaking_line  \\\n",
       "episode_id                                                      \n",
       "134         [True, True, True, True, True, True, True, Tru...   \n",
       "\n",
       "                                                 character_id  \\\n",
       "episode_id                                                      \n",
       "134         [1.0, 8.0, 10.0, 71.0, 11.0, 22.0, 442.0, 140....   \n",
       "\n",
       "                                                  location_id  \\\n",
       "episode_id                                                      \n",
       "134         [5.0, 5.0, 5.0, 5.0, 5.0, 5.0, 5.0, 5.0, 5.0, ...   \n",
       "\n",
       "                                           raw_character_text  \\\n",
       "episode_id                                                      \n",
       "134         [Marge Simpson, Bart Simpson, Patty Bouvier, C...   \n",
       "\n",
       "                                            raw_location_text  \\\n",
       "episode_id                                                      \n",
       "134         [Simpson Home, Simpson Home, Simpson Home, Sim...   \n",
       "\n",
       "                                                 spoken_words  ...  \\\n",
       "episode_id                                                     ...   \n",
       "134         [No., No., No., No., No., No., No., No., Yes. ...  ...   \n",
       "\n",
       "                                                   word_count  \\\n",
       "episode_id                                                      \n",
       "134         [1.0, 1.0, 1.0, 1.0, 1.0, 1.0, 1.0, 1.0, 5.0, ...   \n",
       "\n",
       "                                                         id_y  \\\n",
       "episode_id                                                      \n",
       "134         [134, 134, 134, 134, 134, 134, 134, 134, 134, ...   \n",
       "\n",
       "                             title season  number_in_season  \\\n",
       "episode_id                                                    \n",
       "134         Treehouse of Horror VI      7                 6   \n",
       "\n",
       "                                           spoken_words_split  \\\n",
       "episode_id                                                      \n",
       "134         No No No No No No No No Yes  I mean no  No Wel...   \n",
       "\n",
       "                                  number_in_line  \\\n",
       "episode_id                                         \n",
       "134         [1, 1, 1, 1, 1, 1, 1, 1, 1, 2, 3, 1]   \n",
       "\n",
       "                                     n_syllables n_lines  n_characters  \n",
       "episode_id                                                              \n",
       "134         [1, 1, 1, 1, 1, 1, 1, 1, 1, 3, 1, 4]      12             9  \n",
       "\n",
       "[1 rows x 21 columns]"
      ]
     },
     "execution_count": 12,
     "metadata": {},
     "output_type": "execute_result"
    }
   ],
   "source": [
    "# Max number of unique characters in a 17-syllable sequence? It's Homer 3D in Treehouse of Horror VI, with 9 characters. Did anyone see the movie Tron?\n",
    "haiku_df['n_characters'] = haiku_df.character_id.apply(lambda x: len(set(x)))\n",
    "haiku_df[haiku_df.n_characters == haiku_df.n_characters.max()]"
   ]
  },
  {
   "cell_type": "code",
   "execution_count": 13,
   "metadata": {},
   "outputs": [
    {
     "data": {
      "text/html": [
       "<div>\n",
       "<style scoped>\n",
       "    .dataframe tbody tr th:only-of-type {\n",
       "        vertical-align: middle;\n",
       "    }\n",
       "\n",
       "    .dataframe tbody tr th {\n",
       "        vertical-align: top;\n",
       "    }\n",
       "\n",
       "    .dataframe thead th {\n",
       "        text-align: right;\n",
       "    }\n",
       "</style>\n",
       "<table border=\"1\" class=\"dataframe\">\n",
       "  <thead>\n",
       "    <tr style=\"text-align: right;\">\n",
       "      <th></th>\n",
       "      <th>id_x</th>\n",
       "      <th>number</th>\n",
       "      <th>raw_text</th>\n",
       "      <th>timestamp_in_ms</th>\n",
       "      <th>speaking_line</th>\n",
       "      <th>character_id</th>\n",
       "      <th>location_id</th>\n",
       "      <th>raw_character_text</th>\n",
       "      <th>raw_location_text</th>\n",
       "      <th>spoken_words</th>\n",
       "      <th>...</th>\n",
       "      <th>id_y</th>\n",
       "      <th>title</th>\n",
       "      <th>season</th>\n",
       "      <th>number_in_season</th>\n",
       "      <th>spoken_words_split</th>\n",
       "      <th>number_in_line</th>\n",
       "      <th>n_syllables</th>\n",
       "      <th>n_lines</th>\n",
       "      <th>n_characters</th>\n",
       "      <th>n_locations</th>\n",
       "    </tr>\n",
       "    <tr>\n",
       "      <th>episode_id</th>\n",
       "      <th></th>\n",
       "      <th></th>\n",
       "      <th></th>\n",
       "      <th></th>\n",
       "      <th></th>\n",
       "      <th></th>\n",
       "      <th></th>\n",
       "      <th></th>\n",
       "      <th></th>\n",
       "      <th></th>\n",
       "      <th></th>\n",
       "      <th></th>\n",
       "      <th></th>\n",
       "      <th></th>\n",
       "      <th></th>\n",
       "      <th></th>\n",
       "      <th></th>\n",
       "      <th></th>\n",
       "      <th></th>\n",
       "      <th></th>\n",
       "      <th></th>\n",
       "    </tr>\n",
       "  </thead>\n",
       "  <tbody>\n",
       "    <tr>\n",
       "      <th>53</th>\n",
       "      <td>[16001, 16003, 16005, 16007, 16008]</td>\n",
       "      <td>[105, 107, 109, 111, 112]</td>\n",
       "      <td>[Apu Nahasapeemapetilon: (PLEASED, TO SELF) Oo...</td>\n",
       "      <td>[442000, 460000, 471000, 476000, 485000]</td>\n",
       "      <td>[True, True, True, True, True]</td>\n",
       "      <td>[208.0, 8.0, 90.0, 90.0, 91.0]</td>\n",
       "      <td>[136.0, 1.0, 585.0, 586.0, 586.0]</td>\n",
       "      <td>[Apu Nahasapeemapetilon, Bart Simpson, Eddie, ...</td>\n",
       "      <td>[Kwik-E-Mart, Street, Warehouse District, OUTD...</td>\n",
       "      <td>[Ooh, they used nylon rope this time. It feels...</td>\n",
       "      <td>...</td>\n",
       "      <td>[53, 53, 53, 53, 53]</td>\n",
       "      <td>Separate Vocations</td>\n",
       "      <td>3</td>\n",
       "      <td>18</td>\n",
       "      <td>Almost sensuous Oh, baby Damn boxes He's trap...</td>\n",
       "      <td>[3, 1, 1, 1, 1]</td>\n",
       "      <td>[5, 3, 3, 2, 4]</td>\n",
       "      <td>5</td>\n",
       "      <td>4</td>\n",
       "      <td>4</td>\n",
       "    </tr>\n",
       "    <tr>\n",
       "      <th>417</th>\n",
       "      <td>[118649, 118652, 118654, 118656]</td>\n",
       "      <td>[215, 218, 220, 222]</td>\n",
       "      <td>[Cow In Truck: (ANNOYED GRUNT, THEN) I mean (P...</td>\n",
       "      <td>[1102000, 1107000, 1108000, 1110000]</td>\n",
       "      <td>[True, True, True, True]</td>\n",
       "      <td>[5188.0, 2.0, 2.0, 1.0]</td>\n",
       "      <td>[2231.0, 3421.0, 3422.0, 102.0]</td>\n",
       "      <td>[Cow In Truck, Homer Simpson, Homer Simpson, M...</td>\n",
       "      <td>[Rural Road, TRANSPORT VEHICLE, COW SUIT, Marg...</td>\n",
       "      <td>[I mean, Okay, they bought it., Have you got L...</td>\n",
       "      <td>...</td>\n",
       "      <td>[417, 417, 417, 417]</td>\n",
       "      <td>Apocalypse Cow</td>\n",
       "      <td>19</td>\n",
       "      <td>17</td>\n",
       "      <td>I mean Okay, they bought it Have you got Lou i...</td>\n",
       "      <td>[1, 1, 1, 1]</td>\n",
       "      <td>[2, 5, 7, 3]</td>\n",
       "      <td>4</td>\n",
       "      <td>3</td>\n",
       "      <td>4</td>\n",
       "    </tr>\n",
       "  </tbody>\n",
       "</table>\n",
       "<p>2 rows × 22 columns</p>\n",
       "</div>"
      ],
      "text/plain": [
       "                                           id_x                     number  \\\n",
       "episode_id                                                                   \n",
       "53          [16001, 16003, 16005, 16007, 16008]  [105, 107, 109, 111, 112]   \n",
       "417            [118649, 118652, 118654, 118656]       [215, 218, 220, 222]   \n",
       "\n",
       "                                                     raw_text  \\\n",
       "episode_id                                                      \n",
       "53          [Apu Nahasapeemapetilon: (PLEASED, TO SELF) Oo...   \n",
       "417         [Cow In Truck: (ANNOYED GRUNT, THEN) I mean (P...   \n",
       "\n",
       "                                     timestamp_in_ms  \\\n",
       "episode_id                                             \n",
       "53          [442000, 460000, 471000, 476000, 485000]   \n",
       "417             [1102000, 1107000, 1108000, 1110000]   \n",
       "\n",
       "                             speaking_line                    character_id  \\\n",
       "episode_id                                                                   \n",
       "53          [True, True, True, True, True]  [208.0, 8.0, 90.0, 90.0, 91.0]   \n",
       "417               [True, True, True, True]         [5188.0, 2.0, 2.0, 1.0]   \n",
       "\n",
       "                                  location_id  \\\n",
       "episode_id                                      \n",
       "53          [136.0, 1.0, 585.0, 586.0, 586.0]   \n",
       "417           [2231.0, 3421.0, 3422.0, 102.0]   \n",
       "\n",
       "                                           raw_character_text  \\\n",
       "episode_id                                                      \n",
       "53          [Apu Nahasapeemapetilon, Bart Simpson, Eddie, ...   \n",
       "417         [Cow In Truck, Homer Simpson, Homer Simpson, M...   \n",
       "\n",
       "                                            raw_location_text  \\\n",
       "episode_id                                                      \n",
       "53          [Kwik-E-Mart, Street, Warehouse District, OUTD...   \n",
       "417         [Rural Road, TRANSPORT VEHICLE, COW SUIT, Marg...   \n",
       "\n",
       "                                                 spoken_words  ...  \\\n",
       "episode_id                                                     ...   \n",
       "53          [Ooh, they used nylon rope this time. It feels...  ...   \n",
       "417         [I mean, Okay, they bought it., Have you got L...  ...   \n",
       "\n",
       "                            id_y               title season number_in_season  \\\n",
       "episode_id                                                                     \n",
       "53          [53, 53, 53, 53, 53]  Separate Vocations      3               18   \n",
       "417         [417, 417, 417, 417]      Apocalypse Cow     19               17   \n",
       "\n",
       "                                           spoken_words_split  \\\n",
       "episode_id                                                      \n",
       "53           Almost sensuous Oh, baby Damn boxes He's trap...   \n",
       "417         I mean Okay, they bought it Have you got Lou i...   \n",
       "\n",
       "             number_in_line      n_syllables n_lines n_characters  n_locations  \n",
       "episode_id                                                                      \n",
       "53          [3, 1, 1, 1, 1]  [5, 3, 3, 2, 4]       5            4            4  \n",
       "417            [1, 1, 1, 1]     [2, 5, 7, 3]       4            3            4  \n",
       "\n",
       "[2 rows x 22 columns]"
      ]
     },
     "execution_count": 13,
     "metadata": {},
     "output_type": "execute_result"
    }
   ],
   "source": [
    "# How about locations?\n",
    "haiku_df['n_locations'] = haiku_df.location_id.apply(lambda x: len(set(x)))\n",
    "haiku_df[haiku_df.n_locations == haiku_df.n_locations.max()]"
   ]
  },
  {
   "cell_type": "code",
   "execution_count": 14,
   "metadata": {},
   "outputs": [
    {
     "data": {
      "text/plain": [
       "Text(0.5, 1.0, 'Number of haikus per season')"
      ]
     },
     "execution_count": 14,
     "metadata": {},
     "output_type": "execute_result"
    },
    {
     "data": {
      "image/png": "[encoded data removed]",
      "text/plain": [
       "<Figure size 640x480 with 1 Axes>"
      ]
     },
     "metadata": {},
     "output_type": "display_data"
    }
   ],
   "source": [
    "# Distribution by Season\n",
    "import seaborn as sns\n",
    "sns.set()\n",
    "\n",
    "haiku_df.groupby('season').count()['id_x'].plot()\n",
    "plt.title('Number of haikus per season')"
   ]
  },
  {
   "cell_type": "markdown",
   "metadata": {},
   "source": [
    "Perhaps to your surprise, season 9 is off the charts in terms of haiku content. And there is an overall trend of haikus decreasing over the years. Who knew! Looking at the top episodes in terms of haiku count:"
   ]
  },
  {
   "cell_type": "code",
   "execution_count": 15,
   "metadata": {},
   "outputs": [
    {
     "data": {
      "text/plain": [
       "episode_id  title                                    season  number_in_season\n",
       "203         Natural Born Kissers                     9       25                  60\n",
       "14          Bart Gets an \"F\"                         2       1                   58\n",
       "9           Life on the Fast Lane                    1       9                   58\n",
       "129         Who Shot Mr. Burns? (Part Two)           7       1                   57\n",
       "194         Dumbbell Indemnity                       9       16                  56\n",
       "206         Bart the Mother                          10      3                   56\n",
       "255         The Great Money Caper                    12      7                   55\n",
       "33          The War of the Simpsons                  2       20                  55\n",
       "24          One Fish, Two Fish, Blowfish, Blue Fish  2       11                  55\n",
       "201         King of the Hill                         9       23                  54\n",
       "228         Brother's Little Helper                  11      2                   53\n",
       "190         Bart Carny                               9       12                  53\n",
       "35          Blood Feud                               2       22                  52\n",
       "168         Homer's Phobia                           8       15                  52\n",
       "5           Bart the General                         1       5                   51\n",
       "184         Bart Star                                9       6                   51\n",
       "386         The Haw-Hawed Couple                     18      8                   50\n",
       "271         The Parent Rap                           13      2                   50\n",
       "39          Bart the Murderer                        3       4                   50\n",
       "192         Das Bus                                  9       14                  50\n",
       "dtype: int64"
      ]
     },
     "execution_count": 15,
     "metadata": {},
     "output_type": "execute_result"
    }
   ],
   "source": [
    "# Which episode(s) have the most haikus?\n",
    "haiku_df.reset_index().groupby('episode_id')[['title', 'season', 'number_in_season']].value_counts().sort_values(ascending=False).head(20)"
   ]
  },
  {
   "cell_type": "code",
   "execution_count": 16,
   "metadata": {},
   "outputs": [
    {
     "data": {
      "text/plain": [
       "episode_id  title                                              season  number_in_season\n",
       "496         Politically Inept, with Homer Simpson              23      10                  14\n",
       "107         Itchy & Scratchy Land                              6       4                   14\n",
       "286         Gump Roast                                         13      17                  14\n",
       "189         All Singing, All Dancing                           9       11                  14\n",
       "337         All's Fair in Oven War                             16      2                   15\n",
       "540         Married to the Blob                                25      10                  15\n",
       "556         Treehouse of Horror XXV                            26      4                   15\n",
       "568         Sky Police                                         26      16                  15\n",
       "112         Homer Badman                                       6       9                   15\n",
       "64          Treehouse of Horror III                            4       5                   16\n",
       "372         Million-Dollar Abie                                17      16                  16\n",
       "539         Steal This Episode                                 25      9                   16\n",
       "391         Springfield Up                                     18      13                  17\n",
       "479         The Scorpion's Tale                                22      15                  17\n",
       "394         Homerazzi                                          18      16                  17\n",
       "108         Sideshow Bob Roberts                               6       5                   17\n",
       "307         'Scuse Me While I Miss the Sky                     14      16                  18\n",
       "505         A Totally Fun Thing That Bart Will Never Do Again  23      19                  18\n",
       "504         Beware My Cheating Bart                            23      18                  18\n",
       "324         Margical History Tour                              15      11                  18\n",
       "dtype: int64"
      ]
     },
     "execution_count": 16,
     "metadata": {},
     "output_type": "execute_result"
    }
   ],
   "source": [
    "# Which episode(s) have the least haikus?\n",
    "haiku_df.reset_index().groupby('episode_id')[['title', 'season', 'number_in_season']].value_counts().sort_values(ascending=True).head(20)"
   ]
  },
  {
   "cell_type": "code",
   "execution_count": 17,
   "metadata": {},
   "outputs": [
    {
     "name": "stderr",
     "output_type": "stream",
     "text": [
      "b'Skipping line 8084: expected 13 fields, saw 20\\nSkipping line 52607: expected 13 fields, saw 21\\nSkipping line 59910: expected 13 fields, saw 21\\n'\n",
      "b'Skipping line 71801: expected 13 fields, saw 20\\nSkipping line 73539: expected 13 fields, saw 21\\nSkipping line 77230: expected 13 fields, saw 21\\nSkipping line 78953: expected 13 fields, saw 21\\nSkipping line 81138: expected 13 fields, saw 20\\nSkipping line 86746: expected 13 fields, saw 22\\nSkipping line 101154: expected 13 fields, saw 21\\nSkipping line 115438: expected 13 fields, saw 20\\nSkipping line 117573: expected 13 fields, saw 22\\nSkipping line 130610: expected 13 fields, saw 22\\n'\n",
      "b'Skipping line 152970: expected 13 fields, saw 22\\nSkipping line 153017: expected 13 fields, saw 20\\nSkipping line 153018: expected 13 fields, saw 30\\nSkipping line 154080: expected 13 fields, saw 20\\nSkipping line 154082: expected 13 fields, saw 20\\nSkipping line 154084: expected 13 fields, saw 20\\nSkipping line 154086: expected 13 fields, saw 20\\nSkipping line 154089: expected 13 fields, saw 23\\nSkipping line 154165: expected 13 fields, saw 21\\nSkipping line 156872: expected 13 fields, saw 20\\n'\n",
      "100%|███████████████████████████████████████████████████████████████████████| 132089/132089 [00:07<00:00, 18836.84it/s]\n"
     ]
    },
    {
     "data": {
      "text/plain": [
       "<matplotlib.legend.Legend at 0x261c95d3760>"
      ]
     },
     "execution_count": 17,
     "metadata": {},
     "output_type": "execute_result"
    },
    {
     "data": {
      "image/png": "[encoded data removed]",
      "text/plain": [
       "<Figure size 640x480 with 1 Axes>"
      ]
     },
     "metadata": {},
     "output_type": "display_data"
    }
   ],
   "source": [
    "base_script = pd.read_csv('dataset/simpsons_script_lines.csv', error_bad_lines=False).dropna(subset=['word_count'])\n",
    "episode_data = pd.read_csv('dataset/simpsons_episodes.csv')[['id', 'title', 'season', 'number_in_season']]\n",
    "base_script = pd.merge(base_script, episode_data, how='left', left_on='episode_id', right_on='id')\n",
    "\n",
    "base_script['n_syllables'] = base_script.spoken_words.progress_apply(simpsons_haiku.count_syllables_line)\n",
    "base_script.groupby('season')['n_syllables'].mean().plot(label='Mean syllables per line')\n",
    "base_script.groupby('season')['word_count'].mean().plot(label='Mean words per line')\n",
    "\n",
    "plt.title('Mean number of words per line by season (Original script)')\n",
    "plt.legend()"
   ]
  },
  {
   "cell_type": "code",
   "execution_count": 18,
   "metadata": {},
   "outputs": [
    {
     "data": {
      "text/plain": [
       "<AxesSubplot:title={'center':'Mean number of syllables per word by season'}, xlabel='season'>"
      ]
     },
     "execution_count": 18,
     "metadata": {},
     "output_type": "execute_result"
    },
    {
     "data": {
      "image/png": "[encoded data removed]",
      "text/plain": [
       "<Figure size 640x480 with 1 Axes>"
      ]
     },
     "metadata": {},
     "output_type": "display_data"
    }
   ],
   "source": [
    "# This the ratio of the two lines above\n",
    "plt.title('Mean number of syllables per word by season')\n",
    "(base_script.groupby('season')['n_syllables'].sum() / base_script.groupby('season')['word_count'].sum()).plot(color='g')"
   ]
  },
  {
   "cell_type": "code",
   "execution_count": 19,
   "metadata": {},
   "outputs": [
    {
     "data": {
      "text/plain": [
       "[17]          1654\n",
       "[9, 8]         468\n",
       "[5, 12]        453\n",
       "[8, 9]         429\n",
       "[10, 7]        429\n",
       "[7, 10]        413\n",
       "[12, 5]        399\n",
       "[11, 6]        371\n",
       "[4, 13]        336\n",
       "[6, 11]        299\n",
       "[3, 14]        235\n",
       "[13, 4]        228\n",
       "[15, 2]        203\n",
       "[2, 15]        195\n",
       "[14, 3]        192\n",
       "[5, 7, 5]      144\n",
       "[16, 1]        134\n",
       "[1, 16]        114\n",
       "[5, 6, 6]      109\n",
       "[5, 5, 7]      109\n",
       "[7, 5, 5]      104\n",
       "[5, 4, 8]       97\n",
       "[4, 8, 5]       94\n",
       "[4, 6, 7]       93\n",
       "[8, 4, 5]       90\n",
       "[4, 7, 6]       88\n",
       "[6, 6, 5]       88\n",
       "[4, 5, 8]       88\n",
       "[7, 4, 6]       82\n",
       "[10, 2, 5]      74\n",
       "Name: n_syllables, dtype: int64"
      ]
     },
     "execution_count": 19,
     "metadata": {},
     "output_type": "execute_result"
    }
   ],
   "source": [
    "# Distribution of haikus by syllable count of constituent diaglogue lines\n",
    "haiku_df.n_syllables.value_counts().head(30)"
   ]
  },
  {
   "cell_type": "code",
   "execution_count": 20,
   "metadata": {},
   "outputs": [
    {
     "data": {
      "text/html": [
       "<div>\n",
       "<style scoped>\n",
       "    .dataframe tbody tr th:only-of-type {\n",
       "        vertical-align: middle;\n",
       "    }\n",
       "\n",
       "    .dataframe tbody tr th {\n",
       "        vertical-align: top;\n",
       "    }\n",
       "\n",
       "    .dataframe thead th {\n",
       "        text-align: right;\n",
       "    }\n",
       "</style>\n",
       "<table border=\"1\" class=\"dataframe\">\n",
       "  <thead>\n",
       "    <tr style=\"text-align: right;\">\n",
       "      <th></th>\n",
       "      <th>index</th>\n",
       "      <th>n_syllables</th>\n",
       "    </tr>\n",
       "  </thead>\n",
       "  <tbody>\n",
       "    <tr>\n",
       "      <th>2</th>\n",
       "      <td>[5, 12]</td>\n",
       "      <td>453</td>\n",
       "    </tr>\n",
       "    <tr>\n",
       "      <th>6</th>\n",
       "      <td>[12, 5]</td>\n",
       "      <td>399</td>\n",
       "    </tr>\n",
       "    <tr>\n",
       "      <th>15</th>\n",
       "      <td>[5, 7, 5]</td>\n",
       "      <td>144</td>\n",
       "    </tr>\n",
       "    <tr>\n",
       "      <th>18</th>\n",
       "      <td>[5, 6, 6]</td>\n",
       "      <td>109</td>\n",
       "    </tr>\n",
       "    <tr>\n",
       "      <th>19</th>\n",
       "      <td>[5, 5, 7]</td>\n",
       "      <td>109</td>\n",
       "    </tr>\n",
       "    <tr>\n",
       "      <th>...</th>\n",
       "      <td>...</td>\n",
       "      <td>...</td>\n",
       "    </tr>\n",
       "    <tr>\n",
       "      <th>2670</th>\n",
       "      <td>[2, 2, 2, 1, 5, 5]</td>\n",
       "      <td>1</td>\n",
       "    </tr>\n",
       "    <tr>\n",
       "      <th>2673</th>\n",
       "      <td>[2, 1, 1, 4, 4, 5]</td>\n",
       "      <td>1</td>\n",
       "    </tr>\n",
       "    <tr>\n",
       "      <th>2678</th>\n",
       "      <td>[1, 2, 5, 4, 5]</td>\n",
       "      <td>1</td>\n",
       "    </tr>\n",
       "    <tr>\n",
       "      <th>2681</th>\n",
       "      <td>[5, 2, 2, 2, 2, 2, 1, 1]</td>\n",
       "      <td>1</td>\n",
       "    </tr>\n",
       "    <tr>\n",
       "      <th>2684</th>\n",
       "      <td>[4, 2, 2, 4, 5]</td>\n",
       "      <td>1</td>\n",
       "    </tr>\n",
       "  </tbody>\n",
       "</table>\n",
       "<p>496 rows × 2 columns</p>\n",
       "</div>"
      ],
      "text/plain": [
       "                         index  n_syllables\n",
       "2                      [5, 12]          453\n",
       "6                      [12, 5]          399\n",
       "15                   [5, 7, 5]          144\n",
       "18                   [5, 6, 6]          109\n",
       "19                   [5, 5, 7]          109\n",
       "...                        ...          ...\n",
       "2670        [2, 2, 2, 1, 5, 5]            1\n",
       "2673        [2, 1, 1, 4, 4, 5]            1\n",
       "2678           [1, 2, 5, 4, 5]            1\n",
       "2681  [5, 2, 2, 2, 2, 2, 1, 1]            1\n",
       "2684           [4, 2, 2, 4, 5]            1\n",
       "\n",
       "[496 rows x 2 columns]"
      ]
     },
     "execution_count": 20,
     "metadata": {},
     "output_type": "execute_result"
    }
   ],
   "source": [
    "haiku_df.n_syllables.value_counts().reset_index()[haiku_df.n_syllables.value_counts().reset_index()['index'].apply(lambda x: x[0] == 5 or x[-1] == 5)]"
   ]
  },
  {
   "cell_type": "markdown",
   "metadata": {},
   "source": [
    "## Generating haikus\n",
    "This section generates haikus, demonstrating the usage of the `syllable_patterns` and `golden_age` parameters."
   ]
  },
  {
   "cell_type": "code",
   "execution_count": 21,
   "metadata": {},
   "outputs": [
    {
     "name": "stdout",
     "output_type": "stream",
     "text": [
      "[12, 5], S06E03\n",
      "I mean it was it\n",
      "was a beautiful evening\n",
      "Let's not ruin it\n"
     ]
    }
   ],
   "source": [
    "# Higher quality haikus\n",
    "haiku, metadata = simpsons_haiku.generate_haiku(syllable_patterns=[[5,7,5], [17], [5, 12], [12, 5]], golden_age=True)\n",
    "print('{}, S{:02d}E{:02d}'.format(metadata['n_syllables'].values[0], metadata['season'].values[0], metadata['number_in_season'].values[0]))\n",
    "print(haiku)"
   ]
  },
  {
   "cell_type": "code",
   "execution_count": 22,
   "metadata": {},
   "outputs": [
    {
     "name": "stdout",
     "output_type": "stream",
     "text": [
      "[9, 8], S06E21\n",
      "but we don't have that\n",
      "kind of money In fact no\n",
      "school could afford to\n"
     ]
    }
   ],
   "source": [
    "# Medium quality? Two line breaks\n",
    "haiku, metadata = simpsons_haiku.generate_haiku(syllable_patterns=[[9, 8], [8, 9], [10, 7], [7, 10]])\n",
    "print('{}, S{:02d}E{:02d}'.format(metadata['n_syllables'].values[0], metadata['season'].values[0], metadata['number_in_season'].values[0]))\n",
    "print(haiku)"
   ]
  },
  {
   "cell_type": "code",
   "execution_count": 23,
   "metadata": {},
   "outputs": [
    {
     "name": "stdout",
     "output_type": "stream",
     "text": [
      "[5, 5, 7], S24E04\n",
      "THE EGG IN MY CREAM\n",
      "YEAH YOU KNOCK ME OUT THEN YOU'RE\n",
      "THE GIRL OF MY DREAMS\n"
     ]
    }
   ],
   "source": [
    "# Lower quality haikus\n",
    "haiku, metadata = simpsons_haiku.generate_haiku(syllable_patterns=[[5, 5, 7]])\n",
    "print('{}, S{:02d}E{:02d}'.format(metadata['n_syllables'].values[0], metadata['season'].values[0], metadata['number_in_season'].values[0]))\n",
    "print(haiku)"
   ]
  },
  {
   "cell_type": "markdown",
   "metadata": {},
   "source": [
    "## Appendix\n",
    "\n",
    "This section demonstrates some the functionality associated with the SimpsonsTwitterBot class, particularly querying GIFs from the Frinkiac API via the package `compuglobal`, as well as debugging."
   ]
  },
  {
   "cell_type": "code",
   "execution_count": 24,
   "metadata": {},
   "outputs": [],
   "source": [
    "from twitter import SimpsonsTwitterBot\n",
    "\n",
    "# Generate frinkiac gifs and images from a haiku - S4E17 Last Exit to Springfield\n",
    "haiku_query = \"\"\"It doesn't take a\n",
    "                 whiz to see that you're looking \n",
    "                 out for number one\"\"\"\n",
    "\n",
    "simpsons_bot = SimpsonsTwitterBot(\n",
    "        auth_dict=json.load(open('auth.json')), \n",
    "        haiku_df='haiku_df.csv'\n",
    "    )\n",
    "\n",
    "image_url, meme_url, gif_url, mp4_url = simpsons_bot.search_frinkiac(haiku_query, episode_key='S04E17')"
   ]
  },
  {
   "cell_type": "code",
   "execution_count": 25,
   "metadata": {},
   "outputs": [],
   "source": [
    "import compuglobal \n",
    "simpsons = compuglobal.Frinkiac()\n",
    "\n",
    "\n",
    "episode_key = 'S{:02d}E{:02d}'.format(metadata['season'].values[0], metadata['number_in_season'].values[0])\n",
    "\n",
    "gif_url, image_url = None, None\n",
    "search_results = simpsons.search(haiku)\n",
    "for result in search_results:\n",
    "    if result.key == episode_key:\n",
    "        screencap = simpsons.get_screencap(result.key, \n",
    "                                           result.timestamp)\n",
    "        image_url = screencap.get_image_url()\n",
    "        gif_url = screencap.get_gif_url()\n",
    "        \n",
    "        break"
   ]
  },
  {
   "cell_type": "code",
   "execution_count": 26,
   "metadata": {},
   "outputs": [],
   "source": [
    "image_url"
   ]
  },
  {
   "cell_type": "code",
   "execution_count": 27,
   "metadata": {},
   "outputs": [],
   "source": [
    "gif_url"
   ]
  },
  {
   "cell_type": "code",
   "execution_count": 28,
   "metadata": {},
   "outputs": [
    {
     "data": {
      "text/plain": [
       "'https://frinkiac.com/mp4/S04E17/824156/831046.mp4?b64lines=IEFORCBJIFdBTlQgVE8gVEFLRSBUSEUKIFBSRVNTVVJFIE9GRi4='"
      ]
     },
     "execution_count": 28,
     "metadata": {},
     "output_type": "execute_result"
    }
   ],
   "source": [
    "mp4_url"
   ]
  },
  {
   "cell_type": "code",
   "execution_count": null,
   "metadata": {},
   "outputs": [],
   "source": [
    "# Check syllable counts\n",
    "for word in \"DR ZAIUS DR ZAIUS\".split():\n",
    "    print(word, simpsons_haiku.num_syllables(word))"
   ]
  },
  {
   "cell_type": "code",
   "execution_count": 30,
   "metadata": {},
   "outputs": [
    {
     "data": {
      "text/plain": [
       "array(['Man, look at all the crap with my face on it. \"Krusty\\'s Personal Swabs?\" What was I thinkin\\'? All these years I shoulda been workin\\' on my act, but I was too busy sellin\\' out. Now I\\'m just a tired old hack.',\n",
       "       \"I don't know. I think this movie was a big mistake. All I do is talk for two hours. I don't shoot anybody! What was I thinking?!\",\n",
       "       'What was I thinking, trying to feel alive? Forget that!',\n",
       "       'Why did I do that? / It sounds so dull and boring. / What was I thinking?'],\n",
       "      dtype=object)"
      ]
     },
     "execution_count": 30,
     "metadata": {},
     "output_type": "execute_result"
    }
   ],
   "source": [
    "# Search script for line - used in debugging\n",
    "def fun(x):\n",
    "    if isinstance(x, float):\n",
    "        return False\n",
    "    else:\n",
    "        return 'What was I think' in x\n",
    "    \n",
    "base_script[base_script.spoken_words.apply(fun)].spoken_words.values"
   ]
  },
  {
   "cell_type": "code",
   "execution_count": 31,
   "metadata": {},
   "outputs": [
    {
     "data": {
      "text/plain": [
       "' And as you go forth today, remember always, your duty is clear'"
      ]
     },
     "execution_count": 31,
     "metadata": {},
     "output_type": "execute_result"
    }
   ],
   "source": [
    "haiku_df[haiku_df.season < 9].iloc[-2].spoken_words_split"
   ]
  },
  {
   "cell_type": "code",
   "execution_count": null,
   "metadata": {},
   "outputs": [],
   "source": [
    "haiku_df[haiku_df.title == \"Mr Plow\"][['spoken_words_split', 'n_syllables']].values"
   ]
  },
  {
   "cell_type": "code",
   "execution_count": null,
   "metadata": {},
   "outputs": [],
   "source": []
  }
 ],
 "metadata": {
  "kernelspec": {
   "display_name": "simpsons_haiku",
   "language": "python",
   "name": "simpsons_haiku"
  },
  "language_info": {
   "codemirror_mode": {
    "name": "ipython",
    "version": 3
   },
   "file_extension": ".py",
   "mimetype": "text/x-python",
   "name": "python",
   "nbconvert_exporter": "python",
   "pygments_lexer": "ipython3",
   "version": "3.10.4"
  },
  "vscode": {
   "interpreter": {
    "hash": "41912a6cf46c57c1e23829e836fc30eac55f9e23ffe2f84c53dcbcab27e0fc59"
   }
  }
 },
 "nbformat": 4,
 "nbformat_minor": 4
}
