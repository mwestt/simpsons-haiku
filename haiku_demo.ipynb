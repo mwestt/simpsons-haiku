{
 "cells": [
  {
   "cell_type": "markdown",
   "metadata": {},
   "source": [
    "# Simpsons Haiku Demo \n",
    "## [@SimpsonsHaiku](https://twitter.com/SimpsonsHaiku)\n",
    "\n",
    "For anyone who knows me, they'll attest that The Simpsons has had an undue impact on my life, being formative through my early years and enduring to the present moment. That contribution spanned curating a sense of humour deeply anchored in an appreciation for the surreal, a continued love of animation, or exposure to the depths of obscure Americana (thank you, John Swartwzelder).\n",
    "\n",
    "This notebook demonstrates the implementation of an idea I had long ago, inspired by [@nythaikus](https://twitter.com/nythaikus). The dataset used here is hosted [on Kaggle here](https://www.kaggle.com/datasets/prashant111/the-simpsons-dataset), and was originally scraped by [Todd Schneider](https://toddwschneider.com/posts/the-simpsons-by-the-data/), covering the first 26 seasons. We start by loading the core haiku object, of class `SimpsonsHaiku`, and extracting a DataFrame of haikus."
   ]
  },
  {
   "cell_type": "code",
   "execution_count": 1,
   "metadata": {},
   "outputs": [],
   "source": [
    "import compuglobal\n",
    "import matplotlib.pyplot as plt\n",
    "from haiku import *"
   ]
  },
  {
   "cell_type": "code",
   "execution_count": 2,
   "metadata": {},
   "outputs": [
    {
     "name": "stderr",
     "output_type": "stream",
     "text": [
      "100%|███████████████████████████████████████████████████████████████████████| 400929/400929 [00:07<00:00, 56780.79it/s]\n"
     ]
    }
   ],
   "source": [
    "simpsons_haiku = SimpsonsHaiku()"
   ]
  },
  {
   "cell_type": "code",
   "execution_count": 9,
   "metadata": {},
   "outputs": [
    {
     "name": "stderr",
     "output_type": "stream",
     "text": [
      "100%|█████████████████████████████████████████████████████████████████████████| 224803/224803 [14:42<00:00, 254.87it/s]\n",
      "100%|█████████████████████████████████████████████████████████████████████████| 30238/30238 [00:02<00:00, 14840.66it/s]\n"
     ]
    }
   ],
   "source": [
    "# Generate haiku_df, will do so from scratch here but will load from path if it is passed when instantiating SimpsonsHaiku object\n",
    "haiku_df = simpsons_haiku.generate_haiku_df(save=True)"
   ]
  },
  {
   "cell_type": "code",
   "execution_count": 10,
   "metadata": {},
   "outputs": [
    {
     "name": "stdout",
     "output_type": "stream",
     "text": [
      "[17], S23E22\n",
      "Now this all started\n",
      "because you used a fake name\n",
      "to defend yourself\n"
     ]
    }
   ],
   "source": [
    "# Subsequent calls will use the object's already-defined `haiku_df` attribute\n",
    "haiku, metadata = simpsons_haiku.generate_haiku()\n",
    "print('{}, S{:02d}E{:02d}'.format(metadata['n_syllables'].values[0], metadata['season'].values[0], metadata['number_in_season'].values[0]))\n",
    "print(haiku)"
   ]
  },
  {
   "cell_type": "markdown",
   "metadata": {},
   "source": [
    "## Exploratory data analysis\n",
    "\n",
    "Have you ever wondered which season of The Simpsons had the most haikus? How the average syllable-per-word count trended over the seasons? The maxiumum number of characters that contribute to a 17-syllable sequence of dialogue?  Well here's the notebook section for you!  "
   ]
  },
  {
   "cell_type": "code",
   "execution_count": 11,
   "metadata": {},
   "outputs": [
    {
     "data": {
      "text/html": [
       "<div>\n",
       "<style scoped>\n",
       "    .dataframe tbody tr th:only-of-type {\n",
       "        vertical-align: middle;\n",
       "    }\n",
       "\n",
       "    .dataframe tbody tr th {\n",
       "        vertical-align: top;\n",
       "    }\n",
       "\n",
       "    .dataframe thead th {\n",
       "        text-align: right;\n",
       "    }\n",
       "</style>\n",
       "<table border=\"1\" class=\"dataframe\">\n",
       "  <thead>\n",
       "    <tr style=\"text-align: right;\">\n",
       "      <th></th>\n",
       "      <th>id_x</th>\n",
       "      <th>number</th>\n",
       "      <th>raw_text</th>\n",
       "      <th>timestamp_in_ms</th>\n",
       "      <th>speaking_line</th>\n",
       "      <th>character_id</th>\n",
       "      <th>location_id</th>\n",
       "      <th>raw_character_text</th>\n",
       "      <th>raw_location_text</th>\n",
       "      <th>spoken_words</th>\n",
       "      <th>normalized_text</th>\n",
       "      <th>word_count</th>\n",
       "      <th>id_y</th>\n",
       "      <th>title</th>\n",
       "      <th>season</th>\n",
       "      <th>number_in_season</th>\n",
       "      <th>spoken_words_split</th>\n",
       "      <th>number_in_line</th>\n",
       "      <th>n_syllables</th>\n",
       "      <th>n_lines</th>\n",
       "    </tr>\n",
       "    <tr>\n",
       "      <th>episode_id</th>\n",
       "      <th></th>\n",
       "      <th></th>\n",
       "      <th></th>\n",
       "      <th></th>\n",
       "      <th></th>\n",
       "      <th></th>\n",
       "      <th></th>\n",
       "      <th></th>\n",
       "      <th></th>\n",
       "      <th></th>\n",
       "      <th></th>\n",
       "      <th></th>\n",
       "      <th></th>\n",
       "      <th></th>\n",
       "      <th></th>\n",
       "      <th></th>\n",
       "      <th></th>\n",
       "      <th></th>\n",
       "      <th></th>\n",
       "      <th></th>\n",
       "    </tr>\n",
       "  </thead>\n",
       "  <tbody>\n",
       "    <tr>\n",
       "      <th>195</th>\n",
       "      <td>[54908, 54908, 54908, 54909, 54909, 54909, 549...</td>\n",
       "      <td>[135, 135, 135, 136, 136, 136, 136, 136, 136, ...</td>\n",
       "      <td>[Bart Simpson: Yes! Heh, heh! / Ha! Ha! / Woo ...</td>\n",
       "      <td>[629000, 629000, 629000, 639000, 639000, 63900...</td>\n",
       "      <td>[True, True, True, True, True, True, True, Tru...</td>\n",
       "      <td>[8.0, 8.0, 8.0, 8.0, 8.0, 8.0, 8.0, 8.0, 8.0, ...</td>\n",
       "      <td>[5.0, 5.0, 5.0, 5.0, 5.0, 5.0, 5.0, 5.0, 5.0, ...</td>\n",
       "      <td>[Bart Simpson, Bart Simpson, Bart Simpson, Bar...</td>\n",
       "      <td>[Simpson Home, Simpson Home, Simpson Home, Sim...</td>\n",
       "      <td>[Yes! Heh, heh! / Ha! Ha! / Woo hoo hoo heh he...</td>\n",
       "      <td>[yes heh heh ha ha woo hoo hoo heh heh woo oh ...</td>\n",
       "      <td>[13.0, 13.0, 13.0, 11.0, 11.0, 11.0, 11.0, 11....</td>\n",
       "      <td>[195, 195, 195, 195, 195, 195, 195, 195, 195, ...</td>\n",
       "      <td>Lisa the Simpson</td>\n",
       "      <td>9</td>\n",
       "      <td>17</td>\n",
       "      <td>Woo  Oh  Oh Yeah  Ha  Ha  Ha  Ha  Ha  Ha  Ha ...</td>\n",
       "      <td>[9, 11, 12, 1, 2, 3, 4, 5, 6, 7, 9, 10, 11, 1,...</td>\n",
       "      <td>[1, 1, 1, 1, 1, 1, 1, 1, 1, 1, 1, 1, 2, 1, 1, 1]</td>\n",
       "      <td>16</td>\n",
       "    </tr>\n",
       "    <tr>\n",
       "      <th>195</th>\n",
       "      <td>[54908, 54908, 54909, 54909, 54909, 54909, 549...</td>\n",
       "      <td>[135, 135, 136, 136, 136, 136, 136, 136, 136, ...</td>\n",
       "      <td>[Bart Simpson: Yes! Heh, heh! / Ha! Ha! / Woo ...</td>\n",
       "      <td>[629000, 629000, 639000, 639000, 639000, 63900...</td>\n",
       "      <td>[True, True, True, True, True, True, True, Tru...</td>\n",
       "      <td>[8.0, 8.0, 8.0, 8.0, 8.0, 8.0, 8.0, 8.0, 8.0, ...</td>\n",
       "      <td>[5.0, 5.0, 5.0, 5.0, 5.0, 5.0, 5.0, 5.0, 5.0, ...</td>\n",
       "      <td>[Bart Simpson, Bart Simpson, Bart Simpson, Bar...</td>\n",
       "      <td>[Simpson Home, Simpson Home, Simpson Home, Sim...</td>\n",
       "      <td>[Yes! Heh, heh! / Ha! Ha! / Woo hoo hoo heh he...</td>\n",
       "      <td>[yes heh heh ha ha woo hoo hoo heh heh woo oh ...</td>\n",
       "      <td>[13.0, 13.0, 11.0, 11.0, 11.0, 11.0, 11.0, 11....</td>\n",
       "      <td>[195, 195, 195, 195, 195, 195, 195, 195, 195, ...</td>\n",
       "      <td>Lisa the Simpson</td>\n",
       "      <td>9</td>\n",
       "      <td>17</td>\n",
       "      <td>Oh  Oh Yeah  Ha  Ha  Ha  Ha  Ha  Ha  Ha  Ha  ...</td>\n",
       "      <td>[11, 12, 1, 2, 3, 4, 5, 6, 7, 9, 10, 11, 1, 2,...</td>\n",
       "      <td>[1, 1, 1, 1, 1, 1, 1, 1, 1, 1, 1, 2, 1, 1, 1, 1]</td>\n",
       "      <td>16</td>\n",
       "    </tr>\n",
       "    <tr>\n",
       "      <th>195</th>\n",
       "      <td>[54908, 54909, 54909, 54909, 54909, 54909, 549...</td>\n",
       "      <td>[135, 136, 136, 136, 136, 136, 136, 136, 136, ...</td>\n",
       "      <td>[Bart Simpson: Yes! Heh, heh! / Ha! Ha! / Woo ...</td>\n",
       "      <td>[629000, 639000, 639000, 639000, 639000, 63900...</td>\n",
       "      <td>[True, True, True, True, True, True, True, Tru...</td>\n",
       "      <td>[8.0, 8.0, 8.0, 8.0, 8.0, 8.0, 8.0, 8.0, 8.0, ...</td>\n",
       "      <td>[5.0, 5.0, 5.0, 5.0, 5.0, 5.0, 5.0, 5.0, 5.0, ...</td>\n",
       "      <td>[Bart Simpson, Bart Simpson, Bart Simpson, Bar...</td>\n",
       "      <td>[Simpson Home, Simpson Home, Simpson Home, Sim...</td>\n",
       "      <td>[Yes! Heh, heh! / Ha! Ha! / Woo hoo hoo heh he...</td>\n",
       "      <td>[yes heh heh ha ha woo hoo hoo heh heh woo oh ...</td>\n",
       "      <td>[13.0, 11.0, 11.0, 11.0, 11.0, 11.0, 11.0, 11....</td>\n",
       "      <td>[195, 195, 195, 195, 195, 195, 195, 195, 195, ...</td>\n",
       "      <td>Lisa the Simpson</td>\n",
       "      <td>9</td>\n",
       "      <td>17</td>\n",
       "      <td>Oh Yeah  Ha  Ha  Ha  Ha  Ha  Ha  Ha  Ha  All ...</td>\n",
       "      <td>[12, 1, 2, 3, 4, 5, 6, 7, 9, 10, 11, 1, 2, 3, ...</td>\n",
       "      <td>[1, 1, 1, 1, 1, 1, 1, 1, 1, 1, 2, 1, 1, 1, 1, 1]</td>\n",
       "      <td>16</td>\n",
       "    </tr>\n",
       "  </tbody>\n",
       "</table>\n",
       "</div>"
      ],
      "text/plain": [
       "                                                         id_x  \\\n",
       "episode_id                                                      \n",
       "195         [54908, 54908, 54908, 54909, 54909, 54909, 549...   \n",
       "195         [54908, 54908, 54909, 54909, 54909, 54909, 549...   \n",
       "195         [54908, 54909, 54909, 54909, 54909, 54909, 549...   \n",
       "\n",
       "                                                       number  \\\n",
       "episode_id                                                      \n",
       "195         [135, 135, 135, 136, 136, 136, 136, 136, 136, ...   \n",
       "195         [135, 135, 136, 136, 136, 136, 136, 136, 136, ...   \n",
       "195         [135, 136, 136, 136, 136, 136, 136, 136, 136, ...   \n",
       "\n",
       "                                                     raw_text  \\\n",
       "episode_id                                                      \n",
       "195         [Bart Simpson: Yes! Heh, heh! / Ha! Ha! / Woo ...   \n",
       "195         [Bart Simpson: Yes! Heh, heh! / Ha! Ha! / Woo ...   \n",
       "195         [Bart Simpson: Yes! Heh, heh! / Ha! Ha! / Woo ...   \n",
       "\n",
       "                                              timestamp_in_ms  \\\n",
       "episode_id                                                      \n",
       "195         [629000, 629000, 629000, 639000, 639000, 63900...   \n",
       "195         [629000, 629000, 639000, 639000, 639000, 63900...   \n",
       "195         [629000, 639000, 639000, 639000, 639000, 63900...   \n",
       "\n",
       "                                                speaking_line  \\\n",
       "episode_id                                                      \n",
       "195         [True, True, True, True, True, True, True, Tru...   \n",
       "195         [True, True, True, True, True, True, True, Tru...   \n",
       "195         [True, True, True, True, True, True, True, Tru...   \n",
       "\n",
       "                                                 character_id  \\\n",
       "episode_id                                                      \n",
       "195         [8.0, 8.0, 8.0, 8.0, 8.0, 8.0, 8.0, 8.0, 8.0, ...   \n",
       "195         [8.0, 8.0, 8.0, 8.0, 8.0, 8.0, 8.0, 8.0, 8.0, ...   \n",
       "195         [8.0, 8.0, 8.0, 8.0, 8.0, 8.0, 8.0, 8.0, 8.0, ...   \n",
       "\n",
       "                                                  location_id  \\\n",
       "episode_id                                                      \n",
       "195         [5.0, 5.0, 5.0, 5.0, 5.0, 5.0, 5.0, 5.0, 5.0, ...   \n",
       "195         [5.0, 5.0, 5.0, 5.0, 5.0, 5.0, 5.0, 5.0, 5.0, ...   \n",
       "195         [5.0, 5.0, 5.0, 5.0, 5.0, 5.0, 5.0, 5.0, 5.0, ...   \n",
       "\n",
       "                                           raw_character_text  \\\n",
       "episode_id                                                      \n",
       "195         [Bart Simpson, Bart Simpson, Bart Simpson, Bar...   \n",
       "195         [Bart Simpson, Bart Simpson, Bart Simpson, Bar...   \n",
       "195         [Bart Simpson, Bart Simpson, Bart Simpson, Bar...   \n",
       "\n",
       "                                            raw_location_text  \\\n",
       "episode_id                                                      \n",
       "195         [Simpson Home, Simpson Home, Simpson Home, Sim...   \n",
       "195         [Simpson Home, Simpson Home, Simpson Home, Sim...   \n",
       "195         [Simpson Home, Simpson Home, Simpson Home, Sim...   \n",
       "\n",
       "                                                 spoken_words  \\\n",
       "episode_id                                                      \n",
       "195         [Yes! Heh, heh! / Ha! Ha! / Woo hoo hoo heh he...   \n",
       "195         [Yes! Heh, heh! / Ha! Ha! / Woo hoo hoo heh he...   \n",
       "195         [Yes! Heh, heh! / Ha! Ha! / Woo hoo hoo heh he...   \n",
       "\n",
       "                                              normalized_text  \\\n",
       "episode_id                                                      \n",
       "195         [yes heh heh ha ha woo hoo hoo heh heh woo oh ...   \n",
       "195         [yes heh heh ha ha woo hoo hoo heh heh woo oh ...   \n",
       "195         [yes heh heh ha ha woo hoo hoo heh heh woo oh ...   \n",
       "\n",
       "                                                   word_count  \\\n",
       "episode_id                                                      \n",
       "195         [13.0, 13.0, 13.0, 11.0, 11.0, 11.0, 11.0, 11....   \n",
       "195         [13.0, 13.0, 11.0, 11.0, 11.0, 11.0, 11.0, 11....   \n",
       "195         [13.0, 11.0, 11.0, 11.0, 11.0, 11.0, 11.0, 11....   \n",
       "\n",
       "                                                         id_y  \\\n",
       "episode_id                                                      \n",
       "195         [195, 195, 195, 195, 195, 195, 195, 195, 195, ...   \n",
       "195         [195, 195, 195, 195, 195, 195, 195, 195, 195, ...   \n",
       "195         [195, 195, 195, 195, 195, 195, 195, 195, 195, ...   \n",
       "\n",
       "                       title  season  number_in_season  \\\n",
       "episode_id                                               \n",
       "195         Lisa the Simpson       9                17   \n",
       "195         Lisa the Simpson       9                17   \n",
       "195         Lisa the Simpson       9                17   \n",
       "\n",
       "                                           spoken_words_split  \\\n",
       "episode_id                                                      \n",
       "195          Woo  Oh  Oh Yeah  Ha  Ha  Ha  Ha  Ha  Ha  Ha ...   \n",
       "195          Oh  Oh Yeah  Ha  Ha  Ha  Ha  Ha  Ha  Ha  Ha  ...   \n",
       "195          Oh Yeah  Ha  Ha  Ha  Ha  Ha  Ha  Ha  Ha  All ...   \n",
       "\n",
       "                                               number_in_line  \\\n",
       "episode_id                                                      \n",
       "195         [9, 11, 12, 1, 2, 3, 4, 5, 6, 7, 9, 10, 11, 1,...   \n",
       "195         [11, 12, 1, 2, 3, 4, 5, 6, 7, 9, 10, 11, 1, 2,...   \n",
       "195         [12, 1, 2, 3, 4, 5, 6, 7, 9, 10, 11, 1, 2, 3, ...   \n",
       "\n",
       "                                                 n_syllables  n_lines  \n",
       "episode_id                                                             \n",
       "195         [1, 1, 1, 1, 1, 1, 1, 1, 1, 1, 1, 1, 2, 1, 1, 1]       16  \n",
       "195         [1, 1, 1, 1, 1, 1, 1, 1, 1, 1, 1, 2, 1, 1, 1, 1]       16  \n",
       "195         [1, 1, 1, 1, 1, 1, 1, 1, 1, 1, 2, 1, 1, 1, 1, 1]       16  "
      ]
     },
     "execution_count": 11,
     "metadata": {},
     "output_type": "execute_result"
    }
   ],
   "source": [
    "# Max number of lines of dialogue in a 17-syllable sequence? It's 16 (Lisa the Simpson)\n",
    "haiku_df['n_lines'] = haiku_df.number.apply(len)\n",
    "haiku_df[haiku_df.n_lines == haiku_df.n_lines.max()]"
   ]
  },
  {
   "cell_type": "code",
   "execution_count": 12,
   "metadata": {},
   "outputs": [
    {
     "data": {
      "text/html": [
       "<div>\n",
       "<style scoped>\n",
       "    .dataframe tbody tr th:only-of-type {\n",
       "        vertical-align: middle;\n",
       "    }\n",
       "\n",
       "    .dataframe tbody tr th {\n",
       "        vertical-align: top;\n",
       "    }\n",
       "\n",
       "    .dataframe thead th {\n",
       "        text-align: right;\n",
       "    }\n",
       "</style>\n",
       "<table border=\"1\" class=\"dataframe\">\n",
       "  <thead>\n",
       "    <tr style=\"text-align: right;\">\n",
       "      <th></th>\n",
       "      <th>id_x</th>\n",
       "      <th>number</th>\n",
       "      <th>raw_text</th>\n",
       "      <th>timestamp_in_ms</th>\n",
       "      <th>speaking_line</th>\n",
       "      <th>character_id</th>\n",
       "      <th>location_id</th>\n",
       "      <th>raw_character_text</th>\n",
       "      <th>raw_location_text</th>\n",
       "      <th>spoken_words</th>\n",
       "      <th>...</th>\n",
       "      <th>word_count</th>\n",
       "      <th>id_y</th>\n",
       "      <th>title</th>\n",
       "      <th>season</th>\n",
       "      <th>number_in_season</th>\n",
       "      <th>spoken_words_split</th>\n",
       "      <th>number_in_line</th>\n",
       "      <th>n_syllables</th>\n",
       "      <th>n_lines</th>\n",
       "      <th>n_characters</th>\n",
       "    </tr>\n",
       "    <tr>\n",
       "      <th>episode_id</th>\n",
       "      <th></th>\n",
       "      <th></th>\n",
       "      <th></th>\n",
       "      <th></th>\n",
       "      <th></th>\n",
       "      <th></th>\n",
       "      <th></th>\n",
       "      <th></th>\n",
       "      <th></th>\n",
       "      <th></th>\n",
       "      <th></th>\n",
       "      <th></th>\n",
       "      <th></th>\n",
       "      <th></th>\n",
       "      <th></th>\n",
       "      <th></th>\n",
       "      <th></th>\n",
       "      <th></th>\n",
       "      <th></th>\n",
       "      <th></th>\n",
       "      <th></th>\n",
       "    </tr>\n",
       "  </thead>\n",
       "  <tbody>\n",
       "    <tr>\n",
       "      <th>134</th>\n",
       "      <td>[38660, 38661, 38662, 38663, 38664, 38665, 386...</td>\n",
       "      <td>[223, 224, 225, 226, 227, 228, 229, 230, 231, ...</td>\n",
       "      <td>[Marge Simpson: No., Bart Simpson: No., Patty ...</td>\n",
       "      <td>[1105000, 1106000, 1106000, 1106000, 1107000, ...</td>\n",
       "      <td>[True, True, True, True, True, True, True, Tru...</td>\n",
       "      <td>[1.0, 8.0, 10.0, 71.0, 11.0, 22.0, 442.0, 140....</td>\n",
       "      <td>[5.0, 5.0, 5.0, 5.0, 5.0, 5.0, 5.0, 5.0, 5.0, ...</td>\n",
       "      <td>[Marge Simpson, Bart Simpson, Patty Bouvier, C...</td>\n",
       "      <td>[Simpson Home, Simpson Home, Simpson Home, Sim...</td>\n",
       "      <td>[No., No., No., No., No., No., No., No., Yes. ...</td>\n",
       "      <td>...</td>\n",
       "      <td>[1.0, 1.0, 1.0, 1.0, 1.0, 1.0, 1.0, 1.0, 5.0, ...</td>\n",
       "      <td>[134, 134, 134, 134, 134, 134, 134, 134, 134, ...</td>\n",
       "      <td>Treehouse of Horror VI</td>\n",
       "      <td>7</td>\n",
       "      <td>6</td>\n",
       "      <td>No No No No No No No No Yes  I mean no  No Wel...</td>\n",
       "      <td>[1, 1, 1, 1, 1, 1, 1, 1, 1, 2, 3, 1]</td>\n",
       "      <td>[1, 1, 1, 1, 1, 1, 1, 1, 1, 3, 1, 4]</td>\n",
       "      <td>12</td>\n",
       "      <td>9</td>\n",
       "    </tr>\n",
       "  </tbody>\n",
       "</table>\n",
       "<p>1 rows × 21 columns</p>\n",
       "</div>"
      ],
      "text/plain": [
       "                                                         id_x  \\\n",
       "episode_id                                                      \n",
       "134         [38660, 38661, 38662, 38663, 38664, 38665, 386...   \n",
       "\n",
       "                                                       number  \\\n",
       "episode_id                                                      \n",
       "134         [223, 224, 225, 226, 227, 228, 229, 230, 231, ...   \n",
       "\n",
       "                                                     raw_text  \\\n",
       "episode_id                                                      \n",
       "134         [Marge Simpson: No., Bart Simpson: No., Patty ...   \n",
       "\n",
       "                                              timestamp_in_ms  \\\n",
       "episode_id                                                      \n",
       "134         [1105000, 1106000, 1106000, 1106000, 1107000, ...   \n",
       "\n",
       "                                                speaking_line  \\\n",
       "episode_id                                                      \n",
       "134         [True, True, True, True, True, True, True, Tru...   \n",
       "\n",
       "                                                 character_id  \\\n",
       "episode_id                                                      \n",
       "134         [1.0, 8.0, 10.0, 71.0, 11.0, 22.0, 442.0, 140....   \n",
       "\n",
       "                                                  location_id  \\\n",
       "episode_id                                                      \n",
       "134         [5.0, 5.0, 5.0, 5.0, 5.0, 5.0, 5.0, 5.0, 5.0, ...   \n",
       "\n",
       "                                           raw_character_text  \\\n",
       "episode_id                                                      \n",
       "134         [Marge Simpson, Bart Simpson, Patty Bouvier, C...   \n",
       "\n",
       "                                            raw_location_text  \\\n",
       "episode_id                                                      \n",
       "134         [Simpson Home, Simpson Home, Simpson Home, Sim...   \n",
       "\n",
       "                                                 spoken_words  ...  \\\n",
       "episode_id                                                     ...   \n",
       "134         [No., No., No., No., No., No., No., No., Yes. ...  ...   \n",
       "\n",
       "                                                   word_count  \\\n",
       "episode_id                                                      \n",
       "134         [1.0, 1.0, 1.0, 1.0, 1.0, 1.0, 1.0, 1.0, 5.0, ...   \n",
       "\n",
       "                                                         id_y  \\\n",
       "episode_id                                                      \n",
       "134         [134, 134, 134, 134, 134, 134, 134, 134, 134, ...   \n",
       "\n",
       "                             title season  number_in_season  \\\n",
       "episode_id                                                    \n",
       "134         Treehouse of Horror VI      7                 6   \n",
       "\n",
       "                                           spoken_words_split  \\\n",
       "episode_id                                                      \n",
       "134         No No No No No No No No Yes  I mean no  No Wel...   \n",
       "\n",
       "                                  number_in_line  \\\n",
       "episode_id                                         \n",
       "134         [1, 1, 1, 1, 1, 1, 1, 1, 1, 2, 3, 1]   \n",
       "\n",
       "                                     n_syllables n_lines  n_characters  \n",
       "episode_id                                                              \n",
       "134         [1, 1, 1, 1, 1, 1, 1, 1, 1, 3, 1, 4]      12             9  \n",
       "\n",
       "[1 rows x 21 columns]"
      ]
     },
     "execution_count": 12,
     "metadata": {},
     "output_type": "execute_result"
    }
   ],
   "source": [
    "# Max number of unique characters in a 17-syllable sequence? It's Homer 3D in Treehouse of Horror VI, with 9 characters. Did anyone see the movie Tron?\n",
    "haiku_df['n_characters'] = haiku_df.character_id.apply(lambda x: len(set(x)))\n",
    "haiku_df[haiku_df.n_characters == haiku_df.n_characters.max()]"
   ]
  },
  {
   "cell_type": "code",
   "execution_count": 13,
   "metadata": {},
   "outputs": [
    {
     "data": {
      "text/html": [
       "<div>\n",
       "<style scoped>\n",
       "    .dataframe tbody tr th:only-of-type {\n",
       "        vertical-align: middle;\n",
       "    }\n",
       "\n",
       "    .dataframe tbody tr th {\n",
       "        vertical-align: top;\n",
       "    }\n",
       "\n",
       "    .dataframe thead th {\n",
       "        text-align: right;\n",
       "    }\n",
       "</style>\n",
       "<table border=\"1\" class=\"dataframe\">\n",
       "  <thead>\n",
       "    <tr style=\"text-align: right;\">\n",
       "      <th></th>\n",
       "      <th>id_x</th>\n",
       "      <th>number</th>\n",
       "      <th>raw_text</th>\n",
       "      <th>timestamp_in_ms</th>\n",
       "      <th>speaking_line</th>\n",
       "      <th>character_id</th>\n",
       "      <th>location_id</th>\n",
       "      <th>raw_character_text</th>\n",
       "      <th>raw_location_text</th>\n",
       "      <th>spoken_words</th>\n",
       "      <th>...</th>\n",
       "      <th>id_y</th>\n",
       "      <th>title</th>\n",
       "      <th>season</th>\n",
       "      <th>number_in_season</th>\n",
       "      <th>spoken_words_split</th>\n",
       "      <th>number_in_line</th>\n",
       "      <th>n_syllables</th>\n",
       "      <th>n_lines</th>\n",
       "      <th>n_characters</th>\n",
       "      <th>n_locations</th>\n",
       "    </tr>\n",
       "    <tr>\n",
       "      <th>episode_id</th>\n",
       "      <th></th>\n",
       "      <th></th>\n",
       "      <th></th>\n",
       "      <th></th>\n",
       "      <th></th>\n",
       "      <th></th>\n",
       "      <th></th>\n",
       "      <th></th>\n",
       "      <th></th>\n",
       "      <th></th>\n",
       "      <th></th>\n",
       "      <th></th>\n",
       "      <th></th>\n",
       "      <th></th>\n",
       "      <th></th>\n",
       "      <th></th>\n",
       "      <th></th>\n",
       "      <th></th>\n",
       "      <th></th>\n",
       "      <th></th>\n",
       "      <th></th>\n",
       "    </tr>\n",
       "  </thead>\n",
       "  <tbody>\n",
       "    <tr>\n",
       "      <th>53</th>\n",
       "      <td>[16001, 16003, 16005, 16007, 16008]</td>\n",
       "      <td>[105, 107, 109, 111, 112]</td>\n",
       "      <td>[Apu Nahasapeemapetilon: (PLEASED, TO SELF) Oo...</td>\n",
       "      <td>[442000, 460000, 471000, 476000, 485000]</td>\n",
       "      <td>[True, True, True, True, True]</td>\n",
       "      <td>[208.0, 8.0, 90.0, 90.0, 91.0]</td>\n",
       "      <td>[136.0, 1.0, 585.0, 586.0, 586.0]</td>\n",
       "      <td>[Apu Nahasapeemapetilon, Bart Simpson, Eddie, ...</td>\n",
       "      <td>[Kwik-E-Mart, Street, Warehouse District, OUTD...</td>\n",
       "      <td>[Ooh, they used nylon rope this time. It feels...</td>\n",
       "      <td>...</td>\n",
       "      <td>[53, 53, 53, 53, 53]</td>\n",
       "      <td>Separate Vocations</td>\n",
       "      <td>3</td>\n",
       "      <td>18</td>\n",
       "      <td>Almost sensuous Oh, baby Damn boxes He's trap...</td>\n",
       "      <td>[3, 1, 1, 1, 1]</td>\n",
       "      <td>[5, 3, 3, 2, 4]</td>\n",
       "      <td>5</td>\n",
       "      <td>4</td>\n",
       "      <td>4</td>\n",
       "    </tr>\n",
       "    <tr>\n",
       "      <th>417</th>\n",
       "      <td>[118649, 118652, 118654, 118656]</td>\n",
       "      <td>[215, 218, 220, 222]</td>\n",
       "      <td>[Cow In Truck: (ANNOYED GRUNT, THEN) I mean (P...</td>\n",
       "      <td>[1102000, 1107000, 1108000, 1110000]</td>\n",
       "      <td>[True, True, True, True]</td>\n",
       "      <td>[5188.0, 2.0, 2.0, 1.0]</td>\n",
       "      <td>[2231.0, 3421.0, 3422.0, 102.0]</td>\n",
       "      <td>[Cow In Truck, Homer Simpson, Homer Simpson, M...</td>\n",
       "      <td>[Rural Road, TRANSPORT VEHICLE, COW SUIT, Marg...</td>\n",
       "      <td>[I mean, Okay, they bought it., Have you got L...</td>\n",
       "      <td>...</td>\n",
       "      <td>[417, 417, 417, 417]</td>\n",
       "      <td>Apocalypse Cow</td>\n",
       "      <td>19</td>\n",
       "      <td>17</td>\n",
       "      <td>I mean Okay, they bought it Have you got Lou i...</td>\n",
       "      <td>[1, 1, 1, 1]</td>\n",
       "      <td>[2, 5, 7, 3]</td>\n",
       "      <td>4</td>\n",
       "      <td>3</td>\n",
       "      <td>4</td>\n",
       "    </tr>\n",
       "  </tbody>\n",
       "</table>\n",
       "<p>2 rows × 22 columns</p>\n",
       "</div>"
      ],
      "text/plain": [
       "                                           id_x                     number  \\\n",
       "episode_id                                                                   \n",
       "53          [16001, 16003, 16005, 16007, 16008]  [105, 107, 109, 111, 112]   \n",
       "417            [118649, 118652, 118654, 118656]       [215, 218, 220, 222]   \n",
       "\n",
       "                                                     raw_text  \\\n",
       "episode_id                                                      \n",
       "53          [Apu Nahasapeemapetilon: (PLEASED, TO SELF) Oo...   \n",
       "417         [Cow In Truck: (ANNOYED GRUNT, THEN) I mean (P...   \n",
       "\n",
       "                                     timestamp_in_ms  \\\n",
       "episode_id                                             \n",
       "53          [442000, 460000, 471000, 476000, 485000]   \n",
       "417             [1102000, 1107000, 1108000, 1110000]   \n",
       "\n",
       "                             speaking_line                    character_id  \\\n",
       "episode_id                                                                   \n",
       "53          [True, True, True, True, True]  [208.0, 8.0, 90.0, 90.0, 91.0]   \n",
       "417               [True, True, True, True]         [5188.0, 2.0, 2.0, 1.0]   \n",
       "\n",
       "                                  location_id  \\\n",
       "episode_id                                      \n",
       "53          [136.0, 1.0, 585.0, 586.0, 586.0]   \n",
       "417           [2231.0, 3421.0, 3422.0, 102.0]   \n",
       "\n",
       "                                           raw_character_text  \\\n",
       "episode_id                                                      \n",
       "53          [Apu Nahasapeemapetilon, Bart Simpson, Eddie, ...   \n",
       "417         [Cow In Truck, Homer Simpson, Homer Simpson, M...   \n",
       "\n",
       "                                            raw_location_text  \\\n",
       "episode_id                                                      \n",
       "53          [Kwik-E-Mart, Street, Warehouse District, OUTD...   \n",
       "417         [Rural Road, TRANSPORT VEHICLE, COW SUIT, Marg...   \n",
       "\n",
       "                                                 spoken_words  ...  \\\n",
       "episode_id                                                     ...   \n",
       "53          [Ooh, they used nylon rope this time. It feels...  ...   \n",
       "417         [I mean, Okay, they bought it., Have you got L...  ...   \n",
       "\n",
       "                            id_y               title season number_in_season  \\\n",
       "episode_id                                                                     \n",
       "53          [53, 53, 53, 53, 53]  Separate Vocations      3               18   \n",
       "417         [417, 417, 417, 417]      Apocalypse Cow     19               17   \n",
       "\n",
       "                                           spoken_words_split  \\\n",
       "episode_id                                                      \n",
       "53           Almost sensuous Oh, baby Damn boxes He's trap...   \n",
       "417         I mean Okay, they bought it Have you got Lou i...   \n",
       "\n",
       "             number_in_line      n_syllables n_lines n_characters  n_locations  \n",
       "episode_id                                                                      \n",
       "53          [3, 1, 1, 1, 1]  [5, 3, 3, 2, 4]       5            4            4  \n",
       "417            [1, 1, 1, 1]     [2, 5, 7, 3]       4            3            4  \n",
       "\n",
       "[2 rows x 22 columns]"
      ]
     },
     "execution_count": 13,
     "metadata": {},
     "output_type": "execute_result"
    }
   ],
   "source": [
    "# How about locations?\n",
    "haiku_df['n_locations'] = haiku_df.location_id.apply(lambda x: len(set(x)))\n",
    "haiku_df[haiku_df.n_locations == haiku_df.n_locations.max()]"
   ]
  },
  {
   "cell_type": "code",
   "execution_count": 14,
   "metadata": {},
   "outputs": [
    {
     "data": {
      "text/plain": [
       "Text(0.5, 1.0, 'Number of haikus per season')"
      ]
     },
     "execution_count": 14,
     "metadata": {},
     "output_type": "execute_result"
    },
    {
     "data": {
      "image/png": "[encoded data removed]",
      "text/plain": [
       "<Figure size 640x480 with 1 Axes>"
      ]
     },
     "metadata": {},
     "output_type": "display_data"
    }
   ],
   "source": [
    "# Distribution by Season\n",
    "import seaborn as sns\n",
    "sns.set()\n",
    "\n",
    "haiku_df.groupby('season').count()['id_x'].plot()\n",
    "plt.title('Number of haikus per season')"
   ]
  },
  {
   "cell_type": "markdown",
   "metadata": {},
   "source": [
    "Perhaps to your surprise, season 9 is off the charts in terms of haiku content. And there is an overall trend of haikus decreasing over the years. Who knew! Looking at the top episodes in terms of haiku count:"
   ]
  },
  {
   "cell_type": "code",
   "execution_count": 15,
   "metadata": {},
   "outputs": [
    {
     "data": {
      "text/plain": [
       "episode_id  title                                    season  number_in_season\n",
       "9           Life on the Fast Lane                    1       9                   63\n",
       "203         Natural Born Kissers                     9       25                  61\n",
       "255         The Great Money Caper                    12      7                   59\n",
       "206         Bart the Mother                          10      3                   59\n",
       "14          Bart Gets an \"F\"                         2       1                   59\n",
       "129         Who Shot Mr. Burns? (Part Two)           7       1                   58\n",
       "194         Dumbbell Indemnity                       9       16                  57\n",
       "195         Lisa the Simpson                         9       17                  57\n",
       "190         Bart Carny                               9       12                  56\n",
       "196         This Little Wiggy                        9       18                  56\n",
       "33          The War of the Simpsons                  2       20                  54\n",
       "201         King of the Hill                         9       23                  53\n",
       "24          One Fish, Two Fish, Blowfish, Blue Fish  2       11                  53\n",
       "148         Bart on the Road                         7       20                  52\n",
       "228         Brother's Little Helper                  11      2                   52\n",
       "204         Lard of the Dance                        10      1                   51\n",
       "184         Bart Star                                9       6                   51\n",
       "88          Bart's Inner Child                       5       7                   51\n",
       "271         The Parent Rap                           13      2                   51\n",
       "35          Blood Feud                               2       22                  51\n",
       "dtype: int64"
      ]
     },
     "execution_count": 15,
     "metadata": {},
     "output_type": "execute_result"
    }
   ],
   "source": [
    "# Which episode(s) have the most haikus?\n",
    "haiku_df.reset_index().groupby('episode_id')[['title', 'season', 'number_in_season']].value_counts().sort_values(ascending=False).head(20)"
   ]
  },
  {
   "cell_type": "code",
   "execution_count": 16,
   "metadata": {},
   "outputs": [
    {
     "data": {
      "text/plain": [
       "episode_id  title                                  season  number_in_season\n",
       "189         All Singing, All Dancing               9       11                  12\n",
       "337         All's Fair in Oven War                 16      2                   13\n",
       "112         Homer Badman                           6       9                   13\n",
       "286         Gump Roast                             13      17                  13\n",
       "543         The Man Who Grew Too Much              25      13                  14\n",
       "496         Politically Inept, with Homer Simpson  23      10                  14\n",
       "391         Springfield Up                         18      13                  15\n",
       "504         Beware My Cheating Bart                23      18                  15\n",
       "556         Treehouse of Horror XXV                26      4                   15\n",
       "238         The Mansion Family                     11      12                  16\n",
       "372         Million-Dollar Abie                    17      16                  16\n",
       "394         Homerazzi                              18      16                  16\n",
       "284         Blame It on Lisa                       13      15                  16\n",
       "107         Itchy & Scratchy Land                  6       4                   17\n",
       "324         Margical History Tour                  15      11                  17\n",
       "71          Marge vs. the Monorail                 4       12                  17\n",
       "137         Sideshow Bob's Last Gleaming           7       9                   18\n",
       "397         Crook and Ladder                       18      19                  18\n",
       "500         At Long Last Leave                     23      14                  18\n",
       "113         Grampa vs. Sexual Inadequacy           6       10                  18\n",
       "dtype: int64"
      ]
     },
     "execution_count": 16,
     "metadata": {},
     "output_type": "execute_result"
    }
   ],
   "source": [
    "# Which episode(s) have the least haikus?\n",
    "haiku_df.reset_index().groupby('episode_id')[['title', 'season', 'number_in_season']].value_counts().sort_values(ascending=True).head(20)"
   ]
  },
  {
   "cell_type": "code",
   "execution_count": 17,
   "metadata": {},
   "outputs": [
    {
     "name": "stderr",
     "output_type": "stream",
     "text": [
      "b'Skipping line 8084: expected 13 fields, saw 20\\nSkipping line 52607: expected 13 fields, saw 21\\nSkipping line 59910: expected 13 fields, saw 21\\n'\n",
      "b'Skipping line 71801: expected 13 fields, saw 20\\nSkipping line 73539: expected 13 fields, saw 21\\nSkipping line 77230: expected 13 fields, saw 21\\nSkipping line 78953: expected 13 fields, saw 21\\nSkipping line 81138: expected 13 fields, saw 20\\nSkipping line 86746: expected 13 fields, saw 22\\nSkipping line 101154: expected 13 fields, saw 21\\nSkipping line 115438: expected 13 fields, saw 20\\nSkipping line 117573: expected 13 fields, saw 22\\nSkipping line 130610: expected 13 fields, saw 22\\n'\n",
      "b'Skipping line 152970: expected 13 fields, saw 22\\nSkipping line 153017: expected 13 fields, saw 20\\nSkipping line 153018: expected 13 fields, saw 30\\nSkipping line 154080: expected 13 fields, saw 20\\nSkipping line 154082: expected 13 fields, saw 20\\nSkipping line 154084: expected 13 fields, saw 20\\nSkipping line 154086: expected 13 fields, saw 20\\nSkipping line 154089: expected 13 fields, saw 23\\nSkipping line 154165: expected 13 fields, saw 21\\nSkipping line 156872: expected 13 fields, saw 20\\n'\n",
      "100%|███████████████████████████████████████████████████████████████████████| 132089/132089 [00:08<00:00, 15072.84it/s]\n"
     ]
    },
    {
     "data": {
      "text/plain": [
       "<matplotlib.legend.Legend at 0x2d25070e7a0>"
      ]
     },
     "execution_count": 17,
     "metadata": {},
     "output_type": "execute_result"
    },
    {
     "data": {
      "image/png": "[encoded data removed]",
      "text/plain": [
       "<Figure size 640x480 with 1 Axes>"
      ]
     },
     "metadata": {},
     "output_type": "display_data"
    }
   ],
   "source": [
    "base_script = pd.read_csv('dataset/simpsons_script_lines.csv', error_bad_lines=False).dropna(subset=['word_count'])\n",
    "episode_data = pd.read_csv('dataset/simpsons_episodes.csv')[['id', 'title', 'season', 'number_in_season']]\n",
    "base_script = pd.merge(base_script, episode_data, how='left', left_on='episode_id', right_on='id')\n",
    "\n",
    "base_script['n_syllables'] = base_script.spoken_words.progress_apply(simpsons_haiku.count_syllables_line)\n",
    "base_script.groupby('season')['n_syllables'].mean().plot(label='Mean syllables per line')\n",
    "base_script.groupby('season')['word_count'].mean().plot(label='Mean words per line')\n",
    "\n",
    "plt.title('Mean number of words per line by season (Original script)')\n",
    "plt.legend()"
   ]
  },
  {
   "cell_type": "code",
   "execution_count": 18,
   "metadata": {},
   "outputs": [
    {
     "data": {
      "text/plain": [
       "<AxesSubplot:title={'center':'Mean number of syllables per word by season'}, xlabel='season'>"
      ]
     },
     "execution_count": 18,
     "metadata": {},
     "output_type": "execute_result"
    },
    {
     "data": {
      "image/png": "[encoded data removed]",
      "text/plain": [
       "<Figure size 640x480 with 1 Axes>"
      ]
     },
     "metadata": {},
     "output_type": "display_data"
    }
   ],
   "source": [
    "# This the ratio of the two lines above\n",
    "plt.title('Mean number of syllables per word by season')\n",
    "(base_script.groupby('season')['n_syllables'].sum() / base_script.groupby('season')['word_count'].sum()).plot(color='g')"
   ]
  },
  {
   "cell_type": "code",
   "execution_count": 19,
   "metadata": {},
   "outputs": [
    {
     "data": {
      "text/plain": [
       "[17]         1646\n",
       "[9, 8]        471\n",
       "[5, 12]       470\n",
       "[8, 9]        434\n",
       "[10, 7]       432\n",
       "[12, 5]       420\n",
       "[7, 10]       414\n",
       "[11, 6]       376\n",
       "[4, 13]       327\n",
       "[6, 11]       291\n",
       "[3, 14]       237\n",
       "[13, 4]       218\n",
       "[2, 15]       206\n",
       "[15, 2]       203\n",
       "[14, 3]       191\n",
       "[5, 7, 5]     147\n",
       "[16, 1]       133\n",
       "[5, 6, 6]     120\n",
       "[1, 16]       111\n",
       "[7, 5, 5]     110\n",
       "Name: n_syllables, dtype: int64"
      ]
     },
     "execution_count": 19,
     "metadata": {},
     "output_type": "execute_result"
    }
   ],
   "source": [
    "# Distribution of haikus by syllable count of constituent diaglogue lines\n",
    "haiku_df.n_syllables.value_counts().head(20)"
   ]
  },
  {
   "cell_type": "markdown",
   "metadata": {},
   "source": [
    "## Generating haikus\n",
    "This section generates haikus, demonstrating the usage of the `syllable_patterns` and `golden_age` parameters."
   ]
  },
  {
   "cell_type": "code",
   "execution_count": 20,
   "metadata": {},
   "outputs": [
    {
     "name": "stdout",
     "output_type": "stream",
     "text": [
      "[12, 5], S08E16\n",
      "You only get one\n",
      "chance with Edna Krabappel\n",
      "I hope you're happy\n"
     ]
    }
   ],
   "source": [
    "# Higher quality haikus\n",
    "haiku, metadata = simpsons_haiku.generate_haiku(syllable_patterns=[[5,7,5], [17], [5, 12], [12, 5]], golden_age=True)\n",
    "print('{}, S{:02d}E{:02d}'.format(metadata['n_syllables'].values[0], metadata['season'].values[0], metadata['number_in_season'].values[0]))\n",
    "print(haiku)"
   ]
  },
  {
   "cell_type": "code",
   "execution_count": 21,
   "metadata": {},
   "outputs": [
    {
     "name": "stdout",
     "output_type": "stream",
     "text": [
      "[7, 10], S15E02\n",
      "You always go with\n",
      "your gut This time why don't you\n",
      "listen to your brain\n"
     ]
    }
   ],
   "source": [
    "# Medium quality? Two line breaks\n",
    "haiku, metadata = simpsons_haiku.generate_haiku(syllable_patterns=[[9, 8], [8, 9], [10, 7], [7, 10]])\n",
    "print('{}, S{:02d}E{:02d}'.format(metadata['n_syllables'].values[0], metadata['season'].values[0], metadata['number_in_season'].values[0]))\n",
    "print(haiku)"
   ]
  },
  {
   "cell_type": "code",
   "execution_count": 22,
   "metadata": {},
   "outputs": [
    {
     "name": "stdout",
     "output_type": "stream",
     "text": [
      "[5, 5, 7], S13E07\n",
      "Smokers are jokers\n",
      "Smokers are jokers I think\n",
      "I'm gonna throw up\n"
     ]
    }
   ],
   "source": [
    "# Lower quality haikus\n",
    "haiku, metadata = simpsons_haiku.generate_haiku(syllable_patterns=[[5, 5, 7]])\n",
    "print('{}, S{:02d}E{:02d}'.format(metadata['n_syllables'].values[0], metadata['season'].values[0], metadata['number_in_season'].values[0]))\n",
    "print(haiku)"
   ]
  },
  {
   "cell_type": "markdown",
   "metadata": {},
   "source": [
    "## Appendix\n",
    "\n",
    "This section demonstrates some the functionality associated with the SimpsonsTwitterBot class, particularly querying GIFs from the Frinkiac API via the package `compuglobal`, as well as debugging."
   ]
  },
  {
   "cell_type": "code",
   "execution_count": 23,
   "metadata": {},
   "outputs": [],
   "source": [
    "from twitter import SimpsonsTwitterBot\n",
    "\n",
    "# Generate frinkiac gifs and images from a haiku - S4E17 Last Exit to Springfield\n",
    "haiku_query = \"\"\"It doesn't take a\n",
    "                 whiz to see that you're looking \n",
    "                 out for number one\"\"\"\n",
    "\n",
    "simpsons_bot = SimpsonsTwitterBot(\n",
    "        auth_dict=json.load(open('auth.json')), \n",
    "        haiku_df='haiku_df.csv'\n",
    "    )\n",
    "\n",
    "image_url, meme_url, gif_url, mp4_url = simpsons_bot.search_frinkiac(haiku_query, episode_key='S04E17')"
   ]
  },
  {
   "cell_type": "code",
   "execution_count": 24,
   "metadata": {},
   "outputs": [],
   "source": [
    "import compuglobal \n",
    "simpsons = compuglobal.Frinkiac()\n",
    "\n",
    "\n",
    "episode_key = 'S{:02d}E{:02d}'.format(metadata['season'].values[0], metadata['number_in_season'].values[0])\n",
    "\n",
    "gif_url, image_url = None, None\n",
    "search_results = simpsons.search(haiku)\n",
    "for result in search_results:\n",
    "    if result.key == episode_key:\n",
    "        screencap = simpsons.get_screencap(result.key, \n",
    "                                           result.timestamp)\n",
    "        image_url = screencap.get_image_url()\n",
    "        gif_url = screencap.get_gif_url()\n",
    "        \n",
    "        break"
   ]
  },
  {
   "cell_type": "code",
   "execution_count": 25,
   "metadata": {},
   "outputs": [
    {
     "data": {
      "text/plain": [
       "'https://frinkiac.com/img/S13E07/1020353.jpg'"
      ]
     },
     "execution_count": 25,
     "metadata": {},
     "output_type": "execute_result"
    }
   ],
   "source": [
    "image_url"
   ]
  },
  {
   "cell_type": "code",
   "execution_count": 26,
   "metadata": {},
   "outputs": [
    {
     "data": {
      "text/plain": [
       "'https://frinkiac.com/gif/S13E07/1017433/1024315.gif?b64lines=IEJPVEg6IFNtb2tlcnMgYXJlCiBqb2tlcnMhIEkgdGhpbmsgSSdtCiBnb2luZyB0byB0aHJvdyB1cC4='"
      ]
     },
     "execution_count": 26,
     "metadata": {},
     "output_type": "execute_result"
    }
   ],
   "source": [
    "gif_url"
   ]
  },
  {
   "cell_type": "code",
   "execution_count": 27,
   "metadata": {},
   "outputs": [
    {
     "data": {
      "text/plain": [
       "'https://frinkiac.com/mp4/S04E17/824156/831046.mp4?b64lines=IEFORCBJIFdBTlQgVE8gVEFLRSBUSEUKIFBSRVNTVVJFIE9GRi4='"
      ]
     },
     "execution_count": 27,
     "metadata": {},
     "output_type": "execute_result"
    }
   ],
   "source": [
    "mp4_url"
   ]
  },
  {
   "cell_type": "code",
   "execution_count": 56,
   "metadata": {},
   "outputs": [
    {
     "name": "stdout",
     "output_type": "stream",
     "text": [
      "I've 1\n",
      "sold 1\n",
      "momorails 3\n",
      "to 1\n",
      "Brockway 2\n",
      "Odgenville 4\n",
      "and 1\n",
      "North 1\n",
      "Haverbrook 3\n"
     ]
    }
   ],
   "source": [
    "# Check syllable counts\n",
    "# for word in \"Homie you might score more points if you didn't wear that Salamander suit\".split():\n",
    "#     print(word, simpsons_haiku.num_syllables(word))\n",
    "for word in \"I've sold momorails to Brockway Odgenville and North Haverbrook\".split():\n",
    "    print(word, simpsons_haiku.num_syllables(word))\n"
   ]
  },
  {
   "cell_type": "code",
   "execution_count": 29,
   "metadata": {},
   "outputs": [
    {
     "data": {
      "text/plain": [
       "array(['Man, look at all the crap with my face on it. \"Krusty\\'s Personal Swabs?\" What was I thinkin\\'? All these years I shoulda been workin\\' on my act, but I was too busy sellin\\' out. Now I\\'m just a tired old hack.',\n",
       "       \"I don't know. I think this movie was a big mistake. All I do is talk for two hours. I don't shoot anybody! What was I thinking?!\",\n",
       "       'What was I thinking, trying to feel alive? Forget that!',\n",
       "       'Why did I do that? / It sounds so dull and boring. / What was I thinking?'],\n",
       "      dtype=object)"
      ]
     },
     "execution_count": 29,
     "metadata": {},
     "output_type": "execute_result"
    }
   ],
   "source": [
    "# Search script for line - used in debugging\n",
    "def fun(x):\n",
    "    if isinstance(x, float):\n",
    "        return False\n",
    "    else:\n",
    "        return 'What was I think' in x\n",
    "    \n",
    "base_script[base_script.spoken_words.apply(fun)].spoken_words.values"
   ]
  },
  {
   "cell_type": "code",
   "execution_count": 55,
   "metadata": {},
   "outputs": [
    {
     "name": "stdout",
     "output_type": "stream",
     "text": [
      " \n",
      " I'm Genghis Khan  You'll \n",
      "go where I go  Defile \n",
      "what I defile \n",
      " \n",
      "[4, 5, 8]\n",
      " \n",
      "Ordah  Please rise for \n",
      "the a Pledge of Allegiance \n",
      "Get to the money \n",
      " \n",
      "[2, 10, 5]\n",
      " \n",
      " First let's review the \n",
      "minutes from our last meeting \n",
      "Get to the money \n",
      " \n",
      "[12, 5]\n",
      " \n",
      " Sure we could fix up \n",
      "Main Street  We could put all our \n",
      "eggs in one basket \n",
      " \n",
      "[7, 10]\n",
      " \n",
      " We could put all our \n",
      "eggs in one basket Shut up  \n",
      "I wasn't done yet \n",
      " \n",
      "[10, 2, 5]\n",
      " \n",
      " No one knows how he \n",
      "got it and danged if he \n",
      "knows how to use it \n",
      " \n",
      "[17]\n",
      " \n",
      "But Main Street's still all \n",
      "cracked and broken Sorry Mom \n",
      "the mob has spoken \n",
      " \n",
      "[9, 8]\n",
      " \n",
      " Young lady that's the \n",
      "most intelligent question \n",
      "I've ever been asked \n",
      " \n",
      "[17]\n",
      " \n",
      "True or false  You can \n",
      "get mono from riding the \n",
      "monorail Hmmm false \n",
      " \n",
      "[3, 12, 2]\n",
      " \n",
      "I've sold momorails \n",
      "to Brockway Odgenville \n",
      "and North Haverbrook \n",
      " \n",
      "[17]\n",
      " \n",
      "You just better have \n",
      "a damn good conductor I \n",
      "locked my keys in there \n",
      " \n",
      "[11, 6]\n",
      " \n",
      "Krusty why won't you \n",
      "answer my calls  You've never \n",
      "even seen our son \n",
      " \n",
      "[9, 8]\n",
      " \n",
      "All aboard We're too \n",
      "late I shouldn't have stopped for \n",
      "that haircut  Sorry \n",
      " \n",
      "[3, 3, 9, 2]\n",
      " \n",
      "Actually you \n",
      "see the doors on Star Trek were \n",
      "not mechanical \n",
      " \n",
      "[17]\n",
      " \n",
      "I'm trying my best \n",
      "The lever you have pulled    brakes    \n",
      "is not in service \n",
      " \n",
      "[5, 12]\n",
      " \n",
      "Well judging by your \n",
      "husband's cowardly scream 180 \n",
      "miles an hour Ahhh \n",
      " \n",
      "[16, 1]\n",
      " \n",
      " Let's go to town hall \n",
      "Fine  Should we take one car or \n",
      "should I follow you \n",
      " \n",
      "[5, 1, 11]\n"
     ]
    }
   ],
   "source": [
    "for i, row in haiku_df[haiku_df.title == \"Marge vs. the Monorail\"][['spoken_words_split', 'n_syllables']].iterrows():\n",
    "    haiku = row['spoken_words_split']\n",
    "    \n",
    "    words = haiku.replace('-', ' ').replace('/', ' ').split(' ')\n",
    "        \n",
    "    count = 0\n",
    "\n",
    "    haiku_list = ['', '', '']\n",
    "    syllable_list = [5, 12, 17]\n",
    "\n",
    "    i = 0\n",
    "    for word in words:\n",
    "        for char in simpsons_haiku.strip_list:\n",
    "            word = word.replace(char, '')\n",
    "        if word:\n",
    "            n_syllables = simpsons_haiku.num_syllables(word)\n",
    "        else:\n",
    "            n_syllables = 0 \n",
    "        count += n_syllables\n",
    "\n",
    "        if count > syllable_list[i]:\n",
    "            i+=1\n",
    "\n",
    "        haiku_list[i] += word + ' '\n",
    "    print(' ')\n",
    "    print('\\n'.join(haiku_list))\n",
    "    print(' ')\n",
    "    print(row['n_syllables'])"
   ]
  },
  {
   "cell_type": "code",
   "execution_count": null,
   "metadata": {},
   "outputs": [],
   "source": []
  }
 ],
 "metadata": {
  "kernelspec": {
   "display_name": "simpsons_haiku",
   "language": "python",
   "name": "simpsons_haiku"
  },
  "language_info": {
   "codemirror_mode": {
    "name": "ipython",
    "version": 3
   },
   "file_extension": ".py",
   "mimetype": "text/x-python",
   "name": "python",
   "nbconvert_exporter": "python",
   "pygments_lexer": "ipython3",
   "version": "3.10.4"
  },
  "vscode": {
   "interpreter": {
    "hash": "41912a6cf46c57c1e23829e836fc30eac55f9e23ffe2f84c53dcbcab27e0fc59"
   }
  }
 },
 "nbformat": 4,
 "nbformat_minor": 4
}
